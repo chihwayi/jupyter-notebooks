{
 "cells": [
  {
   "cell_type": "code",
   "execution_count": 1,
   "metadata": {},
   "outputs": [],
   "source": [
    "import pandas as pd"
   ]
  },
  {
   "cell_type": "code",
   "execution_count": 2,
   "metadata": {},
   "outputs": [],
   "source": [
    "facilities = pd.read_csv(\"Facilities.csv\")"
   ]
  },
  {
   "cell_type": "code",
   "execution_count": 3,
   "metadata": {
    "scrolled": true
   },
   "outputs": [
    {
     "data": {
      "text/html": [
       "<div>\n",
       "<style scoped>\n",
       "    .dataframe tbody tr th:only-of-type {\n",
       "        vertical-align: middle;\n",
       "    }\n",
       "\n",
       "    .dataframe tbody tr th {\n",
       "        vertical-align: top;\n",
       "    }\n",
       "\n",
       "    .dataframe thead th {\n",
       "        text-align: right;\n",
       "    }\n",
       "</style>\n",
       "<table border=\"1\" class=\"dataframe\">\n",
       "  <thead>\n",
       "    <tr style=\"text-align: right;\">\n",
       "      <th></th>\n",
       "      <th>ProvinceCode</th>\n",
       "      <th>DistrictCode</th>\n",
       "      <th>FacilityCode</th>\n",
       "      <th>FacilityName</th>\n",
       "      <th>FullFacilityCode</th>\n",
       "      <th>FullFacilityCodeDashes</th>\n",
       "    </tr>\n",
       "  </thead>\n",
       "  <tbody>\n",
       "    <tr>\n",
       "      <th>0</th>\n",
       "      <td>0</td>\n",
       "      <td>A</td>\n",
       "      <td>01</td>\n",
       "      <td>Avondale Clinic</td>\n",
       "      <td>000A01</td>\n",
       "      <td>00-0A-01</td>\n",
       "    </tr>\n",
       "    <tr>\n",
       "      <th>1</th>\n",
       "      <td>0</td>\n",
       "      <td>A</td>\n",
       "      <td>02</td>\n",
       "      <td>Arcadia P.C.C.</td>\n",
       "      <td>000A02</td>\n",
       "      <td>00-0A-02</td>\n",
       "    </tr>\n",
       "    <tr>\n",
       "      <th>2</th>\n",
       "      <td>0</td>\n",
       "      <td>A</td>\n",
       "      <td>03</td>\n",
       "      <td>Bank Street P.C.C.</td>\n",
       "      <td>000A03</td>\n",
       "      <td>00-0A-03</td>\n",
       "    </tr>\n",
       "    <tr>\n",
       "      <th>3</th>\n",
       "      <td>0</td>\n",
       "      <td>A</td>\n",
       "      <td>05</td>\n",
       "      <td>Belvedere F.H.C.</td>\n",
       "      <td>000A05</td>\n",
       "      <td>00-0A-05</td>\n",
       "    </tr>\n",
       "    <tr>\n",
       "      <th>4</th>\n",
       "      <td>0</td>\n",
       "      <td>A</td>\n",
       "      <td>06</td>\n",
       "      <td>Borrowdale F.H.C.</td>\n",
       "      <td>000A06</td>\n",
       "      <td>00-0A-06</td>\n",
       "    </tr>\n",
       "  </tbody>\n",
       "</table>\n",
       "</div>"
      ],
      "text/plain": [
       "   ProvinceCode DistrictCode FacilityCode        FacilityName  \\\n",
       "0             0            A           01     Avondale Clinic   \n",
       "1             0            A           02      Arcadia P.C.C.   \n",
       "2             0            A           03  Bank Street P.C.C.   \n",
       "3             0            A           05    Belvedere F.H.C.   \n",
       "4             0            A           06   Borrowdale F.H.C.   \n",
       "\n",
       "  FullFacilityCode FullFacilityCodeDashes  \n",
       "0           000A01               00-0A-01  \n",
       "1           000A02               00-0A-02  \n",
       "2           000A03               00-0A-03  \n",
       "3           000A05               00-0A-05  \n",
       "4           000A06               00-0A-06  "
      ]
     },
     "execution_count": 3,
     "metadata": {},
     "output_type": "execute_result"
    }
   ],
   "source": [
    "facilities.head()"
   ]
  },
  {
   "cell_type": "code",
   "execution_count": 6,
   "metadata": {},
   "outputs": [],
   "source": [
    "searched = facilities.loc[facilities['FullFacilityCode']=='03-03-0A']"
   ]
  },
  {
   "cell_type": "code",
   "execution_count": 7,
   "metadata": {},
   "outputs": [
    {
     "data": {
      "text/html": [
       "<div>\n",
       "<style scoped>\n",
       "    .dataframe tbody tr th:only-of-type {\n",
       "        vertical-align: middle;\n",
       "    }\n",
       "\n",
       "    .dataframe tbody tr th {\n",
       "        vertical-align: top;\n",
       "    }\n",
       "\n",
       "    .dataframe thead th {\n",
       "        text-align: right;\n",
       "    }\n",
       "</style>\n",
       "<table border=\"1\" class=\"dataframe\">\n",
       "  <thead>\n",
       "    <tr style=\"text-align: right;\">\n",
       "      <th></th>\n",
       "      <th>ProvinceCode</th>\n",
       "      <th>DistrictCode</th>\n",
       "      <th>FacilityCode</th>\n",
       "      <th>FacilityName</th>\n",
       "      <th>FullFacilityCode</th>\n",
       "      <th>FullFacilityCodeDashes</th>\n",
       "    </tr>\n",
       "  </thead>\n",
       "  <tbody>\n",
       "  </tbody>\n",
       "</table>\n",
       "</div>"
      ],
      "text/plain": [
       "Empty DataFrame\n",
       "Columns: [ProvinceCode, DistrictCode, FacilityCode, FacilityName, FullFacilityCode, FullFacilityCodeDashes]\n",
       "Index: []"
      ]
     },
     "execution_count": 7,
     "metadata": {},
     "output_type": "execute_result"
    }
   ],
   "source": [
    "searched"
   ]
  },
  {
   "cell_type": "code",
   "execution_count": 6,
   "metadata": {},
   "outputs": [
    {
     "name": "stderr",
     "output_type": "stream",
     "text": [
      "/home/ignatious/anaconda3/lib/python3.7/site-packages/ipykernel_launcher.py:1: SettingWithCopyWarning: \n",
      "A value is trying to be set on a copy of a slice from a DataFrame.\n",
      "Try using .loc[row_indexer,col_indexer] = value instead\n",
      "\n",
      "See the caveats in the documentation: https://pandas.pydata.org/pandas-docs/stable/user_guide/indexing.html#returning-a-view-versus-a-copy\n",
      "  \"\"\"Entry point for launching an IPython kernel.\n"
     ]
    }
   ],
   "source": [
    "searched['FullFacilityCodeDashes'] = searched['FullFacilityCodeDashes'].map(lambda x: x.lstrip('').rstrip('1'))"
   ]
  },
  {
   "cell_type": "code",
   "execution_count": 7,
   "metadata": {},
   "outputs": [
    {
     "data": {
      "text/html": [
       "<div>\n",
       "<style scoped>\n",
       "    .dataframe tbody tr th:only-of-type {\n",
       "        vertical-align: middle;\n",
       "    }\n",
       "\n",
       "    .dataframe tbody tr th {\n",
       "        vertical-align: top;\n",
       "    }\n",
       "\n",
       "    .dataframe thead th {\n",
       "        text-align: right;\n",
       "    }\n",
       "</style>\n",
       "<table border=\"1\" class=\"dataframe\">\n",
       "  <thead>\n",
       "    <tr style=\"text-align: right;\">\n",
       "      <th></th>\n",
       "      <th>ProvinceCode</th>\n",
       "      <th>DistrictCode</th>\n",
       "      <th>FacilityCode</th>\n",
       "      <th>FacilityName</th>\n",
       "      <th>FullFacilityCode</th>\n",
       "      <th>FullFacilityCodeDashes</th>\n",
       "    </tr>\n",
       "  </thead>\n",
       "  <tbody>\n",
       "    <tr>\n",
       "      <th>0</th>\n",
       "      <td>0</td>\n",
       "      <td>A</td>\n",
       "      <td>01</td>\n",
       "      <td>Avondale Clinic</td>\n",
       "      <td>000A01</td>\n",
       "      <td>00-0A-0</td>\n",
       "    </tr>\n",
       "  </tbody>\n",
       "</table>\n",
       "</div>"
      ],
      "text/plain": [
       "   ProvinceCode DistrictCode FacilityCode     FacilityName FullFacilityCode  \\\n",
       "0             0            A           01  Avondale Clinic           000A01   \n",
       "\n",
       "  FullFacilityCodeDashes  \n",
       "0                00-0A-0  "
      ]
     },
     "execution_count": 7,
     "metadata": {},
     "output_type": "execute_result"
    }
   ],
   "source": [
    "searched"
   ]
  },
  {
   "cell_type": "code",
   "execution_count": null,
   "metadata": {},
   "outputs": [],
   "source": []
  }
 ],
 "metadata": {
  "kernelspec": {
   "display_name": "Python 3",
   "language": "python",
   "name": "python3"
  },
  "language_info": {
   "codemirror_mode": {
    "name": "ipython",
    "version": 3
   },
   "file_extension": ".py",
   "mimetype": "text/x-python",
   "name": "python",
   "nbconvert_exporter": "python",
   "pygments_lexer": "ipython3",
   "version": "3.7.6"
  }
 },
 "nbformat": 4,
 "nbformat_minor": 4
}
