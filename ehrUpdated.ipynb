{
 "cells": [
  {
   "cell_type": "code",
   "execution_count": 385,
   "metadata": {},
   "outputs": [],
   "source": [
    "from sqlalchemy import create_engine\n",
    "import pymysql\n",
    "import pandas as pd\n",
    "from datetime import datetime\n",
    "from sqlalchemy import create_engine\n",
    "import mysql.connector "
   ]
  },
  {
   "cell_type": "code",
   "execution_count": 386,
   "metadata": {},
   "outputs": [],
   "source": [
    "sqlEngine       = create_engine('mysql+pymysql://root:@127.0.0.1:3307/consultation')\n",
    "dbConnection    = sqlEngine.connect()"
   ]
  },
  {
   "cell_type": "code",
   "execution_count": 387,
   "metadata": {},
   "outputs": [],
   "source": [
    "sqlEngine       = create_engine('mysql+pymysql://root:@127.0.0.1:3307/client')\n",
    "dbConnection1    = sqlEngine.connect()"
   ]
  },
  {
   "cell_type": "code",
   "execution_count": 388,
   "metadata": {},
   "outputs": [],
   "source": [
    "sqlEngine       = create_engine('mysql+pymysql://root:@127.0.0.1:3307/facility')\n",
    "dbConnection2   = sqlEngine.connect()"
   ]
  },
  {
   "cell_type": "code",
   "execution_count": 389,
   "metadata": {
    "scrolled": false
   },
   "outputs": [],
   "source": [
    "data = pd.read_sql(\"select art_number,person_id,visit_type,tb_status,state from art a join art_current_status c on a.art_id = c.art_id join art_visit d on a.art_id=d.art_id\", dbConnection)"
   ]
  },
  {
   "cell_type": "code",
   "execution_count": 390,
   "metadata": {},
   "outputs": [],
   "source": [
    "med = pd.read_sql(\"SELECT person_id, date, medicine FROM consultation.person_medication\", dbConnection)"
   ]
  },
  {
   "cell_type": "code",
   "execution_count": 391,
   "metadata": {},
   "outputs": [
    {
     "data": {
      "text/html": [
       "<div>\n",
       "<style scoped>\n",
       "    .dataframe tbody tr th:only-of-type {\n",
       "        vertical-align: middle;\n",
       "    }\n",
       "\n",
       "    .dataframe tbody tr th {\n",
       "        vertical-align: top;\n",
       "    }\n",
       "\n",
       "    .dataframe thead th {\n",
       "        text-align: right;\n",
       "    }\n",
       "</style>\n",
       "<table border=\"1\" class=\"dataframe\">\n",
       "  <thead>\n",
       "    <tr style=\"text-align: right;\">\n",
       "      <th></th>\n",
       "      <th>person_id</th>\n",
       "      <th>date</th>\n",
       "      <th>medicine</th>\n",
       "    </tr>\n",
       "  </thead>\n",
       "  <tbody>\n",
       "    <tr>\n",
       "      <th>0</th>\n",
       "      <td>c2453634-9dd4-4990-a0ad-a52b27ef2087</td>\n",
       "      <td>2012-04-12</td>\n",
       "      <td>TENOLAM E(TENOFOVIR DISOPROXIL LAMIVUDINE AND ...</td>\n",
       "    </tr>\n",
       "    <tr>\n",
       "      <th>1</th>\n",
       "      <td>53061d09-0ea9-43b6-ba37-4df9b5e12f14</td>\n",
       "      <td>2021-07-13</td>\n",
       "      <td>RIFAMPICIN PYRAZINAMIDE ETHAMBUTOL AND ISONIAZID</td>\n",
       "    </tr>\n",
       "    <tr>\n",
       "      <th>2</th>\n",
       "      <td>8443cb42-86c4-4520-b014-1d69e546d4ec</td>\n",
       "      <td>2020-12-14</td>\n",
       "      <td>CEFTRIAXONE</td>\n",
       "    </tr>\n",
       "    <tr>\n",
       "      <th>3</th>\n",
       "      <td>c2453634-9dd4-4990-a0ad-a52b27ef2087</td>\n",
       "      <td>2021-06-09</td>\n",
       "      <td>CEFTRIAXONE</td>\n",
       "    </tr>\n",
       "    <tr>\n",
       "      <th>4</th>\n",
       "      <td>1511df15-4054-4dd9-b89c-aa37c5d5cbca</td>\n",
       "      <td>2021-07-16</td>\n",
       "      <td>CLOFAZIMINE</td>\n",
       "    </tr>\n",
       "  </tbody>\n",
       "</table>\n",
       "</div>"
      ],
      "text/plain": [
       "                              person_id        date  \\\n",
       "0  c2453634-9dd4-4990-a0ad-a52b27ef2087  2012-04-12   \n",
       "1  53061d09-0ea9-43b6-ba37-4df9b5e12f14  2021-07-13   \n",
       "2  8443cb42-86c4-4520-b014-1d69e546d4ec  2020-12-14   \n",
       "3  c2453634-9dd4-4990-a0ad-a52b27ef2087  2021-06-09   \n",
       "4  1511df15-4054-4dd9-b89c-aa37c5d5cbca  2021-07-16   \n",
       "\n",
       "                                            medicine  \n",
       "0  TENOLAM E(TENOFOVIR DISOPROXIL LAMIVUDINE AND ...  \n",
       "1   RIFAMPICIN PYRAZINAMIDE ETHAMBUTOL AND ISONIAZID  \n",
       "2                                        CEFTRIAXONE  \n",
       "3                                        CEFTRIAXONE  \n",
       "4                                        CLOFAZIMINE  "
      ]
     },
     "execution_count": 391,
     "metadata": {},
     "output_type": "execute_result"
    }
   ],
   "source": [
    "med.head()"
   ]
  },
  {
   "cell_type": "code",
   "execution_count": 392,
   "metadata": {},
   "outputs": [],
   "source": [
    "ArtID = pd.read_sql(\"select art_id,person_id from art\",dbConnection)"
   ]
  },
  {
   "cell_type": "code",
   "execution_count": 393,
   "metadata": {},
   "outputs": [],
   "source": [
    "dataWithArtID = data.merge(ArtID, on=\"person_id\")"
   ]
  },
  {
   "cell_type": "code",
   "execution_count": 394,
   "metadata": {},
   "outputs": [
    {
     "data": {
      "text/html": [
       "<div>\n",
       "<style scoped>\n",
       "    .dataframe tbody tr th:only-of-type {\n",
       "        vertical-align: middle;\n",
       "    }\n",
       "\n",
       "    .dataframe tbody tr th {\n",
       "        vertical-align: top;\n",
       "    }\n",
       "\n",
       "    .dataframe thead th {\n",
       "        text-align: right;\n",
       "    }\n",
       "</style>\n",
       "<table border=\"1\" class=\"dataframe\">\n",
       "  <thead>\n",
       "    <tr style=\"text-align: right;\">\n",
       "      <th></th>\n",
       "      <th>art_number</th>\n",
       "      <th>person_id</th>\n",
       "      <th>visit_type</th>\n",
       "      <th>tb_status</th>\n",
       "      <th>state</th>\n",
       "      <th>art_id</th>\n",
       "    </tr>\n",
       "  </thead>\n",
       "  <tbody>\n",
       "    <tr>\n",
       "      <th>0</th>\n",
       "      <td>09-OA-27-2014-A-00342</td>\n",
       "      <td>41585661-cf06-48f8-9e65-582bfa32b99f</td>\n",
       "      <td>None</td>\n",
       "      <td>None</td>\n",
       "      <td>CONTINUE</td>\n",
       "      <td>2c9384af-8eed-4e90-bf00-331b07060461</td>\n",
       "    </tr>\n",
       "    <tr>\n",
       "      <th>1</th>\n",
       "      <td>07-06-28-2020-A-00080</td>\n",
       "      <td>8443cb42-86c4-4520-b014-1d69e546d4ec</td>\n",
       "      <td>None</td>\n",
       "      <td>None</td>\n",
       "      <td>CONTINUE</td>\n",
       "      <td>1ad32d95-4644-4ef5-bd08-c12472e96d4a</td>\n",
       "    </tr>\n",
       "  </tbody>\n",
       "</table>\n",
       "</div>"
      ],
      "text/plain": [
       "              art_number                             person_id visit_type  \\\n",
       "0  09-OA-27-2014-A-00342  41585661-cf06-48f8-9e65-582bfa32b99f       None   \n",
       "1  07-06-28-2020-A-00080  8443cb42-86c4-4520-b014-1d69e546d4ec       None   \n",
       "\n",
       "  tb_status     state                                art_id  \n",
       "0      None  CONTINUE  2c9384af-8eed-4e90-bf00-331b07060461  \n",
       "1      None  CONTINUE  1ad32d95-4644-4ef5-bd08-c12472e96d4a  "
      ]
     },
     "execution_count": 394,
     "metadata": {},
     "output_type": "execute_result"
    }
   ],
   "source": [
    "dataWithArtID.head()"
   ]
  },
  {
   "cell_type": "code",
   "execution_count": 395,
   "metadata": {},
   "outputs": [],
   "source": [
    "visitDate = pd.read_sql(\"select art_id,state,date from art_current_status\",dbConnection)"
   ]
  },
  {
   "cell_type": "code",
   "execution_count": 396,
   "metadata": {},
   "outputs": [],
   "source": [
    "DatedDatas = pd.merge(dataWithArtID,visitDate, how='left',left_on=['art_id','state'],right_on=['art_id','state'])"
   ]
  },
  {
   "cell_type": "code",
   "execution_count": 397,
   "metadata": {},
   "outputs": [],
   "source": [
    "DatedData  = pd.merge(DatedDatas,med, how='left',left_on=['person_id','date'],right_on=['person_id','date'])"
   ]
  },
  {
   "cell_type": "code",
   "execution_count": 398,
   "metadata": {},
   "outputs": [
    {
     "data": {
      "text/html": [
       "<div>\n",
       "<style scoped>\n",
       "    .dataframe tbody tr th:only-of-type {\n",
       "        vertical-align: middle;\n",
       "    }\n",
       "\n",
       "    .dataframe tbody tr th {\n",
       "        vertical-align: top;\n",
       "    }\n",
       "\n",
       "    .dataframe thead th {\n",
       "        text-align: right;\n",
       "    }\n",
       "</style>\n",
       "<table border=\"1\" class=\"dataframe\">\n",
       "  <thead>\n",
       "    <tr style=\"text-align: right;\">\n",
       "      <th></th>\n",
       "      <th>art_number</th>\n",
       "      <th>person_id</th>\n",
       "      <th>visit_type</th>\n",
       "      <th>tb_status</th>\n",
       "      <th>state</th>\n",
       "      <th>art_id</th>\n",
       "      <th>date</th>\n",
       "      <th>medicine</th>\n",
       "    </tr>\n",
       "  </thead>\n",
       "  <tbody>\n",
       "    <tr>\n",
       "      <th>0</th>\n",
       "      <td>09-OA-27-2014-A-00342</td>\n",
       "      <td>41585661-cf06-48f8-9e65-582bfa32b99f</td>\n",
       "      <td>None</td>\n",
       "      <td>None</td>\n",
       "      <td>CONTINUE</td>\n",
       "      <td>2c9384af-8eed-4e90-bf00-331b07060461</td>\n",
       "      <td>2020-06-30</td>\n",
       "      <td>NaN</td>\n",
       "    </tr>\n",
       "    <tr>\n",
       "      <th>1</th>\n",
       "      <td>07-06-28-2020-A-00080</td>\n",
       "      <td>8443cb42-86c4-4520-b014-1d69e546d4ec</td>\n",
       "      <td>None</td>\n",
       "      <td>None</td>\n",
       "      <td>CONTINUE</td>\n",
       "      <td>1ad32d95-4644-4ef5-bd08-c12472e96d4a</td>\n",
       "      <td>2020-10-06</td>\n",
       "      <td>NaN</td>\n",
       "    </tr>\n",
       "  </tbody>\n",
       "</table>\n",
       "</div>"
      ],
      "text/plain": [
       "              art_number                             person_id visit_type  \\\n",
       "0  09-OA-27-2014-A-00342  41585661-cf06-48f8-9e65-582bfa32b99f       None   \n",
       "1  07-06-28-2020-A-00080  8443cb42-86c4-4520-b014-1d69e546d4ec       None   \n",
       "\n",
       "  tb_status     state                                art_id        date  \\\n",
       "0      None  CONTINUE  2c9384af-8eed-4e90-bf00-331b07060461  2020-06-30   \n",
       "1      None  CONTINUE  1ad32d95-4644-4ef5-bd08-c12472e96d4a  2020-10-06   \n",
       "\n",
       "  medicine  \n",
       "0      NaN  \n",
       "1      NaN  "
      ]
     },
     "execution_count": 398,
     "metadata": {},
     "output_type": "execute_result"
    }
   ],
   "source": [
    "DatedData.head()"
   ]
  },
  {
   "cell_type": "code",
   "execution_count": 399,
   "metadata": {},
   "outputs": [],
   "source": [
    "client = pd.read_sql(\"select person_id,firstname,lastname,birthdate,sex from person\", dbConnection1);"
   ]
  },
  {
   "cell_type": "code",
   "execution_count": 400,
   "metadata": {},
   "outputs": [],
   "source": [
    "merged = DatedData.merge(client, on=\"person_id\")"
   ]
  },
  {
   "cell_type": "code",
   "execution_count": 401,
   "metadata": {},
   "outputs": [],
   "source": [
    "trimmedArtNumbers = data['art_number'].str[:8]"
   ]
  },
  {
   "cell_type": "code",
   "execution_count": 402,
   "metadata": {},
   "outputs": [],
   "source": [
    "out = trimmedArtNumbers.value_counts().index"
   ]
  },
  {
   "cell_type": "code",
   "execution_count": 403,
   "metadata": {},
   "outputs": [],
   "source": [
    "s = out[0].replace('-','') #replace s with w then on 90 replace w with s"
   ]
  },
  {
   "cell_type": "code",
   "execution_count": 404,
   "metadata": {},
   "outputs": [],
   "source": [
    "w = \"ZW000A42\"  #when site name is not found force with the name of the database ie replace w with s"
   ]
  },
  {
   "cell_type": "code",
   "execution_count": 405,
   "metadata": {},
   "outputs": [],
   "source": [
    "facilityConfig = pd.read_sql(\"select * from facility a join district b on a.district_id = b.district_id join province c on a.province_id = c.province_id\",dbConnection2)"
   ]
  },
  {
   "cell_type": "code",
   "execution_count": 406,
   "metadata": {},
   "outputs": [
    {
     "data": {
      "text/html": [
       "<div>\n",
       "<style scoped>\n",
       "    .dataframe tbody tr th:only-of-type {\n",
       "        vertical-align: middle;\n",
       "    }\n",
       "\n",
       "    .dataframe tbody tr th {\n",
       "        vertical-align: top;\n",
       "    }\n",
       "\n",
       "    .dataframe thead th {\n",
       "        text-align: right;\n",
       "    }\n",
       "</style>\n",
       "<table border=\"1\" class=\"dataframe\">\n",
       "  <thead>\n",
       "    <tr style=\"text-align: right;\">\n",
       "      <th></th>\n",
       "      <th>facility_id</th>\n",
       "      <th>district_id</th>\n",
       "      <th>name</th>\n",
       "      <th>province_id</th>\n",
       "      <th>dhis_code</th>\n",
       "      <th>longitude</th>\n",
       "      <th>latitude</th>\n",
       "      <th>district_id</th>\n",
       "      <th>name</th>\n",
       "      <th>province_id</th>\n",
       "      <th>province_id</th>\n",
       "      <th>name</th>\n",
       "    </tr>\n",
       "  </thead>\n",
       "  <tbody>\n",
       "    <tr>\n",
       "      <th>0</th>\n",
       "      <td>ZW000A01</td>\n",
       "      <td>ZW000A</td>\n",
       "      <td>Avondale Clinic</td>\n",
       "      <td>ZW00</td>\n",
       "      <td>LixFsP9YMT9</td>\n",
       "      <td>31.0291</td>\n",
       "      <td>-17.7883</td>\n",
       "      <td>ZW000A</td>\n",
       "      <td>Harare District</td>\n",
       "      <td>ZW00</td>\n",
       "      <td>ZW00</td>\n",
       "      <td>Harare Province</td>\n",
       "    </tr>\n",
       "    <tr>\n",
       "      <th>1</th>\n",
       "      <td>ZW000A02</td>\n",
       "      <td>ZW000A</td>\n",
       "      <td>Arcadia Primary Care Clinic</td>\n",
       "      <td>ZW00</td>\n",
       "      <td>OBXlKhRkRIb</td>\n",
       "      <td>31.0546</td>\n",
       "      <td>-17.8468</td>\n",
       "      <td>ZW000A</td>\n",
       "      <td>Harare District</td>\n",
       "      <td>ZW00</td>\n",
       "      <td>ZW00</td>\n",
       "      <td>Harare Province</td>\n",
       "    </tr>\n",
       "    <tr>\n",
       "      <th>2</th>\n",
       "      <td>ZW000A05</td>\n",
       "      <td>ZW000A</td>\n",
       "      <td>Belvedere FHS</td>\n",
       "      <td>ZW00</td>\n",
       "      <td>UiPBTlrwap5</td>\n",
       "      <td>31.0243</td>\n",
       "      <td>-17.8200</td>\n",
       "      <td>ZW000A</td>\n",
       "      <td>Harare District</td>\n",
       "      <td>ZW00</td>\n",
       "      <td>ZW00</td>\n",
       "      <td>Harare Province</td>\n",
       "    </tr>\n",
       "    <tr>\n",
       "      <th>3</th>\n",
       "      <td>ZW000A07</td>\n",
       "      <td>ZW000A</td>\n",
       "      <td>Borrowdale Primary Care Clinic</td>\n",
       "      <td>ZW00</td>\n",
       "      <td>WaYcDd2d9pk</td>\n",
       "      <td>0.0000</td>\n",
       "      <td>0.0000</td>\n",
       "      <td>ZW000A</td>\n",
       "      <td>Harare District</td>\n",
       "      <td>ZW00</td>\n",
       "      <td>ZW00</td>\n",
       "      <td>Harare Province</td>\n",
       "    </tr>\n",
       "    <tr>\n",
       "      <th>4</th>\n",
       "      <td>ZW000A08</td>\n",
       "      <td>ZW000A</td>\n",
       "      <td>Braeside FHS</td>\n",
       "      <td>ZW00</td>\n",
       "      <td>t0hAcwHFHPq</td>\n",
       "      <td>31.0657</td>\n",
       "      <td>-17.8399</td>\n",
       "      <td>ZW000A</td>\n",
       "      <td>Harare District</td>\n",
       "      <td>ZW00</td>\n",
       "      <td>ZW00</td>\n",
       "      <td>Harare Province</td>\n",
       "    </tr>\n",
       "    <tr>\n",
       "      <th>...</th>\n",
       "      <td>...</td>\n",
       "      <td>...</td>\n",
       "      <td>...</td>\n",
       "      <td>...</td>\n",
       "      <td>...</td>\n",
       "      <td>...</td>\n",
       "      <td>...</td>\n",
       "      <td>...</td>\n",
       "      <td>...</td>\n",
       "      <td>...</td>\n",
       "      <td>...</td>\n",
       "      <td>...</td>\n",
       "    </tr>\n",
       "    <tr>\n",
       "      <th>1523</th>\n",
       "      <td>ZW090A27</td>\n",
       "      <td>ZW090A</td>\n",
       "      <td>Cowdray Park</td>\n",
       "      <td>ZW09</td>\n",
       "      <td>bCj2JfVpDwN</td>\n",
       "      <td>28.5087</td>\n",
       "      <td>-20.0798</td>\n",
       "      <td>ZW090A</td>\n",
       "      <td>Bulawayo District</td>\n",
       "      <td>ZW09</td>\n",
       "      <td>ZW09</td>\n",
       "      <td>Bulawayo Province</td>\n",
       "    </tr>\n",
       "    <tr>\n",
       "      <th>1524</th>\n",
       "      <td>ZW090A31</td>\n",
       "      <td>ZW090A</td>\n",
       "      <td>24-Hr Medical centre</td>\n",
       "      <td>ZW09</td>\n",
       "      <td>VWMkdfPIFPU</td>\n",
       "      <td>28.5277</td>\n",
       "      <td>-20.1959</td>\n",
       "      <td>ZW090A</td>\n",
       "      <td>Bulawayo District</td>\n",
       "      <td>ZW09</td>\n",
       "      <td>ZW09</td>\n",
       "      <td>Bulawayo Province</td>\n",
       "    </tr>\n",
       "    <tr>\n",
       "      <th>1525</th>\n",
       "      <td>ZW090A33</td>\n",
       "      <td>ZW090A</td>\n",
       "      <td>Maqhawe</td>\n",
       "      <td>ZW09</td>\n",
       "      <td>RPASqynqwCM</td>\n",
       "      <td>28.5009</td>\n",
       "      <td>-20.1825</td>\n",
       "      <td>ZW090A</td>\n",
       "      <td>Bulawayo District</td>\n",
       "      <td>ZW09</td>\n",
       "      <td>ZW09</td>\n",
       "      <td>Bulawayo Province</td>\n",
       "    </tr>\n",
       "    <tr>\n",
       "      <th>1526</th>\n",
       "      <td>ZW090A35</td>\n",
       "      <td>ZW090A</td>\n",
       "      <td>Pumula South</td>\n",
       "      <td>ZW09</td>\n",
       "      <td>Ta5WU3NkNI0</td>\n",
       "      <td>28.4789</td>\n",
       "      <td>-20.1622</td>\n",
       "      <td>ZW090A</td>\n",
       "      <td>Bulawayo District</td>\n",
       "      <td>ZW09</td>\n",
       "      <td>ZW09</td>\n",
       "      <td>Bulawayo Province</td>\n",
       "    </tr>\n",
       "    <tr>\n",
       "      <th>1527</th>\n",
       "      <td>ZW090A61</td>\n",
       "      <td>ZW090A</td>\n",
       "      <td>Khami Road Pharmacy</td>\n",
       "      <td>ZW03</td>\n",
       "      <td>None</td>\n",
       "      <td>NaN</td>\n",
       "      <td>NaN</td>\n",
       "      <td>ZW090A</td>\n",
       "      <td>Bulawayo District</td>\n",
       "      <td>ZW09</td>\n",
       "      <td>ZW03</td>\n",
       "      <td>Mashonaland East Province</td>\n",
       "    </tr>\n",
       "  </tbody>\n",
       "</table>\n",
       "<p>1528 rows × 12 columns</p>\n",
       "</div>"
      ],
      "text/plain": [
       "     facility_id district_id                            name province_id  \\\n",
       "0       ZW000A01      ZW000A                 Avondale Clinic        ZW00   \n",
       "1       ZW000A02      ZW000A     Arcadia Primary Care Clinic        ZW00   \n",
       "2       ZW000A05      ZW000A                   Belvedere FHS        ZW00   \n",
       "3       ZW000A07      ZW000A  Borrowdale Primary Care Clinic        ZW00   \n",
       "4       ZW000A08      ZW000A                    Braeside FHS        ZW00   \n",
       "...          ...         ...                             ...         ...   \n",
       "1523    ZW090A27      ZW090A                    Cowdray Park        ZW09   \n",
       "1524    ZW090A31      ZW090A            24-Hr Medical centre        ZW09   \n",
       "1525    ZW090A33      ZW090A                         Maqhawe        ZW09   \n",
       "1526    ZW090A35      ZW090A                    Pumula South        ZW09   \n",
       "1527    ZW090A61      ZW090A             Khami Road Pharmacy        ZW03   \n",
       "\n",
       "        dhis_code  longitude  latitude district_id               name  \\\n",
       "0     LixFsP9YMT9    31.0291  -17.7883      ZW000A    Harare District   \n",
       "1     OBXlKhRkRIb    31.0546  -17.8468      ZW000A    Harare District   \n",
       "2     UiPBTlrwap5    31.0243  -17.8200      ZW000A    Harare District   \n",
       "3     WaYcDd2d9pk     0.0000    0.0000      ZW000A    Harare District   \n",
       "4     t0hAcwHFHPq    31.0657  -17.8399      ZW000A    Harare District   \n",
       "...           ...        ...       ...         ...                ...   \n",
       "1523  bCj2JfVpDwN    28.5087  -20.0798      ZW090A  Bulawayo District   \n",
       "1524  VWMkdfPIFPU    28.5277  -20.1959      ZW090A  Bulawayo District   \n",
       "1525  RPASqynqwCM    28.5009  -20.1825      ZW090A  Bulawayo District   \n",
       "1526  Ta5WU3NkNI0    28.4789  -20.1622      ZW090A  Bulawayo District   \n",
       "1527         None        NaN       NaN      ZW090A  Bulawayo District   \n",
       "\n",
       "     province_id province_id                       name  \n",
       "0           ZW00        ZW00            Harare Province  \n",
       "1           ZW00        ZW00            Harare Province  \n",
       "2           ZW00        ZW00            Harare Province  \n",
       "3           ZW00        ZW00            Harare Province  \n",
       "4           ZW00        ZW00            Harare Province  \n",
       "...          ...         ...                        ...  \n",
       "1523        ZW09        ZW09          Bulawayo Province  \n",
       "1524        ZW09        ZW09          Bulawayo Province  \n",
       "1525        ZW09        ZW09          Bulawayo Province  \n",
       "1526        ZW09        ZW09          Bulawayo Province  \n",
       "1527        ZW09        ZW03  Mashonaland East Province  \n",
       "\n",
       "[1528 rows x 12 columns]"
      ]
     },
     "execution_count": 406,
     "metadata": {},
     "output_type": "execute_result"
    }
   ],
   "source": [
    "facilityConfig"
   ]
  },
  {
   "cell_type": "code",
   "execution_count": 407,
   "metadata": {},
   "outputs": [],
   "source": [
    "facilityConfig.drop(['district_id','province_id','dhis_code','longitude','latitude'], axis=1,inplace=True)"
   ]
  },
  {
   "cell_type": "code",
   "execution_count": 408,
   "metadata": {},
   "outputs": [],
   "source": [
    "facilityConf = facilityConfig[facilityConfig['facility_id'].str.contains(s)]"
   ]
  },
  {
   "cell_type": "code",
   "execution_count": 409,
   "metadata": {},
   "outputs": [],
   "source": [
    "province = facilityConf['facility_id'].str[2:4]"
   ]
  },
  {
   "cell_type": "code",
   "execution_count": 410,
   "metadata": {},
   "outputs": [],
   "source": [
    "district = facilityConf['facility_id'].str[4:6]"
   ]
  },
  {
   "cell_type": "code",
   "execution_count": 411,
   "metadata": {},
   "outputs": [],
   "source": [
    "faci = facilityConf['facility_id'].str[6:]"
   ]
  },
  {
   "cell_type": "code",
   "execution_count": 412,
   "metadata": {},
   "outputs": [],
   "source": [
    "facilityConf['FacilityCode'] = faci"
   ]
  },
  {
   "cell_type": "code",
   "execution_count": 413,
   "metadata": {},
   "outputs": [],
   "source": [
    "facilityConf['DistrictCode'] = district"
   ]
  },
  {
   "cell_type": "code",
   "execution_count": 414,
   "metadata": {},
   "outputs": [],
   "source": [
    "facilityConf['ProvinceCode'] = province"
   ]
  },
  {
   "cell_type": "code",
   "execution_count": 415,
   "metadata": {},
   "outputs": [],
   "source": [
    "facilityConf.columns.values[1] = \"FacilityName\""
   ]
  },
  {
   "cell_type": "code",
   "execution_count": 416,
   "metadata": {},
   "outputs": [],
   "source": [
    "facilityConf.columns.values[2] = \"DistrictName\""
   ]
  },
  {
   "cell_type": "code",
   "execution_count": 417,
   "metadata": {},
   "outputs": [],
   "source": [
    "facilityConf.columns.values[3] = \"ProvinceName\""
   ]
  },
  {
   "cell_type": "code",
   "execution_count": 418,
   "metadata": {},
   "outputs": [
    {
     "data": {
      "text/html": [
       "<div>\n",
       "<style scoped>\n",
       "    .dataframe tbody tr th:only-of-type {\n",
       "        vertical-align: middle;\n",
       "    }\n",
       "\n",
       "    .dataframe tbody tr th {\n",
       "        vertical-align: top;\n",
       "    }\n",
       "\n",
       "    .dataframe thead th {\n",
       "        text-align: right;\n",
       "    }\n",
       "</style>\n",
       "<table border=\"1\" class=\"dataframe\">\n",
       "  <thead>\n",
       "    <tr style=\"text-align: right;\">\n",
       "      <th></th>\n",
       "      <th>facility_id</th>\n",
       "      <th>FacilityName</th>\n",
       "      <th>DistrictName</th>\n",
       "      <th>ProvinceName</th>\n",
       "      <th>FacilityCode</th>\n",
       "      <th>DistrictCode</th>\n",
       "      <th>ProvinceCode</th>\n",
       "    </tr>\n",
       "  </thead>\n",
       "  <tbody>\n",
       "  </tbody>\n",
       "</table>\n",
       "</div>"
      ],
      "text/plain": [
       "Empty DataFrame\n",
       "Columns: [facility_id, FacilityName, DistrictName, ProvinceName, FacilityCode, DistrictCode, ProvinceCode]\n",
       "Index: []"
      ]
     },
     "execution_count": 418,
     "metadata": {},
     "output_type": "execute_result"
    }
   ],
   "source": [
    "facilityConf"
   ]
  },
  {
   "cell_type": "code",
   "execution_count": 419,
   "metadata": {},
   "outputs": [],
   "source": [
    "facility = facilityConf"
   ]
  },
  {
   "cell_type": "code",
   "execution_count": 420,
   "metadata": {},
   "outputs": [
    {
     "ename": "IndexError",
     "evalue": "index 0 is out of bounds for axis 0 with size 0",
     "output_type": "error",
     "traceback": [
      "\u001b[0;31m---------------------------------------------------------------------------\u001b[0m",
      "\u001b[0;31mIndexError\u001b[0m                                Traceback (most recent call last)",
      "\u001b[0;32m<ipython-input-420-798d758cfbc2>\u001b[0m in \u001b[0;36m<module>\u001b[0;34m\u001b[0m\n\u001b[1;32m      1\u001b[0m \u001b[0ma\u001b[0m \u001b[0;34m=\u001b[0m \u001b[0mfacility\u001b[0m\u001b[0;34m[\u001b[0m\u001b[0;34m'FacilityName'\u001b[0m\u001b[0;34m]\u001b[0m\u001b[0;34m.\u001b[0m\u001b[0mstr\u001b[0m\u001b[0;34m[\u001b[0m\u001b[0;34m:\u001b[0m\u001b[0;36m45\u001b[0m\u001b[0;34m]\u001b[0m\u001b[0;34m.\u001b[0m\u001b[0mvalue_counts\u001b[0m\u001b[0;34m(\u001b[0m\u001b[0;34m)\u001b[0m\u001b[0;34m.\u001b[0m\u001b[0mindex\u001b[0m\u001b[0;34m\u001b[0m\u001b[0;34m\u001b[0m\u001b[0m\n\u001b[0;32m----> 2\u001b[0;31m \u001b[0mb\u001b[0m \u001b[0;34m=\u001b[0m \u001b[0ma\u001b[0m\u001b[0;34m[\u001b[0m\u001b[0;36m0\u001b[0m\u001b[0;34m]\u001b[0m\u001b[0;34m\u001b[0m\u001b[0;34m\u001b[0m\u001b[0m\n\u001b[0m",
      "\u001b[0;32m~/anaconda3/lib/python3.8/site-packages/pandas/core/indexes/base.py\u001b[0m in \u001b[0;36m__getitem__\u001b[0;34m(self, key)\u001b[0m\n\u001b[1;32m   4295\u001b[0m         \u001b[0;32mif\u001b[0m \u001b[0mis_scalar\u001b[0m\u001b[0;34m(\u001b[0m\u001b[0mkey\u001b[0m\u001b[0;34m)\u001b[0m\u001b[0;34m:\u001b[0m\u001b[0;34m\u001b[0m\u001b[0;34m\u001b[0m\u001b[0m\n\u001b[1;32m   4296\u001b[0m             \u001b[0mkey\u001b[0m \u001b[0;34m=\u001b[0m \u001b[0mcom\u001b[0m\u001b[0;34m.\u001b[0m\u001b[0mcast_scalar_indexer\u001b[0m\u001b[0;34m(\u001b[0m\u001b[0mkey\u001b[0m\u001b[0;34m,\u001b[0m \u001b[0mwarn_float\u001b[0m\u001b[0;34m=\u001b[0m\u001b[0;32mTrue\u001b[0m\u001b[0;34m)\u001b[0m\u001b[0;34m\u001b[0m\u001b[0;34m\u001b[0m\u001b[0m\n\u001b[0;32m-> 4297\u001b[0;31m             \u001b[0;32mreturn\u001b[0m \u001b[0mgetitem\u001b[0m\u001b[0;34m(\u001b[0m\u001b[0mkey\u001b[0m\u001b[0;34m)\u001b[0m\u001b[0;34m\u001b[0m\u001b[0;34m\u001b[0m\u001b[0m\n\u001b[0m\u001b[1;32m   4298\u001b[0m \u001b[0;34m\u001b[0m\u001b[0m\n\u001b[1;32m   4299\u001b[0m         \u001b[0;32mif\u001b[0m \u001b[0misinstance\u001b[0m\u001b[0;34m(\u001b[0m\u001b[0mkey\u001b[0m\u001b[0;34m,\u001b[0m \u001b[0mslice\u001b[0m\u001b[0;34m)\u001b[0m\u001b[0;34m:\u001b[0m\u001b[0;34m\u001b[0m\u001b[0;34m\u001b[0m\u001b[0m\n",
      "\u001b[0;31mIndexError\u001b[0m: index 0 is out of bounds for axis 0 with size 0"
     ]
    }
   ],
   "source": [
    "a = facility['FacilityName'].str[:45].value_counts().index\n",
    "b = a[0]"
   ]
  },
  {
   "cell_type": "code",
   "execution_count": null,
   "metadata": {},
   "outputs": [],
   "source": [
    "c = facility['FacilityCode'].str[:20].value_counts().index\n",
    "d = c[0]"
   ]
  },
  {
   "cell_type": "code",
   "execution_count": null,
   "metadata": {},
   "outputs": [],
   "source": [
    "e = facility['DistrictCode'].str[:20].value_counts().index\n",
    "f = e[0]"
   ]
  },
  {
   "cell_type": "code",
   "execution_count": null,
   "metadata": {},
   "outputs": [],
   "source": [
    "g = facility['ProvinceCode'].str[:20].value_counts().index\n",
    "h = g[0]"
   ]
  },
  {
   "cell_type": "code",
   "execution_count": null,
   "metadata": {},
   "outputs": [],
   "source": [
    "i = facility['DistrictName'].str[:45].value_counts().index\n",
    "j = i[0]"
   ]
  },
  {
   "cell_type": "code",
   "execution_count": null,
   "metadata": {},
   "outputs": [],
   "source": [
    "k = facility['ProvinceName'].str[:45].value_counts().index\n",
    "l = k[0]"
   ]
  },
  {
   "cell_type": "code",
   "execution_count": null,
   "metadata": {},
   "outputs": [],
   "source": [
    "merged.drop(['person_id','art_id'], axis=1,inplace=True)"
   ]
  },
  {
   "cell_type": "code",
   "execution_count": null,
   "metadata": {},
   "outputs": [],
   "source": [
    "clearMerged = merged.assign(FacilityName=b,DistrictName=j,ProvinceName=l,FacilityCode=d,DistrictCode=f,ProvinceCode=h)"
   ]
  },
  {
   "cell_type": "code",
   "execution_count": null,
   "metadata": {},
   "outputs": [],
   "source": [
    "clearMerged.columns.values[3] = \"art_status\""
   ]
  },
  {
   "cell_type": "code",
   "execution_count": null,
   "metadata": {},
   "outputs": [],
   "source": [
    "clearMerged.columns.values[4] = \"visit_date\""
   ]
  },
  {
   "cell_type": "code",
   "execution_count": null,
   "metadata": {},
   "outputs": [],
   "source": [
    "clearMerged.head()"
   ]
  },
  {
   "cell_type": "code",
   "execution_count": null,
   "metadata": {},
   "outputs": [],
   "source": [
    "clearMerged.to_csv('/home/tinashe/Documents/tbscreeningQ2/%s.csv'%b, encoding='utf-8', index=False)"
   ]
  },
  {
   "cell_type": "code",
   "execution_count": null,
   "metadata": {},
   "outputs": [],
   "source": [
    "dbConnection.close()\n",
    "dbConnection1.close()\n",
    "dbConnection2.close()"
   ]
  },
  {
   "cell_type": "code",
   "execution_count": null,
   "metadata": {},
   "outputs": [],
   "source": []
  }
 ],
 "metadata": {
  "kernelspec": {
   "display_name": "Python 3",
   "language": "python",
   "name": "python3"
  },
  "language_info": {
   "codemirror_mode": {
    "name": "ipython",
    "version": 3
   },
   "file_extension": ".py",
   "mimetype": "text/x-python",
   "name": "python",
   "nbconvert_exporter": "python",
   "pygments_lexer": "ipython3",
   "version": "3.7.6"
  }
 },
 "nbformat": 4,
 "nbformat_minor": 4
}
