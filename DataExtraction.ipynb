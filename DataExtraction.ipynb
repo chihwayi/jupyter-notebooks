{
 "cells": [
  {
   "cell_type": "code",
   "execution_count": 1,
   "metadata": {},
   "outputs": [],
   "source": [
    "from sqlalchemy import create_engine\n",
    "import pymysql\n",
    "import pandas as pd\n",
    "from datetime import datetime\n",
    "import mysql.connector \n",
    "import pymysql\n",
    "import os"
   ]
  },
  {
   "cell_type": "code",
   "execution_count": 2,
   "metadata": {},
   "outputs": [],
   "source": [
    "mydb = mysql.connector.connect(\n",
    "  host=\"localhost\",\n",
    "  user=\"root\",\n",
    "  passwd=\"password\",\n",
    "  database=\"test\",\n",
    "  auth_plugin=\"mysql_native_password\",\n",
    "  use_unicode=True, \n",
    "  charset=\"utf8\"\n",
    ")"
   ]
  },
  {
   "cell_type": "code",
   "execution_count": null,
   "metadata": {},
   "outputs": [],
   "source": []
  },
  {
   "cell_type": "markdown",
   "metadata": {},
   "source": [
    "# TB SCREENING"
   ]
  },
  {
   "cell_type": "code",
   "execution_count": 3,
   "metadata": {},
   "outputs": [],
   "source": [
    "data = pd.read_sql(\"select PatientID,DateOfBirth,Sex from tblpatients\", con=mydb);"
   ]
  },
  {
   "cell_type": "code",
   "execution_count": 4,
   "metadata": {},
   "outputs": [
    {
     "data": {
      "text/html": [
       "<div>\n",
       "<style scoped>\n",
       "    .dataframe tbody tr th:only-of-type {\n",
       "        vertical-align: middle;\n",
       "    }\n",
       "\n",
       "    .dataframe tbody tr th {\n",
       "        vertical-align: top;\n",
       "    }\n",
       "\n",
       "    .dataframe thead th {\n",
       "        text-align: right;\n",
       "    }\n",
       "</style>\n",
       "<table border=\"1\" class=\"dataframe\">\n",
       "  <thead>\n",
       "    <tr style=\"text-align: right;\">\n",
       "      <th></th>\n",
       "      <th>PatientID</th>\n",
       "      <th>DateOfBirth</th>\n",
       "      <th>Sex</th>\n",
       "    </tr>\n",
       "  </thead>\n",
       "  <tbody>\n",
       "    <tr>\n",
       "      <th>0</th>\n",
       "      <td>00-0A-09-2013-A-00421</td>\n",
       "      <td>1988-08-20</td>\n",
       "      <td>Female</td>\n",
       "    </tr>\n",
       "    <tr>\n",
       "      <th>1</th>\n",
       "      <td>00-0A-09-2019-A-00630</td>\n",
       "      <td>1965-10-05</td>\n",
       "      <td>Female</td>\n",
       "    </tr>\n",
       "    <tr>\n",
       "      <th>2</th>\n",
       "      <td>00-0A-0C-2009-A-00335</td>\n",
       "      <td>1971-11-21</td>\n",
       "      <td>Female</td>\n",
       "    </tr>\n",
       "    <tr>\n",
       "      <th>3</th>\n",
       "      <td>00-0A-0C-2011-A-03012</td>\n",
       "      <td>1960-06-06</td>\n",
       "      <td>Male</td>\n",
       "    </tr>\n",
       "    <tr>\n",
       "      <th>4</th>\n",
       "      <td>00-0A-0D-2007-A-04805</td>\n",
       "      <td>1971-12-18</td>\n",
       "      <td>Male</td>\n",
       "    </tr>\n",
       "  </tbody>\n",
       "</table>\n",
       "</div>"
      ],
      "text/plain": [
       "               PatientID DateOfBirth     Sex\n",
       "0  00-0A-09-2013-A-00421  1988-08-20  Female\n",
       "1  00-0A-09-2019-A-00630  1965-10-05  Female\n",
       "2  00-0A-0C-2009-A-00335  1971-11-21  Female\n",
       "3  00-0A-0C-2011-A-03012  1960-06-06    Male\n",
       "4  00-0A-0D-2007-A-04805  1971-12-18    Male"
      ]
     },
     "execution_count": 4,
     "metadata": {},
     "output_type": "execute_result"
    }
   ],
   "source": [
    "data.head()"
   ]
  },
  {
   "cell_type": "code",
   "execution_count": 5,
   "metadata": {},
   "outputs": [],
   "source": [
    "data_va = pd.read_sql(\"select tblvisits.PatientID,tblpatients.DateOfBirth,tblpatients.Sex,tblvisits.VisitDate,tblvisits.VisitTypeCode,tblsetuptbstatus.TBStatusDescription,tblsetuparvstatuscodes.ARVStatusDescription from tblvisits JOIN tblpatients ON tblvisits.PatientID = tblpatients.PatientID JOIN tblsetuptbstatus ON tblvisits.TBStatusCode=tblsetuptbstatus.TBStatusCode JOIN tblsetuparvstatuscodes ON tblvisits.ARVStatusCode =tblsetuparvstatuscodes.ARVStatusCode \", con=mydb);"
   ]
  },
  {
   "cell_type": "code",
   "execution_count": 6,
   "metadata": {},
   "outputs": [
    {
     "data": {
      "text/html": [
       "<div>\n",
       "<style scoped>\n",
       "    .dataframe tbody tr th:only-of-type {\n",
       "        vertical-align: middle;\n",
       "    }\n",
       "\n",
       "    .dataframe tbody tr th {\n",
       "        vertical-align: top;\n",
       "    }\n",
       "\n",
       "    .dataframe thead th {\n",
       "        text-align: right;\n",
       "    }\n",
       "</style>\n",
       "<table border=\"1\" class=\"dataframe\">\n",
       "  <thead>\n",
       "    <tr style=\"text-align: right;\">\n",
       "      <th></th>\n",
       "      <th>PatientID</th>\n",
       "      <th>DateOfBirth</th>\n",
       "      <th>Sex</th>\n",
       "      <th>VisitDate</th>\n",
       "      <th>VisitTypeCode</th>\n",
       "      <th>TBStatusDescription</th>\n",
       "      <th>ARVStatusDescription</th>\n",
       "    </tr>\n",
       "  </thead>\n",
       "  <tbody>\n",
       "    <tr>\n",
       "      <th>0</th>\n",
       "      <td>01-02-62-2008-A-00159</td>\n",
       "      <td>1982-06-05</td>\n",
       "      <td>Male</td>\n",
       "      <td>2015-09-11</td>\n",
       "      <td>P</td>\n",
       "      <td>No signs (patient screened and TB not suspected)</td>\n",
       "      <td>No ARV</td>\n",
       "    </tr>\n",
       "    <tr>\n",
       "      <th>1</th>\n",
       "      <td>01-02-62-2008-A-00159</td>\n",
       "      <td>1982-06-05</td>\n",
       "      <td>Male</td>\n",
       "      <td>2017-02-06</td>\n",
       "      <td>P</td>\n",
       "      <td>No signs (patient screened and TB not suspected)</td>\n",
       "      <td>No ARV</td>\n",
       "    </tr>\n",
       "    <tr>\n",
       "      <th>2</th>\n",
       "      <td>02-01-62-2015-A-00359</td>\n",
       "      <td>1987-05-26</td>\n",
       "      <td>Female</td>\n",
       "      <td>2015-07-01</td>\n",
       "      <td>P</td>\n",
       "      <td>No signs (patient screened and TB not suspected)</td>\n",
       "      <td>No ARV</td>\n",
       "    </tr>\n",
       "    <tr>\n",
       "      <th>3</th>\n",
       "      <td>02-01-62-2015-A-00359</td>\n",
       "      <td>1987-05-26</td>\n",
       "      <td>Female</td>\n",
       "      <td>2015-07-29</td>\n",
       "      <td>P</td>\n",
       "      <td>No signs (patient screened and TB not suspected)</td>\n",
       "      <td>No ARV</td>\n",
       "    </tr>\n",
       "    <tr>\n",
       "      <th>4</th>\n",
       "      <td>02-01-62-2015-A-00360</td>\n",
       "      <td>2010-07-14</td>\n",
       "      <td>Male</td>\n",
       "      <td>2015-07-01</td>\n",
       "      <td>P</td>\n",
       "      <td>No signs (patient screened and TB not suspected)</td>\n",
       "      <td>No ARV</td>\n",
       "    </tr>\n",
       "  </tbody>\n",
       "</table>\n",
       "</div>"
      ],
      "text/plain": [
       "               PatientID DateOfBirth     Sex  VisitDate VisitTypeCode  \\\n",
       "0  01-02-62-2008-A-00159  1982-06-05    Male 2015-09-11             P   \n",
       "1  01-02-62-2008-A-00159  1982-06-05    Male 2017-02-06             P   \n",
       "2  02-01-62-2015-A-00359  1987-05-26  Female 2015-07-01             P   \n",
       "3  02-01-62-2015-A-00359  1987-05-26  Female 2015-07-29             P   \n",
       "4  02-01-62-2015-A-00360  2010-07-14    Male 2015-07-01             P   \n",
       "\n",
       "                                TBStatusDescription ARVStatusDescription  \n",
       "0  No signs (patient screened and TB not suspected)               No ARV  \n",
       "1  No signs (patient screened and TB not suspected)               No ARV  \n",
       "2  No signs (patient screened and TB not suspected)               No ARV  \n",
       "3  No signs (patient screened and TB not suspected)               No ARV  \n",
       "4  No signs (patient screened and TB not suspected)               No ARV  "
      ]
     },
     "execution_count": 6,
     "metadata": {},
     "output_type": "execute_result"
    }
   ],
   "source": [
    "data_va.head()"
   ]
  },
  {
   "cell_type": "code",
   "execution_count": 7,
   "metadata": {},
   "outputs": [],
   "source": [
    "med = pd.read_sql(\"select t.PatientID,t.VisitDate,t.DrugTypeID from tblmedication t where t.DrugTypeID = 'IPT' OR t.DrugTypeID = 'FLU' OR t.DrugTypeID = 'TPT'\", con=mydb);"
   ]
  },
  {
   "cell_type": "code",
   "execution_count": 8,
   "metadata": {},
   "outputs": [
    {
     "data": {
      "text/html": [
       "<div>\n",
       "<style scoped>\n",
       "    .dataframe tbody tr th:only-of-type {\n",
       "        vertical-align: middle;\n",
       "    }\n",
       "\n",
       "    .dataframe tbody tr th {\n",
       "        vertical-align: top;\n",
       "    }\n",
       "\n",
       "    .dataframe thead th {\n",
       "        text-align: right;\n",
       "    }\n",
       "</style>\n",
       "<table border=\"1\" class=\"dataframe\">\n",
       "  <thead>\n",
       "    <tr style=\"text-align: right;\">\n",
       "      <th></th>\n",
       "      <th>PatientID</th>\n",
       "      <th>VisitDate</th>\n",
       "      <th>DrugTypeID</th>\n",
       "    </tr>\n",
       "  </thead>\n",
       "  <tbody>\n",
       "    <tr>\n",
       "      <th>0</th>\n",
       "      <td>02-01-62-2015-A-00359</td>\n",
       "      <td>2017-04-26</td>\n",
       "      <td>FLU</td>\n",
       "    </tr>\n",
       "    <tr>\n",
       "      <th>1</th>\n",
       "      <td>02-07-0B-2008-A-00390</td>\n",
       "      <td>2016-07-08</td>\n",
       "      <td>FLU</td>\n",
       "    </tr>\n",
       "    <tr>\n",
       "      <th>2</th>\n",
       "      <td>02-07-0B-2010-A-00087</td>\n",
       "      <td>2017-04-19</td>\n",
       "      <td>FLU</td>\n",
       "    </tr>\n",
       "    <tr>\n",
       "      <th>3</th>\n",
       "      <td>02-07-0B-2010-A-00140</td>\n",
       "      <td>2017-10-19</td>\n",
       "      <td>FLU</td>\n",
       "    </tr>\n",
       "    <tr>\n",
       "      <th>4</th>\n",
       "      <td>02-07-0B-2011-A-00178</td>\n",
       "      <td>2019-02-11</td>\n",
       "      <td>FLU</td>\n",
       "    </tr>\n",
       "  </tbody>\n",
       "</table>\n",
       "</div>"
      ],
      "text/plain": [
       "               PatientID  VisitDate DrugTypeID\n",
       "0  02-01-62-2015-A-00359 2017-04-26        FLU\n",
       "1  02-07-0B-2008-A-00390 2016-07-08        FLU\n",
       "2  02-07-0B-2010-A-00087 2017-04-19        FLU\n",
       "3  02-07-0B-2010-A-00140 2017-10-19        FLU\n",
       "4  02-07-0B-2011-A-00178 2019-02-11        FLU"
      ]
     },
     "execution_count": 8,
     "metadata": {},
     "output_type": "execute_result"
    }
   ],
   "source": [
    "med.head()"
   ]
  },
  {
   "cell_type": "code",
   "execution_count": 9,
   "metadata": {},
   "outputs": [],
   "source": [
    "data_v = pd.merge(data_va, med, how='left', on=['PatientID', 'VisitDate'])"
   ]
  },
  {
   "cell_type": "code",
   "execution_count": 10,
   "metadata": {},
   "outputs": [
    {
     "data": {
      "text/html": [
       "<div>\n",
       "<style scoped>\n",
       "    .dataframe tbody tr th:only-of-type {\n",
       "        vertical-align: middle;\n",
       "    }\n",
       "\n",
       "    .dataframe tbody tr th {\n",
       "        vertical-align: top;\n",
       "    }\n",
       "\n",
       "    .dataframe thead th {\n",
       "        text-align: right;\n",
       "    }\n",
       "</style>\n",
       "<table border=\"1\" class=\"dataframe\">\n",
       "  <thead>\n",
       "    <tr style=\"text-align: right;\">\n",
       "      <th></th>\n",
       "      <th>PatientID</th>\n",
       "      <th>DateOfBirth</th>\n",
       "      <th>Sex</th>\n",
       "      <th>VisitDate</th>\n",
       "      <th>VisitTypeCode</th>\n",
       "      <th>TBStatusDescription</th>\n",
       "      <th>ARVStatusDescription</th>\n",
       "      <th>DrugTypeID</th>\n",
       "    </tr>\n",
       "  </thead>\n",
       "  <tbody>\n",
       "    <tr>\n",
       "      <th>0</th>\n",
       "      <td>01-02-62-2008-A-00159</td>\n",
       "      <td>1982-06-05</td>\n",
       "      <td>Male</td>\n",
       "      <td>2015-09-11</td>\n",
       "      <td>P</td>\n",
       "      <td>No signs (patient screened and TB not suspected)</td>\n",
       "      <td>No ARV</td>\n",
       "      <td>NaN</td>\n",
       "    </tr>\n",
       "    <tr>\n",
       "      <th>1</th>\n",
       "      <td>01-02-62-2008-A-00159</td>\n",
       "      <td>1982-06-05</td>\n",
       "      <td>Male</td>\n",
       "      <td>2017-02-06</td>\n",
       "      <td>P</td>\n",
       "      <td>No signs (patient screened and TB not suspected)</td>\n",
       "      <td>No ARV</td>\n",
       "      <td>NaN</td>\n",
       "    </tr>\n",
       "    <tr>\n",
       "      <th>2</th>\n",
       "      <td>02-01-62-2015-A-00359</td>\n",
       "      <td>1987-05-26</td>\n",
       "      <td>Female</td>\n",
       "      <td>2015-07-01</td>\n",
       "      <td>P</td>\n",
       "      <td>No signs (patient screened and TB not suspected)</td>\n",
       "      <td>No ARV</td>\n",
       "      <td>NaN</td>\n",
       "    </tr>\n",
       "    <tr>\n",
       "      <th>3</th>\n",
       "      <td>02-01-62-2015-A-00359</td>\n",
       "      <td>1987-05-26</td>\n",
       "      <td>Female</td>\n",
       "      <td>2015-07-29</td>\n",
       "      <td>P</td>\n",
       "      <td>No signs (patient screened and TB not suspected)</td>\n",
       "      <td>No ARV</td>\n",
       "      <td>NaN</td>\n",
       "    </tr>\n",
       "    <tr>\n",
       "      <th>4</th>\n",
       "      <td>02-01-62-2015-A-00360</td>\n",
       "      <td>2010-07-14</td>\n",
       "      <td>Male</td>\n",
       "      <td>2015-07-01</td>\n",
       "      <td>P</td>\n",
       "      <td>No signs (patient screened and TB not suspected)</td>\n",
       "      <td>No ARV</td>\n",
       "      <td>NaN</td>\n",
       "    </tr>\n",
       "  </tbody>\n",
       "</table>\n",
       "</div>"
      ],
      "text/plain": [
       "               PatientID DateOfBirth     Sex  VisitDate VisitTypeCode  \\\n",
       "0  01-02-62-2008-A-00159  1982-06-05    Male 2015-09-11             P   \n",
       "1  01-02-62-2008-A-00159  1982-06-05    Male 2017-02-06             P   \n",
       "2  02-01-62-2015-A-00359  1987-05-26  Female 2015-07-01             P   \n",
       "3  02-01-62-2015-A-00359  1987-05-26  Female 2015-07-29             P   \n",
       "4  02-01-62-2015-A-00360  2010-07-14    Male 2015-07-01             P   \n",
       "\n",
       "                                TBStatusDescription ARVStatusDescription  \\\n",
       "0  No signs (patient screened and TB not suspected)               No ARV   \n",
       "1  No signs (patient screened and TB not suspected)               No ARV   \n",
       "2  No signs (patient screened and TB not suspected)               No ARV   \n",
       "3  No signs (patient screened and TB not suspected)               No ARV   \n",
       "4  No signs (patient screened and TB not suspected)               No ARV   \n",
       "\n",
       "  DrugTypeID  \n",
       "0        NaN  \n",
       "1        NaN  \n",
       "2        NaN  \n",
       "3        NaN  \n",
       "4        NaN  "
      ]
     },
     "execution_count": 10,
     "metadata": {},
     "output_type": "execute_result"
    }
   ],
   "source": [
    "data_v.head()"
   ]
  },
  {
   "cell_type": "code",
   "execution_count": 11,
   "metadata": {},
   "outputs": [],
   "source": [
    "fac=pd.read_sql(\"select c.regioncode,c.districtcode,c.facilitycode from tblconfig c\",con=mydb)"
   ]
  },
  {
   "cell_type": "code",
   "execution_count": 12,
   "metadata": {},
   "outputs": [],
   "source": [
    "facii=pd.read_sql(\"select * from facilities\",con=mydb)"
   ]
  },
  {
   "cell_type": "code",
   "execution_count": 13,
   "metadata": {},
   "outputs": [
    {
     "data": {
      "text/html": [
       "<div>\n",
       "<style scoped>\n",
       "    .dataframe tbody tr th:only-of-type {\n",
       "        vertical-align: middle;\n",
       "    }\n",
       "\n",
       "    .dataframe tbody tr th {\n",
       "        vertical-align: top;\n",
       "    }\n",
       "\n",
       "    .dataframe thead th {\n",
       "        text-align: right;\n",
       "    }\n",
       "</style>\n",
       "<table border=\"1\" class=\"dataframe\">\n",
       "  <thead>\n",
       "    <tr style=\"text-align: right;\">\n",
       "      <th></th>\n",
       "      <th>FacilityID</th>\n",
       "      <th>ProvinceCode</th>\n",
       "      <th>DistrictCode</th>\n",
       "      <th>FacilityCode</th>\n",
       "      <th>FacilityName</th>\n",
       "      <th>FullFacilityCode</th>\n",
       "      <th>FullFacilityCodeDashes</th>\n",
       "    </tr>\n",
       "  </thead>\n",
       "  <tbody>\n",
       "    <tr>\n",
       "      <th>0</th>\n",
       "      <td>1</td>\n",
       "      <td>0</td>\n",
       "      <td>A</td>\n",
       "      <td>01</td>\n",
       "      <td>Avondale Clinic</td>\n",
       "      <td>000A01</td>\n",
       "      <td>00-0A-01</td>\n",
       "    </tr>\n",
       "    <tr>\n",
       "      <th>1</th>\n",
       "      <td>2</td>\n",
       "      <td>0</td>\n",
       "      <td>A</td>\n",
       "      <td>02</td>\n",
       "      <td>Arcadia P.C.C.</td>\n",
       "      <td>000A02</td>\n",
       "      <td>00-0A-02</td>\n",
       "    </tr>\n",
       "    <tr>\n",
       "      <th>2</th>\n",
       "      <td>3</td>\n",
       "      <td>0</td>\n",
       "      <td>A</td>\n",
       "      <td>03</td>\n",
       "      <td>Bank Street P.C.C.</td>\n",
       "      <td>000A03</td>\n",
       "      <td>00-0A-03</td>\n",
       "    </tr>\n",
       "    <tr>\n",
       "      <th>3</th>\n",
       "      <td>4</td>\n",
       "      <td>0</td>\n",
       "      <td>A</td>\n",
       "      <td>05</td>\n",
       "      <td>Belvedere F.H.C.</td>\n",
       "      <td>000A05</td>\n",
       "      <td>00-0A-05</td>\n",
       "    </tr>\n",
       "    <tr>\n",
       "      <th>4</th>\n",
       "      <td>5</td>\n",
       "      <td>0</td>\n",
       "      <td>A</td>\n",
       "      <td>06</td>\n",
       "      <td>Borrowdale F.H.C.</td>\n",
       "      <td>000A06</td>\n",
       "      <td>00-0A-06</td>\n",
       "    </tr>\n",
       "  </tbody>\n",
       "</table>\n",
       "</div>"
      ],
      "text/plain": [
       "   FacilityID  ProvinceCode DistrictCode FacilityCode        FacilityName  \\\n",
       "0           1             0            A           01     Avondale Clinic   \n",
       "1           2             0            A           02      Arcadia P.C.C.   \n",
       "2           3             0            A           03  Bank Street P.C.C.   \n",
       "3           4             0            A           05    Belvedere F.H.C.   \n",
       "4           5             0            A           06   Borrowdale F.H.C.   \n",
       "\n",
       "  FullFacilityCode FullFacilityCodeDashes  \n",
       "0           000A01               00-0A-01  \n",
       "1           000A02               00-0A-02  \n",
       "2           000A03               00-0A-03  \n",
       "3           000A05               00-0A-05  \n",
       "4           000A06               00-0A-06  "
      ]
     },
     "execution_count": 13,
     "metadata": {},
     "output_type": "execute_result"
    }
   ],
   "source": [
    "facii.head()"
   ]
  },
  {
   "cell_type": "code",
   "execution_count": 14,
   "metadata": {},
   "outputs": [],
   "source": [
    "reg=pd.read_sql(\"select * from tblsetupregions\",con=mydb)"
   ]
  },
  {
   "cell_type": "code",
   "execution_count": 15,
   "metadata": {},
   "outputs": [],
   "source": [
    "dist=pd.read_sql(\"select * from tblsetupdistricts\",con=mydb)"
   ]
  },
  {
   "cell_type": "code",
   "execution_count": 16,
   "metadata": {},
   "outputs": [
    {
     "data": {
      "text/html": [
       "<div>\n",
       "<style scoped>\n",
       "    .dataframe tbody tr th:only-of-type {\n",
       "        vertical-align: middle;\n",
       "    }\n",
       "\n",
       "    .dataframe tbody tr th {\n",
       "        vertical-align: top;\n",
       "    }\n",
       "\n",
       "    .dataframe thead th {\n",
       "        text-align: right;\n",
       "    }\n",
       "</style>\n",
       "<table border=\"1\" class=\"dataframe\">\n",
       "  <thead>\n",
       "    <tr style=\"text-align: right;\">\n",
       "      <th></th>\n",
       "      <th>RegionCode</th>\n",
       "      <th>DistrictCode</th>\n",
       "      <th>District</th>\n",
       "    </tr>\n",
       "  </thead>\n",
       "  <tbody>\n",
       "    <tr>\n",
       "      <th>0</th>\n",
       "      <td>0</td>\n",
       "      <td>1</td>\n",
       "      <td>Harare Rural</td>\n",
       "    </tr>\n",
       "    <tr>\n",
       "      <th>1</th>\n",
       "      <td>0</td>\n",
       "      <td>A</td>\n",
       "      <td>Harare Urban</td>\n",
       "    </tr>\n",
       "    <tr>\n",
       "      <th>2</th>\n",
       "      <td>0</td>\n",
       "      <td>B</td>\n",
       "      <td>Chitungwisa Urban</td>\n",
       "    </tr>\n",
       "    <tr>\n",
       "      <th>3</th>\n",
       "      <td>0</td>\n",
       "      <td>C</td>\n",
       "      <td>Chitungwiza Hospital</td>\n",
       "    </tr>\n",
       "    <tr>\n",
       "      <th>4</th>\n",
       "      <td>0</td>\n",
       "      <td>D</td>\n",
       "      <td>Harare Central Hospital</td>\n",
       "    </tr>\n",
       "  </tbody>\n",
       "</table>\n",
       "</div>"
      ],
      "text/plain": [
       "   RegionCode DistrictCode                 District\n",
       "0           0            1             Harare Rural\n",
       "1           0            A             Harare Urban\n",
       "2           0            B        Chitungwisa Urban\n",
       "3           0            C     Chitungwiza Hospital\n",
       "4           0            D  Harare Central Hospital"
      ]
     },
     "execution_count": 16,
     "metadata": {},
     "output_type": "execute_result"
    }
   ],
   "source": [
    "dist.head()"
   ]
  },
  {
   "cell_type": "code",
   "execution_count": 17,
   "metadata": {},
   "outputs": [],
   "source": [
    "#tblconfig.regioncode=tblsetupregions.RegionCode"
   ]
  },
  {
   "cell_type": "code",
   "execution_count": 18,
   "metadata": {},
   "outputs": [],
   "source": [
    "n=data_v.shape[0]"
   ]
  },
  {
   "cell_type": "code",
   "execution_count": 19,
   "metadata": {},
   "outputs": [
    {
     "name": "stderr",
     "output_type": "stream",
     "text": [
      "/home/ignatious/anaconda3/lib/python3.7/site-packages/ipykernel_launcher.py:4: SettingWithCopyWarning: \n",
      "A value is trying to be set on a copy of a slice from a DataFrame\n",
      "\n",
      "See the caveats in the documentation: https://pandas.pydata.org/pandas-docs/stable/user_guide/indexing.html#returning-a-view-versus-a-copy\n",
      "  after removing the cwd from sys.path.\n",
      "/home/ignatious/anaconda3/lib/python3.7/site-packages/ipykernel_launcher.py:10: SettingWithCopyWarning: \n",
      "A value is trying to be set on a copy of a slice from a DataFrame\n",
      "\n",
      "See the caveats in the documentation: https://pandas.pydata.org/pandas-docs/stable/user_guide/indexing.html#returning-a-view-versus-a-copy\n",
      "  # Remove the CWD from sys.path while we load stuff.\n",
      "/home/ignatious/anaconda3/lib/python3.7/site-packages/ipykernel_launcher.py:15: SettingWithCopyWarning: \n",
      "A value is trying to be set on a copy of a slice from a DataFrame\n",
      "\n",
      "See the caveats in the documentation: https://pandas.pydata.org/pandas-docs/stable/user_guide/indexing.html#returning-a-view-versus-a-copy\n",
      "  from ipykernel import kernelapp as app\n"
     ]
    }
   ],
   "source": [
    "## Facility\n",
    "data_v['Facilitycode']=fac['facilitycode']\n",
    "faility_name=data_v['Facilitycode']\n",
    "faility_name[1:n] = faility_name[0]\n",
    "data_v['Facilitycode']=faility_name\n",
    "filename= faility_name[0]\n",
    "## District\n",
    "data_v['Districtcode']=fac['districtcode']\n",
    "district_name=data_v['Districtcode']\n",
    "district_name[1:n] = district_name[0]\n",
    "data_v['Districtcode']=district_name\n",
    "## Province\n",
    "data_v['Provincedoce']=fac['regioncode']\n",
    "province_name=data_v['Provincedoce']\n",
    "province_name[1:n] = province_name[0]\n",
    "data_v['Provincedoce']=province_name"
   ]
  },
  {
   "cell_type": "code",
   "execution_count": 20,
   "metadata": {},
   "outputs": [
    {
     "data": {
      "text/html": [
       "<div>\n",
       "<style scoped>\n",
       "    .dataframe tbody tr th:only-of-type {\n",
       "        vertical-align: middle;\n",
       "    }\n",
       "\n",
       "    .dataframe tbody tr th {\n",
       "        vertical-align: top;\n",
       "    }\n",
       "\n",
       "    .dataframe thead th {\n",
       "        text-align: right;\n",
       "    }\n",
       "</style>\n",
       "<table border=\"1\" class=\"dataframe\">\n",
       "  <thead>\n",
       "    <tr style=\"text-align: right;\">\n",
       "      <th></th>\n",
       "      <th>PatientID</th>\n",
       "      <th>DateOfBirth</th>\n",
       "      <th>Sex</th>\n",
       "      <th>VisitDate</th>\n",
       "      <th>VisitTypeCode</th>\n",
       "      <th>TBStatusDescription</th>\n",
       "      <th>ARVStatusDescription</th>\n",
       "      <th>DrugTypeID</th>\n",
       "      <th>Facilitycode</th>\n",
       "      <th>Districtcode</th>\n",
       "      <th>Provincedoce</th>\n",
       "    </tr>\n",
       "  </thead>\n",
       "  <tbody>\n",
       "    <tr>\n",
       "      <th>0</th>\n",
       "      <td>01-02-62-2008-A-00159</td>\n",
       "      <td>1982-06-05</td>\n",
       "      <td>Male</td>\n",
       "      <td>2015-09-11</td>\n",
       "      <td>P</td>\n",
       "      <td>No signs (patient screened and TB not suspected)</td>\n",
       "      <td>No ARV</td>\n",
       "      <td>NaN</td>\n",
       "      <td>0B</td>\n",
       "      <td>7</td>\n",
       "      <td>2.0</td>\n",
       "    </tr>\n",
       "    <tr>\n",
       "      <th>1</th>\n",
       "      <td>01-02-62-2008-A-00159</td>\n",
       "      <td>1982-06-05</td>\n",
       "      <td>Male</td>\n",
       "      <td>2017-02-06</td>\n",
       "      <td>P</td>\n",
       "      <td>No signs (patient screened and TB not suspected)</td>\n",
       "      <td>No ARV</td>\n",
       "      <td>NaN</td>\n",
       "      <td>0B</td>\n",
       "      <td>7</td>\n",
       "      <td>2.0</td>\n",
       "    </tr>\n",
       "    <tr>\n",
       "      <th>2</th>\n",
       "      <td>02-01-62-2015-A-00359</td>\n",
       "      <td>1987-05-26</td>\n",
       "      <td>Female</td>\n",
       "      <td>2015-07-01</td>\n",
       "      <td>P</td>\n",
       "      <td>No signs (patient screened and TB not suspected)</td>\n",
       "      <td>No ARV</td>\n",
       "      <td>NaN</td>\n",
       "      <td>0B</td>\n",
       "      <td>7</td>\n",
       "      <td>2.0</td>\n",
       "    </tr>\n",
       "    <tr>\n",
       "      <th>3</th>\n",
       "      <td>02-01-62-2015-A-00359</td>\n",
       "      <td>1987-05-26</td>\n",
       "      <td>Female</td>\n",
       "      <td>2015-07-29</td>\n",
       "      <td>P</td>\n",
       "      <td>No signs (patient screened and TB not suspected)</td>\n",
       "      <td>No ARV</td>\n",
       "      <td>NaN</td>\n",
       "      <td>0B</td>\n",
       "      <td>7</td>\n",
       "      <td>2.0</td>\n",
       "    </tr>\n",
       "    <tr>\n",
       "      <th>4</th>\n",
       "      <td>02-01-62-2015-A-00360</td>\n",
       "      <td>2010-07-14</td>\n",
       "      <td>Male</td>\n",
       "      <td>2015-07-01</td>\n",
       "      <td>P</td>\n",
       "      <td>No signs (patient screened and TB not suspected)</td>\n",
       "      <td>No ARV</td>\n",
       "      <td>NaN</td>\n",
       "      <td>0B</td>\n",
       "      <td>7</td>\n",
       "      <td>2.0</td>\n",
       "    </tr>\n",
       "  </tbody>\n",
       "</table>\n",
       "</div>"
      ],
      "text/plain": [
       "               PatientID DateOfBirth     Sex  VisitDate VisitTypeCode  \\\n",
       "0  01-02-62-2008-A-00159  1982-06-05    Male 2015-09-11             P   \n",
       "1  01-02-62-2008-A-00159  1982-06-05    Male 2017-02-06             P   \n",
       "2  02-01-62-2015-A-00359  1987-05-26  Female 2015-07-01             P   \n",
       "3  02-01-62-2015-A-00359  1987-05-26  Female 2015-07-29             P   \n",
       "4  02-01-62-2015-A-00360  2010-07-14    Male 2015-07-01             P   \n",
       "\n",
       "                                TBStatusDescription ARVStatusDescription  \\\n",
       "0  No signs (patient screened and TB not suspected)               No ARV   \n",
       "1  No signs (patient screened and TB not suspected)               No ARV   \n",
       "2  No signs (patient screened and TB not suspected)               No ARV   \n",
       "3  No signs (patient screened and TB not suspected)               No ARV   \n",
       "4  No signs (patient screened and TB not suspected)               No ARV   \n",
       "\n",
       "  DrugTypeID Facilitycode Districtcode  Provincedoce  \n",
       "0        NaN           0B            7           2.0  \n",
       "1        NaN           0B            7           2.0  \n",
       "2        NaN           0B            7           2.0  \n",
       "3        NaN           0B            7           2.0  \n",
       "4        NaN           0B            7           2.0  "
      ]
     },
     "execution_count": 20,
     "metadata": {},
     "output_type": "execute_result"
    }
   ],
   "source": [
    "data_v.head()"
   ]
  },
  {
   "cell_type": "code",
   "execution_count": 21,
   "metadata": {},
   "outputs": [],
   "source": [
    "a = fac['regioncode']\n",
    "b = fac['districtcode']\n",
    "c = fac['facilitycode']"
   ]
  },
  {
   "cell_type": "code",
   "execution_count": 22,
   "metadata": {},
   "outputs": [
    {
     "data": {
      "text/plain": [
       "Index(['0B'], dtype='object')"
      ]
     },
     "execution_count": 22,
     "metadata": {},
     "output_type": "execute_result"
    }
   ],
   "source": [
    "a.value_counts().index\n",
    "b.value_counts().index\n",
    "c.value_counts().index"
   ]
  },
  {
   "cell_type": "code",
   "execution_count": 23,
   "metadata": {},
   "outputs": [],
   "source": [
    "s = a[0]\n",
    "ss = int(s)\n",
    "t = b[0]\n",
    "u = c[0]"
   ]
  },
  {
   "cell_type": "code",
   "execution_count": 24,
   "metadata": {},
   "outputs": [],
   "source": [
    "facility1 = facii[(facii['ProvinceCode'] == ss) & (facii['DistrictCode'] == t) & (facii['FacilityCode'] == u)]"
   ]
  },
  {
   "cell_type": "code",
   "execution_count": 25,
   "metadata": {},
   "outputs": [],
   "source": [
    "facility2 = facility1[['ProvinceCode', 'DistrictCode', 'FacilityCode', 'FacilityName']]"
   ]
  },
  {
   "cell_type": "code",
   "execution_count": 26,
   "metadata": {},
   "outputs": [],
   "source": [
    "facility3 = pd.merge(facility2, reg.rename(columns={'RegionCode':'ProvinceCode'}), on=['ProvinceCode'])"
   ]
  },
  {
   "cell_type": "code",
   "execution_count": 27,
   "metadata": {},
   "outputs": [],
   "source": [
    "facility4 = pd.merge(facility3, dist.rename(columns={'RegionCode':'ProvinceCode'}), on=['ProvinceCode','DistrictCode'])"
   ]
  },
  {
   "cell_type": "code",
   "execution_count": 28,
   "metadata": {},
   "outputs": [],
   "source": [
    "facility=pd.read_sql(\"select tblconfig.regioncode,tblconfig.districtcode,tblconfig.facilitycode,tblsetupregions.Region,tblsetupdistricts.District,facility.FacilityName from tblconfig JOIN tblsetupregions ON tblconfig.regioncode=tblsetupregions.RegionCode JOIN tblsetupdistricts ON tblconfig.districtcode=tblsetupdistricts.DistrictCode AND tblsetupregions.RegionCode=tblsetupdistricts.RegionCode JOIN facility ON tblconfig.facilitycode = facility.FacilityCode AND tblconfig.districtcode=facility.DistrictID AND tblsetupdistricts.DistrictCode = facility.DistrictID AND facility.ProvinceID=tblsetupregions.RegionCode\",con=mydb)"
   ]
  },
  {
   "cell_type": "code",
   "execution_count": 29,
   "metadata": {},
   "outputs": [],
   "source": [
    "facility5 = facility4.rename(columns={'ProvinceCode': 'regioncode', 'DistrictCode': 'districtcode', 'FacilityCode': 'facilitycode'})"
   ]
  },
  {
   "cell_type": "code",
   "execution_count": 30,
   "metadata": {},
   "outputs": [],
   "source": [
    "facility = facility5[['regioncode','districtcode','facilitycode','Region','District','FacilityName']]"
   ]
  },
  {
   "cell_type": "code",
   "execution_count": 31,
   "metadata": {},
   "outputs": [
    {
     "data": {
      "text/html": [
       "<div>\n",
       "<style scoped>\n",
       "    .dataframe tbody tr th:only-of-type {\n",
       "        vertical-align: middle;\n",
       "    }\n",
       "\n",
       "    .dataframe tbody tr th {\n",
       "        vertical-align: top;\n",
       "    }\n",
       "\n",
       "    .dataframe thead th {\n",
       "        text-align: right;\n",
       "    }\n",
       "</style>\n",
       "<table border=\"1\" class=\"dataframe\">\n",
       "  <thead>\n",
       "    <tr style=\"text-align: right;\">\n",
       "      <th></th>\n",
       "      <th>regioncode</th>\n",
       "      <th>districtcode</th>\n",
       "      <th>facilitycode</th>\n",
       "      <th>Region</th>\n",
       "      <th>District</th>\n",
       "      <th>FacilityName</th>\n",
       "    </tr>\n",
       "  </thead>\n",
       "  <tbody>\n",
       "    <tr>\n",
       "      <th>0</th>\n",
       "      <td>2</td>\n",
       "      <td>7</td>\n",
       "      <td>0B</td>\n",
       "      <td>Mashonaland Central</td>\n",
       "      <td>Shamva</td>\n",
       "      <td>Madziwa Rural Hospital</td>\n",
       "    </tr>\n",
       "  </tbody>\n",
       "</table>\n",
       "</div>"
      ],
      "text/plain": [
       "   regioncode districtcode facilitycode               Region District  \\\n",
       "0           2            7           0B  Mashonaland Central   Shamva   \n",
       "\n",
       "             FacilityName  \n",
       "0  Madziwa Rural Hospital  "
      ]
     },
     "execution_count": 31,
     "metadata": {},
     "output_type": "execute_result"
    }
   ],
   "source": [
    "facility.head()"
   ]
  },
  {
   "cell_type": "code",
   "execution_count": 32,
   "metadata": {},
   "outputs": [
    {
     "name": "stderr",
     "output_type": "stream",
     "text": [
      "/home/ignatious/anaconda3/lib/python3.7/site-packages/ipykernel_launcher.py:4: SettingWithCopyWarning: \n",
      "A value is trying to be set on a copy of a slice from a DataFrame\n",
      "\n",
      "See the caveats in the documentation: https://pandas.pydata.org/pandas-docs/stable/user_guide/indexing.html#returning-a-view-versus-a-copy\n",
      "  after removing the cwd from sys.path.\n",
      "/home/ignatious/anaconda3/lib/python3.7/site-packages/ipykernel_launcher.py:10: SettingWithCopyWarning: \n",
      "A value is trying to be set on a copy of a slice from a DataFrame\n",
      "\n",
      "See the caveats in the documentation: https://pandas.pydata.org/pandas-docs/stable/user_guide/indexing.html#returning-a-view-versus-a-copy\n",
      "  # Remove the CWD from sys.path while we load stuff.\n",
      "/home/ignatious/anaconda3/lib/python3.7/site-packages/ipykernel_launcher.py:15: SettingWithCopyWarning: \n",
      "A value is trying to be set on a copy of a slice from a DataFrame\n",
      "\n",
      "See the caveats in the documentation: https://pandas.pydata.org/pandas-docs/stable/user_guide/indexing.html#returning-a-view-versus-a-copy\n",
      "  from ipykernel import kernelapp as app\n"
     ]
    }
   ],
   "source": [
    "## Facility\n",
    "data_v['FacilityName']=facility['FacilityName']\n",
    "faility_name=data_v['FacilityName']\n",
    "faility_name[1:n] = faility_name[0]\n",
    "data_v['FacilityName']=faility_name\n",
    "filename= faility_name[0]\n",
    "## District\n",
    "data_v['District']=facility['District']\n",
    "district_name=data_v['District']\n",
    "district_name[1:n] = district_name[0]\n",
    "data_v['District']=district_name\n",
    "## Province\n",
    "data_v['Province']=facility['Region']\n",
    "province_name=data_v['Province']\n",
    "province_name[1:n] = province_name[0]\n",
    "data_v['Province']=province_name"
   ]
  },
  {
   "cell_type": "code",
   "execution_count": 33,
   "metadata": {},
   "outputs": [],
   "source": [
    "data_v['Date'] = pd.to_datetime(data_v['VisitDate'],errors='coerce')"
   ]
  },
  {
   "cell_type": "code",
   "execution_count": 34,
   "metadata": {},
   "outputs": [],
   "source": [
    "data_v['Period'] = pd.DatetimeIndex(data_v['Date']).month"
   ]
  },
  {
   "cell_type": "code",
   "execution_count": 35,
   "metadata": {},
   "outputs": [],
   "source": [
    "del data_v['Date']"
   ]
  },
  {
   "cell_type": "code",
   "execution_count": 36,
   "metadata": {},
   "outputs": [],
   "source": [
    "today = datetime.today()"
   ]
  },
  {
   "cell_type": "code",
   "execution_count": 37,
   "metadata": {},
   "outputs": [],
   "source": [
    "data_v['Age'] = data_v['DateOfBirth'].apply(\n",
    "               lambda x: today.year - x.year - \n",
    "               ((today.month, today.day) < (x.month, x.day)) \n",
    "               )"
   ]
  },
  {
   "cell_type": "code",
   "execution_count": 38,
   "metadata": {},
   "outputs": [],
   "source": [
    "data_v = data_v[['PatientID','DateOfBirth','Age','Sex','VisitDate','Period','VisitTypeCode','TBStatusDescription','ARVStatusDescription','Facilitycode','Districtcode','Provincedoce','FacilityName','District','Province']]"
   ]
  },
  {
   "cell_type": "code",
   "execution_count": 39,
   "metadata": {
    "scrolled": true
   },
   "outputs": [
    {
     "data": {
      "text/html": [
       "<div>\n",
       "<style scoped>\n",
       "    .dataframe tbody tr th:only-of-type {\n",
       "        vertical-align: middle;\n",
       "    }\n",
       "\n",
       "    .dataframe tbody tr th {\n",
       "        vertical-align: top;\n",
       "    }\n",
       "\n",
       "    .dataframe thead th {\n",
       "        text-align: right;\n",
       "    }\n",
       "</style>\n",
       "<table border=\"1\" class=\"dataframe\">\n",
       "  <thead>\n",
       "    <tr style=\"text-align: right;\">\n",
       "      <th></th>\n",
       "      <th>PatientID</th>\n",
       "      <th>DateOfBirth</th>\n",
       "      <th>Age</th>\n",
       "      <th>Sex</th>\n",
       "      <th>VisitDate</th>\n",
       "      <th>Period</th>\n",
       "      <th>VisitTypeCode</th>\n",
       "      <th>TBStatusDescription</th>\n",
       "      <th>ARVStatusDescription</th>\n",
       "      <th>Facilitycode</th>\n",
       "      <th>Districtcode</th>\n",
       "      <th>Provincedoce</th>\n",
       "      <th>FacilityName</th>\n",
       "      <th>District</th>\n",
       "      <th>Province</th>\n",
       "    </tr>\n",
       "  </thead>\n",
       "  <tbody>\n",
       "    <tr>\n",
       "      <th>0</th>\n",
       "      <td>01-02-62-2008-A-00159</td>\n",
       "      <td>1982-06-05</td>\n",
       "      <td>39</td>\n",
       "      <td>Male</td>\n",
       "      <td>2015-09-11</td>\n",
       "      <td>9</td>\n",
       "      <td>P</td>\n",
       "      <td>No signs (patient screened and TB not suspected)</td>\n",
       "      <td>No ARV</td>\n",
       "      <td>0B</td>\n",
       "      <td>7</td>\n",
       "      <td>2.0</td>\n",
       "      <td>Madziwa Rural Hospital</td>\n",
       "      <td>Shamva</td>\n",
       "      <td>Mashonaland Central</td>\n",
       "    </tr>\n",
       "    <tr>\n",
       "      <th>1</th>\n",
       "      <td>01-02-62-2008-A-00159</td>\n",
       "      <td>1982-06-05</td>\n",
       "      <td>39</td>\n",
       "      <td>Male</td>\n",
       "      <td>2017-02-06</td>\n",
       "      <td>2</td>\n",
       "      <td>P</td>\n",
       "      <td>No signs (patient screened and TB not suspected)</td>\n",
       "      <td>No ARV</td>\n",
       "      <td>0B</td>\n",
       "      <td>7</td>\n",
       "      <td>2.0</td>\n",
       "      <td>Madziwa Rural Hospital</td>\n",
       "      <td>Shamva</td>\n",
       "      <td>Mashonaland Central</td>\n",
       "    </tr>\n",
       "    <tr>\n",
       "      <th>2</th>\n",
       "      <td>02-01-62-2015-A-00359</td>\n",
       "      <td>1987-05-26</td>\n",
       "      <td>34</td>\n",
       "      <td>Female</td>\n",
       "      <td>2015-07-01</td>\n",
       "      <td>7</td>\n",
       "      <td>P</td>\n",
       "      <td>No signs (patient screened and TB not suspected)</td>\n",
       "      <td>No ARV</td>\n",
       "      <td>0B</td>\n",
       "      <td>7</td>\n",
       "      <td>2.0</td>\n",
       "      <td>Madziwa Rural Hospital</td>\n",
       "      <td>Shamva</td>\n",
       "      <td>Mashonaland Central</td>\n",
       "    </tr>\n",
       "    <tr>\n",
       "      <th>3</th>\n",
       "      <td>02-01-62-2015-A-00359</td>\n",
       "      <td>1987-05-26</td>\n",
       "      <td>34</td>\n",
       "      <td>Female</td>\n",
       "      <td>2015-07-29</td>\n",
       "      <td>7</td>\n",
       "      <td>P</td>\n",
       "      <td>No signs (patient screened and TB not suspected)</td>\n",
       "      <td>No ARV</td>\n",
       "      <td>0B</td>\n",
       "      <td>7</td>\n",
       "      <td>2.0</td>\n",
       "      <td>Madziwa Rural Hospital</td>\n",
       "      <td>Shamva</td>\n",
       "      <td>Mashonaland Central</td>\n",
       "    </tr>\n",
       "    <tr>\n",
       "      <th>4</th>\n",
       "      <td>02-01-62-2015-A-00360</td>\n",
       "      <td>2010-07-14</td>\n",
       "      <td>11</td>\n",
       "      <td>Male</td>\n",
       "      <td>2015-07-01</td>\n",
       "      <td>7</td>\n",
       "      <td>P</td>\n",
       "      <td>No signs (patient screened and TB not suspected)</td>\n",
       "      <td>No ARV</td>\n",
       "      <td>0B</td>\n",
       "      <td>7</td>\n",
       "      <td>2.0</td>\n",
       "      <td>Madziwa Rural Hospital</td>\n",
       "      <td>Shamva</td>\n",
       "      <td>Mashonaland Central</td>\n",
       "    </tr>\n",
       "  </tbody>\n",
       "</table>\n",
       "</div>"
      ],
      "text/plain": [
       "               PatientID DateOfBirth  Age     Sex  VisitDate  Period  \\\n",
       "0  01-02-62-2008-A-00159  1982-06-05   39    Male 2015-09-11       9   \n",
       "1  01-02-62-2008-A-00159  1982-06-05   39    Male 2017-02-06       2   \n",
       "2  02-01-62-2015-A-00359  1987-05-26   34  Female 2015-07-01       7   \n",
       "3  02-01-62-2015-A-00359  1987-05-26   34  Female 2015-07-29       7   \n",
       "4  02-01-62-2015-A-00360  2010-07-14   11    Male 2015-07-01       7   \n",
       "\n",
       "  VisitTypeCode                               TBStatusDescription  \\\n",
       "0             P  No signs (patient screened and TB not suspected)   \n",
       "1             P  No signs (patient screened and TB not suspected)   \n",
       "2             P  No signs (patient screened and TB not suspected)   \n",
       "3             P  No signs (patient screened and TB not suspected)   \n",
       "4             P  No signs (patient screened and TB not suspected)   \n",
       "\n",
       "  ARVStatusDescription Facilitycode Districtcode  Provincedoce  \\\n",
       "0               No ARV           0B            7           2.0   \n",
       "1               No ARV           0B            7           2.0   \n",
       "2               No ARV           0B            7           2.0   \n",
       "3               No ARV           0B            7           2.0   \n",
       "4               No ARV           0B            7           2.0   \n",
       "\n",
       "             FacilityName District             Province  \n",
       "0  Madziwa Rural Hospital   Shamva  Mashonaland Central  \n",
       "1  Madziwa Rural Hospital   Shamva  Mashonaland Central  \n",
       "2  Madziwa Rural Hospital   Shamva  Mashonaland Central  \n",
       "3  Madziwa Rural Hospital   Shamva  Mashonaland Central  \n",
       "4  Madziwa Rural Hospital   Shamva  Mashonaland Central  "
      ]
     },
     "execution_count": 39,
     "metadata": {},
     "output_type": "execute_result"
    }
   ],
   "source": [
    "data_v.head()"
   ]
  },
  {
   "cell_type": "code",
   "execution_count": 40,
   "metadata": {},
   "outputs": [],
   "source": [
    "s = facility['FacilityName'].str[:45].value_counts().index"
   ]
  },
  {
   "cell_type": "code",
   "execution_count": 41,
   "metadata": {},
   "outputs": [],
   "source": [
    "b=s[0]"
   ]
  },
  {
   "cell_type": "code",
   "execution_count": 42,
   "metadata": {},
   "outputs": [],
   "source": [
    "data_v.to_csv('/home/ignatious/Documents/tb screening/%s.csv'%b, encoding='utf-8', index=False)"
   ]
  },
  {
   "cell_type": "code",
   "execution_count": null,
   "metadata": {},
   "outputs": [],
   "source": []
  },
  {
   "cell_type": "markdown",
   "metadata": {},
   "source": [
    "# RETENTION"
   ]
  },
  {
   "cell_type": "code",
   "execution_count": 43,
   "metadata": {},
   "outputs": [],
   "source": [
    "path = \"/home/ignatious/Documents/Retention/%s/\"%b"
   ]
  },
  {
   "cell_type": "code",
   "execution_count": 44,
   "metadata": {},
   "outputs": [],
   "source": [
    "os.makedirs(path, exist_ok=True) "
   ]
  },
  {
   "cell_type": "code",
   "execution_count": 45,
   "metadata": {},
   "outputs": [],
   "source": [
    "df_visits = pd.read_sql('SELECT * FROM tblvisits', con=mydb)\n",
    "df_patients = pd.read_sql(\"Select * from tblpatients\",con=mydb)\n",
    "df_patients_prior_exp = pd.read_sql(\"Select * from tblpatientspriorexposure\",con=mydb)\n",
    "df_pregnacies = pd.read_sql(\"Select * from tblpregnancies \",con=mydb)\n",
    "df_tests = pd.read_sql(\"Select * from tbltests\",con=mydb)\n",
    "df_status = pd.read_sql(\"Select * from tblstatus\",con=mydb)\n",
    "df_problems = pd.read_sql(\"Select * from tblpatientsproblems\",con=mydb)\n",
    "df_appointments = pd.read_sql(\"Select * from tblappointments\",con=mydb)\n",
    "df_medication = pd.read_sql(\"Select * from tblmedication\",con=mydb)\n",
    "df_exposed_infants = pd.read_sql(\"Select * from tblexposedinfants\",con=mydb)\n",
    "df_exposed_infants_tests = pd.read_sql(\"Select * from tblexposedinfanttests\",con=mydb)\n",
    "df_exposed_infants_visits = pd.read_sql(\"Select * from tblexposedinfantvisits\",con=mydb)\n",
    "df_exposed_infants_medication = pd.read_sql(\"Select * from tblexposedinfantmedication\",con=mydb)"
   ]
  },
  {
   "cell_type": "code",
   "execution_count": 46,
   "metadata": {},
   "outputs": [],
   "source": [
    "fac=pd.read_sql(\"select c.regioncode,c.districtcode,c.facilitycode from tblconfig c\",con=mydb)\n",
    "\n",
    "fac['regioncode'] = fac.regioncode.astype(int)\n",
    "fac['districtcode'] = fac.districtcode.astype(str)\n",
    "fac['facilitycode'] = fac.facilitycode.astype(str)"
   ]
  },
  {
   "cell_type": "code",
   "execution_count": 47,
   "metadata": {},
   "outputs": [],
   "source": [
    "faility_name=fac['facilitycode']\n",
    "district_name=fac['districtcode']\n",
    "province_name=fac['regioncode']\n",
    "facility=str(faility_name[0])\n",
    "district=str(district_name[0])\n",
    "province = str(province_name[0])\n",
    "province=\"0\"+province\n",
    "Facility_code=province+district+facility"
   ]
  },
  {
   "cell_type": "code",
   "execution_count": 48,
   "metadata": {},
   "outputs": [
    {
     "name": "stderr",
     "output_type": "stream",
     "text": [
      "/home/ignatious/anaconda3/lib/python3.7/site-packages/ipykernel_launcher.py:5: SettingWithCopyWarning: \n",
      "A value is trying to be set on a copy of a slice from a DataFrame\n",
      "\n",
      "See the caveats in the documentation: https://pandas.pydata.org/pandas-docs/stable/user_guide/indexing.html#returning-a-view-versus-a-copy\n",
      "  \"\"\"\n",
      "/home/ignatious/anaconda3/lib/python3.7/site-packages/ipykernel_launcher.py:11: SettingWithCopyWarning: \n",
      "A value is trying to be set on a copy of a slice from a DataFrame\n",
      "\n",
      "See the caveats in the documentation: https://pandas.pydata.org/pandas-docs/stable/user_guide/indexing.html#returning-a-view-versus-a-copy\n",
      "  # This is added back by InteractiveShellApp.init_path()\n",
      "/home/ignatious/anaconda3/lib/python3.7/site-packages/ipykernel_launcher.py:16: SettingWithCopyWarning: \n",
      "A value is trying to be set on a copy of a slice from a DataFrame\n",
      "\n",
      "See the caveats in the documentation: https://pandas.pydata.org/pandas-docs/stable/user_guide/indexing.html#returning-a-view-versus-a-copy\n",
      "  app.launch_new_instance()\n"
     ]
    }
   ],
   "source": [
    "## Facility\n",
    "n=df_visits.shape[0]\n",
    "df_visits['Facilitycode']=fac['facilitycode']\n",
    "faility_name=df_visits['Facilitycode']\n",
    "faility_name[1:n] = faility_name[0]\n",
    "df_visits['Facilitycode']=faility_name\n",
    "filename= faility_name[0]\n",
    "## District\n",
    "df_visits['Districtcode']=fac['districtcode']\n",
    "district_name=df_visits['Districtcode']\n",
    "district_name[1:n] = district_name[0]\n",
    "df_visits['Districtcode']=district_name\n",
    "## Province\n",
    "df_visits['Provincecode']=fac['regioncode']\n",
    "province_name=df_visits['Provincecode']\n",
    "province_name[1:n] = province_name[0]\n",
    "df_visits['Provincecode']=province_name"
   ]
  },
  {
   "cell_type": "code",
   "execution_count": 49,
   "metadata": {},
   "outputs": [
    {
     "name": "stderr",
     "output_type": "stream",
     "text": [
      "/home/ignatious/anaconda3/lib/python3.7/site-packages/ipykernel_launcher.py:4: SettingWithCopyWarning: \n",
      "A value is trying to be set on a copy of a slice from a DataFrame\n",
      "\n",
      "See the caveats in the documentation: https://pandas.pydata.org/pandas-docs/stable/user_guide/indexing.html#returning-a-view-versus-a-copy\n",
      "  after removing the cwd from sys.path.\n",
      "/home/ignatious/anaconda3/lib/python3.7/site-packages/ipykernel_launcher.py:10: SettingWithCopyWarning: \n",
      "A value is trying to be set on a copy of a slice from a DataFrame\n",
      "\n",
      "See the caveats in the documentation: https://pandas.pydata.org/pandas-docs/stable/user_guide/indexing.html#returning-a-view-versus-a-copy\n",
      "  # Remove the CWD from sys.path while we load stuff.\n",
      "/home/ignatious/anaconda3/lib/python3.7/site-packages/ipykernel_launcher.py:15: SettingWithCopyWarning: \n",
      "A value is trying to be set on a copy of a slice from a DataFrame\n",
      "\n",
      "See the caveats in the documentation: https://pandas.pydata.org/pandas-docs/stable/user_guide/indexing.html#returning-a-view-versus-a-copy\n",
      "  from ipykernel import kernelapp as app\n"
     ]
    }
   ],
   "source": [
    "n=df_patients.shape[0]\n",
    "df_patients['Facilitycode']=fac['facilitycode']\n",
    "faility_name=df_patients['Facilitycode']\n",
    "faility_name[1:n] = faility_name[0]\n",
    "df_patients['Facilitycode']=faility_name\n",
    "filename= faility_name[0]\n",
    "## District\n",
    "df_patients['Districtcode']=fac['districtcode']\n",
    "district_name=df_patients['Districtcode']\n",
    "district_name[1:n] = district_name[0]\n",
    "df_patients['Districtcode']=district_name\n",
    "## Province\n",
    "df_patients['Provincecode']=fac['regioncode']\n",
    "province_name=df_patients['Provincecode']\n",
    "province_name[1:n] = province_name[0]\n",
    "df_patients['Provincecode']=province_name"
   ]
  },
  {
   "cell_type": "code",
   "execution_count": 50,
   "metadata": {},
   "outputs": [
    {
     "name": "stderr",
     "output_type": "stream",
     "text": [
      "/home/ignatious/anaconda3/lib/python3.7/site-packages/ipykernel_launcher.py:4: SettingWithCopyWarning: \n",
      "A value is trying to be set on a copy of a slice from a DataFrame\n",
      "\n",
      "See the caveats in the documentation: https://pandas.pydata.org/pandas-docs/stable/user_guide/indexing.html#returning-a-view-versus-a-copy\n",
      "  after removing the cwd from sys.path.\n",
      "/home/ignatious/anaconda3/lib/python3.7/site-packages/ipykernel_launcher.py:10: SettingWithCopyWarning: \n",
      "A value is trying to be set on a copy of a slice from a DataFrame\n",
      "\n",
      "See the caveats in the documentation: https://pandas.pydata.org/pandas-docs/stable/user_guide/indexing.html#returning-a-view-versus-a-copy\n",
      "  # Remove the CWD from sys.path while we load stuff.\n",
      "/home/ignatious/anaconda3/lib/python3.7/site-packages/ipykernel_launcher.py:15: SettingWithCopyWarning: \n",
      "A value is trying to be set on a copy of a slice from a DataFrame\n",
      "\n",
      "See the caveats in the documentation: https://pandas.pydata.org/pandas-docs/stable/user_guide/indexing.html#returning-a-view-versus-a-copy\n",
      "  from ipykernel import kernelapp as app\n"
     ]
    }
   ],
   "source": [
    "n=df_patients_prior_exp.shape[0]\n",
    "df_patients_prior_exp['Facilitycode']=fac['facilitycode']\n",
    "faility_name=df_patients_prior_exp['Facilitycode']\n",
    "faility_name[1:n] = faility_name[0]\n",
    "df_patients_prior_exp['Facilitycode']=faility_name\n",
    "filename= faility_name[0]\n",
    "## District\n",
    "df_patients_prior_exp['Districtcode']=fac['districtcode']\n",
    "district_name=df_patients_prior_exp['Districtcode']\n",
    "district_name[1:n] = district_name[0]\n",
    "df_patients_prior_exp['Districtcode']=district_name\n",
    "## Province\n",
    "df_patients_prior_exp['Provincecode']=fac['regioncode']\n",
    "province_name=df_patients_prior_exp['Provincecode']\n",
    "province_name[1:n] = province_name[0]\n",
    "df_patients_prior_exp['Provincecode']=province_name"
   ]
  },
  {
   "cell_type": "code",
   "execution_count": 51,
   "metadata": {},
   "outputs": [
    {
     "name": "stderr",
     "output_type": "stream",
     "text": [
      "/home/ignatious/anaconda3/lib/python3.7/site-packages/ipykernel_launcher.py:4: SettingWithCopyWarning: \n",
      "A value is trying to be set on a copy of a slice from a DataFrame\n",
      "\n",
      "See the caveats in the documentation: https://pandas.pydata.org/pandas-docs/stable/user_guide/indexing.html#returning-a-view-versus-a-copy\n",
      "  after removing the cwd from sys.path.\n",
      "/home/ignatious/anaconda3/lib/python3.7/site-packages/ipykernel_launcher.py:10: SettingWithCopyWarning: \n",
      "A value is trying to be set on a copy of a slice from a DataFrame\n",
      "\n",
      "See the caveats in the documentation: https://pandas.pydata.org/pandas-docs/stable/user_guide/indexing.html#returning-a-view-versus-a-copy\n",
      "  # Remove the CWD from sys.path while we load stuff.\n",
      "/home/ignatious/anaconda3/lib/python3.7/site-packages/ipykernel_launcher.py:15: SettingWithCopyWarning: \n",
      "A value is trying to be set on a copy of a slice from a DataFrame\n",
      "\n",
      "See the caveats in the documentation: https://pandas.pydata.org/pandas-docs/stable/user_guide/indexing.html#returning-a-view-versus-a-copy\n",
      "  from ipykernel import kernelapp as app\n"
     ]
    }
   ],
   "source": [
    "n=df_pregnacies.shape[0]\n",
    "df_pregnacies['Facilitycode']=fac['facilitycode']\n",
    "faility_name=df_pregnacies['Facilitycode']\n",
    "faility_name[1:n] = faility_name[0]\n",
    "df_pregnacies['Facilitycode']=faility_name\n",
    "filename= faility_name[0]\n",
    "## District\n",
    "df_pregnacies['Districtcode']=fac['districtcode']\n",
    "district_name=df_pregnacies['Districtcode']\n",
    "district_name[1:n] = district_name[0]\n",
    "df_pregnacies['Districtcode']=district_name\n",
    "## Province\n",
    "df_pregnacies['Provincecode']=fac['regioncode']\n",
    "province_name=df_pregnacies['Provincecode']\n",
    "province_name[1:n] = province_name[0]\n",
    "df_pregnacies['Provincecode']=province_name"
   ]
  },
  {
   "cell_type": "code",
   "execution_count": 52,
   "metadata": {},
   "outputs": [
    {
     "name": "stderr",
     "output_type": "stream",
     "text": [
      "/home/ignatious/anaconda3/lib/python3.7/site-packages/ipykernel_launcher.py:4: SettingWithCopyWarning: \n",
      "A value is trying to be set on a copy of a slice from a DataFrame\n",
      "\n",
      "See the caveats in the documentation: https://pandas.pydata.org/pandas-docs/stable/user_guide/indexing.html#returning-a-view-versus-a-copy\n",
      "  after removing the cwd from sys.path.\n",
      "/home/ignatious/anaconda3/lib/python3.7/site-packages/ipykernel_launcher.py:10: SettingWithCopyWarning: \n",
      "A value is trying to be set on a copy of a slice from a DataFrame\n",
      "\n",
      "See the caveats in the documentation: https://pandas.pydata.org/pandas-docs/stable/user_guide/indexing.html#returning-a-view-versus-a-copy\n",
      "  # Remove the CWD from sys.path while we load stuff.\n",
      "/home/ignatious/anaconda3/lib/python3.7/site-packages/ipykernel_launcher.py:15: SettingWithCopyWarning: \n",
      "A value is trying to be set on a copy of a slice from a DataFrame\n",
      "\n",
      "See the caveats in the documentation: https://pandas.pydata.org/pandas-docs/stable/user_guide/indexing.html#returning-a-view-versus-a-copy\n",
      "  from ipykernel import kernelapp as app\n"
     ]
    }
   ],
   "source": [
    "n=df_tests.shape[0]\n",
    "df_tests['Facilitycode']=fac['facilitycode']\n",
    "faility_name=df_tests['Facilitycode']\n",
    "faility_name[1:n] = faility_name[0]\n",
    "df_tests['Facilitycode']=faility_name\n",
    "filename= faility_name[0]\n",
    "## District\n",
    "df_tests['Districtcode']=fac['districtcode']\n",
    "district_name=df_tests['Districtcode']\n",
    "district_name[1:n] = district_name[0]\n",
    "df_tests['Districtcode']=district_name\n",
    "## Province\n",
    "df_tests['Provincecode']=fac['regioncode']\n",
    "province_name=df_tests['Provincecode']\n",
    "province_name[1:n] = province_name[0]\n",
    "df_tests['Provincecode']=province_name"
   ]
  },
  {
   "cell_type": "code",
   "execution_count": 53,
   "metadata": {},
   "outputs": [
    {
     "name": "stderr",
     "output_type": "stream",
     "text": [
      "/home/ignatious/anaconda3/lib/python3.7/site-packages/ipykernel_launcher.py:4: SettingWithCopyWarning: \n",
      "A value is trying to be set on a copy of a slice from a DataFrame\n",
      "\n",
      "See the caveats in the documentation: https://pandas.pydata.org/pandas-docs/stable/user_guide/indexing.html#returning-a-view-versus-a-copy\n",
      "  after removing the cwd from sys.path.\n",
      "/home/ignatious/anaconda3/lib/python3.7/site-packages/ipykernel_launcher.py:10: SettingWithCopyWarning: \n",
      "A value is trying to be set on a copy of a slice from a DataFrame\n",
      "\n",
      "See the caveats in the documentation: https://pandas.pydata.org/pandas-docs/stable/user_guide/indexing.html#returning-a-view-versus-a-copy\n",
      "  # Remove the CWD from sys.path while we load stuff.\n",
      "/home/ignatious/anaconda3/lib/python3.7/site-packages/ipykernel_launcher.py:15: SettingWithCopyWarning: \n",
      "A value is trying to be set on a copy of a slice from a DataFrame\n",
      "\n",
      "See the caveats in the documentation: https://pandas.pydata.org/pandas-docs/stable/user_guide/indexing.html#returning-a-view-versus-a-copy\n",
      "  from ipykernel import kernelapp as app\n"
     ]
    }
   ],
   "source": [
    "n=df_status.shape[0]\n",
    "df_status['Facilitycode']=fac['facilitycode']\n",
    "faility_name=df_status['Facilitycode']\n",
    "faility_name[1:n] = faility_name[0]\n",
    "df_status['Facilitycode']=faility_name\n",
    "filename= faility_name[0]\n",
    "## District\n",
    "df_status['Districtcode']=fac['districtcode']\n",
    "district_name=df_status['Districtcode']\n",
    "district_name[1:n] = district_name[0]\n",
    "df_status['Districtcode']=district_name\n",
    "## Province\n",
    "df_status['Provincecode']=fac['regioncode']\n",
    "province_name=df_status['Provincecode']\n",
    "province_name[1:n] = province_name[0]\n",
    "df_status['Provincecode']=province_name"
   ]
  },
  {
   "cell_type": "code",
   "execution_count": 54,
   "metadata": {},
   "outputs": [
    {
     "name": "stderr",
     "output_type": "stream",
     "text": [
      "/home/ignatious/anaconda3/lib/python3.7/site-packages/ipykernel_launcher.py:15: SettingWithCopyWarning: \n",
      "A value is trying to be set on a copy of a slice from a DataFrame\n",
      "\n",
      "See the caveats in the documentation: https://pandas.pydata.org/pandas-docs/stable/user_guide/indexing.html#returning-a-view-versus-a-copy\n",
      "  from ipykernel import kernelapp as app\n"
     ]
    }
   ],
   "source": [
    "n=df_problems.shape[0]\n",
    "df_problems['Facilitycode']=fac['facilitycode']\n",
    "faility_name=df_problems['Facilitycode']\n",
    "faility_name[1:n] = faility_name[0]\n",
    "df_problems['Facilitycode']=faility_name\n",
    "filename= faility_name[0]\n",
    "## District\n",
    "df_problems['Districtcode']=fac['districtcode']\n",
    "district_name=df_problems['Districtcode']\n",
    "district_name[1:n] = district_name[0]\n",
    "df_problems['Districtcode']=district_name\n",
    "## Province\n",
    "df_problems['Provincecode']=fac['regioncode']\n",
    "province_name=df_problems['Provincecode']\n",
    "province_name[1:n] = province_name[0]\n",
    "df_problems['Provincecode']=province_name"
   ]
  },
  {
   "cell_type": "code",
   "execution_count": 55,
   "metadata": {},
   "outputs": [
    {
     "name": "stderr",
     "output_type": "stream",
     "text": [
      "/home/ignatious/anaconda3/lib/python3.7/site-packages/ipykernel_launcher.py:4: SettingWithCopyWarning: \n",
      "A value is trying to be set on a copy of a slice from a DataFrame\n",
      "\n",
      "See the caveats in the documentation: https://pandas.pydata.org/pandas-docs/stable/user_guide/indexing.html#returning-a-view-versus-a-copy\n",
      "  after removing the cwd from sys.path.\n",
      "/home/ignatious/anaconda3/lib/python3.7/site-packages/ipykernel_launcher.py:10: SettingWithCopyWarning: \n",
      "A value is trying to be set on a copy of a slice from a DataFrame\n",
      "\n",
      "See the caveats in the documentation: https://pandas.pydata.org/pandas-docs/stable/user_guide/indexing.html#returning-a-view-versus-a-copy\n",
      "  # Remove the CWD from sys.path while we load stuff.\n",
      "/home/ignatious/anaconda3/lib/python3.7/site-packages/ipykernel_launcher.py:15: SettingWithCopyWarning: \n",
      "A value is trying to be set on a copy of a slice from a DataFrame\n",
      "\n",
      "See the caveats in the documentation: https://pandas.pydata.org/pandas-docs/stable/user_guide/indexing.html#returning-a-view-versus-a-copy\n",
      "  from ipykernel import kernelapp as app\n"
     ]
    }
   ],
   "source": [
    "n=df_appointments.shape[0]\n",
    "df_appointments['Facilitycode']=fac['facilitycode']\n",
    "faility_name=df_appointments['Facilitycode']\n",
    "faility_name[1:n] = faility_name[0]\n",
    "df_appointments['Facilitycode']=faility_name\n",
    "filename= faility_name[0]\n",
    "## District\n",
    "df_appointments['Districtcode']=fac['districtcode']\n",
    "district_name=df_appointments['Districtcode']\n",
    "district_name[1:n] = district_name[0]\n",
    "df_appointments['Districtcode']=district_name\n",
    "## Province\n",
    "df_appointments['Provincecode']=fac['regioncode']\n",
    "province_name=df_appointments['Provincecode']\n",
    "province_name[1:n] = province_name[0]\n",
    "df_appointments['Provincecode']=province_name"
   ]
  },
  {
   "cell_type": "code",
   "execution_count": 56,
   "metadata": {},
   "outputs": [
    {
     "name": "stderr",
     "output_type": "stream",
     "text": [
      "/home/ignatious/anaconda3/lib/python3.7/site-packages/ipykernel_launcher.py:4: SettingWithCopyWarning: \n",
      "A value is trying to be set on a copy of a slice from a DataFrame\n",
      "\n",
      "See the caveats in the documentation: https://pandas.pydata.org/pandas-docs/stable/user_guide/indexing.html#returning-a-view-versus-a-copy\n",
      "  after removing the cwd from sys.path.\n",
      "/home/ignatious/anaconda3/lib/python3.7/site-packages/ipykernel_launcher.py:10: SettingWithCopyWarning: \n",
      "A value is trying to be set on a copy of a slice from a DataFrame\n",
      "\n",
      "See the caveats in the documentation: https://pandas.pydata.org/pandas-docs/stable/user_guide/indexing.html#returning-a-view-versus-a-copy\n",
      "  # Remove the CWD from sys.path while we load stuff.\n",
      "/home/ignatious/anaconda3/lib/python3.7/site-packages/ipykernel_launcher.py:15: SettingWithCopyWarning: \n",
      "A value is trying to be set on a copy of a slice from a DataFrame\n",
      "\n",
      "See the caveats in the documentation: https://pandas.pydata.org/pandas-docs/stable/user_guide/indexing.html#returning-a-view-versus-a-copy\n",
      "  from ipykernel import kernelapp as app\n"
     ]
    }
   ],
   "source": [
    "n=df_medication.shape[0]\n",
    "df_medication['Facilitycode']=fac['facilitycode']\n",
    "faility_name=df_medication['Facilitycode']\n",
    "faility_name[1:n] = faility_name[0]\n",
    "df_medication['Facilitycode']=faility_name\n",
    "filename= faility_name[0]\n",
    "## District\n",
    "df_medication['Districtcode']=fac['districtcode']\n",
    "district_name=df_medication['Districtcode']\n",
    "district_name[1:n] = district_name[0]\n",
    "df_medication['Districtcode']=district_name\n",
    "## Province\n",
    "df_medication['Provincecode']=fac['regioncode']\n",
    "province_name=df_medication['Provincecode']\n",
    "province_name[1:n] = province_name[0]\n",
    "df_medication['Provincecode']=province_name"
   ]
  },
  {
   "cell_type": "code",
   "execution_count": 57,
   "metadata": {},
   "outputs": [
    {
     "name": "stderr",
     "output_type": "stream",
     "text": [
      "/home/ignatious/anaconda3/lib/python3.7/site-packages/ipykernel_launcher.py:4: SettingWithCopyWarning: \n",
      "A value is trying to be set on a copy of a slice from a DataFrame\n",
      "\n",
      "See the caveats in the documentation: https://pandas.pydata.org/pandas-docs/stable/user_guide/indexing.html#returning-a-view-versus-a-copy\n",
      "  after removing the cwd from sys.path.\n",
      "/home/ignatious/anaconda3/lib/python3.7/site-packages/ipykernel_launcher.py:10: SettingWithCopyWarning: \n",
      "A value is trying to be set on a copy of a slice from a DataFrame\n",
      "\n",
      "See the caveats in the documentation: https://pandas.pydata.org/pandas-docs/stable/user_guide/indexing.html#returning-a-view-versus-a-copy\n",
      "  # Remove the CWD from sys.path while we load stuff.\n",
      "/home/ignatious/anaconda3/lib/python3.7/site-packages/ipykernel_launcher.py:15: SettingWithCopyWarning: \n",
      "A value is trying to be set on a copy of a slice from a DataFrame\n",
      "\n",
      "See the caveats in the documentation: https://pandas.pydata.org/pandas-docs/stable/user_guide/indexing.html#returning-a-view-versus-a-copy\n",
      "  from ipykernel import kernelapp as app\n"
     ]
    }
   ],
   "source": [
    "n=df_exposed_infants.shape[0]\n",
    "df_exposed_infants['Facilitycode']=fac['facilitycode']\n",
    "faility_name=df_exposed_infants['Facilitycode']\n",
    "faility_name[1:n] = faility_name[0]\n",
    "df_exposed_infants['Facilitycode']=faility_name\n",
    "filename= faility_name[0]\n",
    "## District\n",
    "df_exposed_infants['Districtcode']=fac['districtcode']\n",
    "district_name=df_exposed_infants['Districtcode']\n",
    "district_name[1:n] = district_name[0]\n",
    "df_exposed_infants['Districtcode']=district_name\n",
    "## Province\n",
    "df_exposed_infants['Provincecode']=fac['regioncode']\n",
    "province_name=df_exposed_infants['Provincecode']\n",
    "province_name[1:n] = province_name[0]\n",
    "df_exposed_infants['Provincecode']=province_name"
   ]
  },
  {
   "cell_type": "code",
   "execution_count": 58,
   "metadata": {},
   "outputs": [
    {
     "name": "stderr",
     "output_type": "stream",
     "text": [
      "/home/ignatious/anaconda3/lib/python3.7/site-packages/ipykernel_launcher.py:4: SettingWithCopyWarning: \n",
      "A value is trying to be set on a copy of a slice from a DataFrame\n",
      "\n",
      "See the caveats in the documentation: https://pandas.pydata.org/pandas-docs/stable/user_guide/indexing.html#returning-a-view-versus-a-copy\n",
      "  after removing the cwd from sys.path.\n",
      "/home/ignatious/anaconda3/lib/python3.7/site-packages/ipykernel_launcher.py:10: SettingWithCopyWarning: \n",
      "A value is trying to be set on a copy of a slice from a DataFrame\n",
      "\n",
      "See the caveats in the documentation: https://pandas.pydata.org/pandas-docs/stable/user_guide/indexing.html#returning-a-view-versus-a-copy\n",
      "  # Remove the CWD from sys.path while we load stuff.\n",
      "/home/ignatious/anaconda3/lib/python3.7/site-packages/ipykernel_launcher.py:15: SettingWithCopyWarning: \n",
      "A value is trying to be set on a copy of a slice from a DataFrame\n",
      "\n",
      "See the caveats in the documentation: https://pandas.pydata.org/pandas-docs/stable/user_guide/indexing.html#returning-a-view-versus-a-copy\n",
      "  from ipykernel import kernelapp as app\n"
     ]
    }
   ],
   "source": [
    "n=df_exposed_infants_tests.shape[0]\n",
    "df_exposed_infants_tests['Facilitycode']=fac['facilitycode']\n",
    "faility_name=df_exposed_infants_tests['Facilitycode']\n",
    "faility_name[1:n] = faility_name[0]\n",
    "df_exposed_infants_tests['Facilitycode']=faility_name\n",
    "filename= faility_name[0]\n",
    "## District\n",
    "df_exposed_infants_tests['Districtcode']=fac['districtcode']\n",
    "district_name=df_exposed_infants_tests['Districtcode']\n",
    "district_name[1:n] = district_name[0]\n",
    "df_exposed_infants_tests['Districtcode']=district_name\n",
    "## Province\n",
    "df_exposed_infants_tests['Provincecode']=fac['regioncode']\n",
    "province_name=df_exposed_infants_tests['Provincecode']\n",
    "province_name[1:n] = province_name[0]\n",
    "df_exposed_infants_tests['Provincecode']=province_name"
   ]
  },
  {
   "cell_type": "code",
   "execution_count": 59,
   "metadata": {},
   "outputs": [
    {
     "name": "stderr",
     "output_type": "stream",
     "text": [
      "/home/ignatious/anaconda3/lib/python3.7/site-packages/ipykernel_launcher.py:4: SettingWithCopyWarning: \n",
      "A value is trying to be set on a copy of a slice from a DataFrame\n",
      "\n",
      "See the caveats in the documentation: https://pandas.pydata.org/pandas-docs/stable/user_guide/indexing.html#returning-a-view-versus-a-copy\n",
      "  after removing the cwd from sys.path.\n",
      "/home/ignatious/anaconda3/lib/python3.7/site-packages/ipykernel_launcher.py:10: SettingWithCopyWarning: \n",
      "A value is trying to be set on a copy of a slice from a DataFrame\n",
      "\n",
      "See the caveats in the documentation: https://pandas.pydata.org/pandas-docs/stable/user_guide/indexing.html#returning-a-view-versus-a-copy\n",
      "  # Remove the CWD from sys.path while we load stuff.\n",
      "/home/ignatious/anaconda3/lib/python3.7/site-packages/ipykernel_launcher.py:15: SettingWithCopyWarning: \n",
      "A value is trying to be set on a copy of a slice from a DataFrame\n",
      "\n",
      "See the caveats in the documentation: https://pandas.pydata.org/pandas-docs/stable/user_guide/indexing.html#returning-a-view-versus-a-copy\n",
      "  from ipykernel import kernelapp as app\n"
     ]
    }
   ],
   "source": [
    "n=df_exposed_infants_visits.shape[0]\n",
    "df_exposed_infants_visits['Facilitycode']=fac['facilitycode']\n",
    "faility_name=df_exposed_infants_visits['Facilitycode']\n",
    "faility_name[1:n] = faility_name[0]\n",
    "df_exposed_infants_visits['Facilitycode']=faility_name\n",
    "filename= faility_name[0]\n",
    "## District\n",
    "df_exposed_infants_visits['Districtcode']=fac['districtcode']\n",
    "district_name=df_exposed_infants_visits['Districtcode']\n",
    "district_name[1:n] = district_name[0]\n",
    "df_exposed_infants_visits['Districtcode']=district_name\n",
    "## Province\n",
    "df_exposed_infants_visits['Provincecode']=fac['regioncode']\n",
    "province_name=df_exposed_infants_visits['Provincecode']\n",
    "province_name[1:n] = province_name[0]\n",
    "df_exposed_infants_visits['Provincecode']=province_name"
   ]
  },
  {
   "cell_type": "code",
   "execution_count": 60,
   "metadata": {},
   "outputs": [
    {
     "name": "stderr",
     "output_type": "stream",
     "text": [
      "/home/ignatious/anaconda3/lib/python3.7/site-packages/ipykernel_launcher.py:4: SettingWithCopyWarning: \n",
      "A value is trying to be set on a copy of a slice from a DataFrame\n",
      "\n",
      "See the caveats in the documentation: https://pandas.pydata.org/pandas-docs/stable/user_guide/indexing.html#returning-a-view-versus-a-copy\n",
      "  after removing the cwd from sys.path.\n",
      "/home/ignatious/anaconda3/lib/python3.7/site-packages/ipykernel_launcher.py:10: SettingWithCopyWarning: \n",
      "A value is trying to be set on a copy of a slice from a DataFrame\n",
      "\n",
      "See the caveats in the documentation: https://pandas.pydata.org/pandas-docs/stable/user_guide/indexing.html#returning-a-view-versus-a-copy\n",
      "  # Remove the CWD from sys.path while we load stuff.\n",
      "/home/ignatious/anaconda3/lib/python3.7/site-packages/ipykernel_launcher.py:15: SettingWithCopyWarning: \n",
      "A value is trying to be set on a copy of a slice from a DataFrame\n",
      "\n",
      "See the caveats in the documentation: https://pandas.pydata.org/pandas-docs/stable/user_guide/indexing.html#returning-a-view-versus-a-copy\n",
      "  from ipykernel import kernelapp as app\n"
     ]
    }
   ],
   "source": [
    "n=df_exposed_infants_medication.shape[0]\n",
    "df_exposed_infants_medication['Facilitycode']=fac['facilitycode']\n",
    "faility_name=df_exposed_infants_medication['Facilitycode']\n",
    "faility_name[1:n] = faility_name[0]\n",
    "df_exposed_infants_medication['Facilitycode']=faility_name\n",
    "filename= faility_name[0]\n",
    "## District\n",
    "df_exposed_infants_medication['Districtcode']=fac['districtcode']\n",
    "district_name=df_exposed_infants_medication['Districtcode']\n",
    "district_name[1:n] = district_name[0]\n",
    "df_exposed_infants_medication['Districtcode']=district_name\n",
    "## Province\n",
    "df_exposed_infants_medication['Provincecode']=fac['regioncode']\n",
    "province_name=df_exposed_infants_medication['Provincecode']\n",
    "province_name[1:n] = province_name[0]\n",
    "df_exposed_infants_medication['Provincecode']=province_name"
   ]
  },
  {
   "cell_type": "code",
   "execution_count": 61,
   "metadata": {},
   "outputs": [],
   "source": [
    "df_visits = df_visits.applymap(str)\n",
    "df_patients = df_patients.applymap(str)\n",
    "df_patients_prior_exp = df_patients_prior_exp.applymap(str)\n",
    "df_pregnacies = df_pregnacies.applymap(str)\n",
    "df_tests = df_tests.applymap(str)\n",
    "df_status = df_status.applymap(str)\n",
    "df_problems = df_problems.applymap(str)\n",
    "df_appointments = df_appointments.applymap(str)\n",
    "df_medication = df_medication.applymap(str)\n",
    "df_exposed_infants = df_exposed_infants.applymap(str)\n",
    "df_exposed_infants_tests = df_exposed_infants_tests.applymap(str)\n",
    "df_exposed_infants_visits = df_exposed_infants_visits.applymap(str)\n",
    "df_exposed_infants_medication = df_exposed_infants_medication.applymap(str)"
   ]
  },
  {
   "cell_type": "code",
   "execution_count": null,
   "metadata": {},
   "outputs": [],
   "source": []
  },
  {
   "cell_type": "code",
   "execution_count": 62,
   "metadata": {},
   "outputs": [],
   "source": [
    "ext = \".dta\""
   ]
  },
  {
   "cell_type": "code",
   "execution_count": 63,
   "metadata": {},
   "outputs": [],
   "source": [
    "visit_path =path+'tblvisits'+ext\n",
    "prio_exp_path =path+'tblpatientspriorexposure'+ext\n",
    "preg_path=path+'tblpregnancies'+ext\n",
    "pat_parth=path+'tblpatients'+ext\n",
    "test_path=path+'tbltests'+ext\n",
    "status_path=path+'tblstatus'+ext\n",
    "problems_path=path+'tblpatientsproblems'+ext\n",
    "app_path=path+'tblappointments'+ext\n",
    "med_path=path+'tblmedication'+ext\n",
    "exp_inf_path=path+'tblexposedinfants'+ext\n",
    "exp_inf_test_path=path+'tblexposedinfanttests'+ext\n",
    "exp_inf_visits_path=path+'tblexposedinfantvisits'+ext\n",
    "exp_inf_med_path=path+'tblexposedinfantmedication'+ext"
   ]
  },
  {
   "cell_type": "code",
   "execution_count": 64,
   "metadata": {},
   "outputs": [],
   "source": [
    "export_visits = df_visits.to_stata(visit_path, version=118, convert_strl = df_visits.columns[df_visits.isnull().all() & df_visits.dtypes==object].tolist())\n",
    "export_prio_expos= df_patients_prior_exp.to_stata(prio_exp_path, version=118, convert_strl = df_patients_prior_exp.columns[df_patients_prior_exp.isnull().all() & df_patients_prior_exp.dtypes==object].tolist())\n",
    "export_pregs = df_pregnacies.to_stata(preg_path, version=118, convert_strl = df_pregnacies.columns[df_pregnacies.isnull().all() & df_pregnacies.dtypes==object].tolist())\n",
    "export_pats= df_patients.to_stata(pat_parth, version=118, convert_strl = df_patients.columns[df_patients.isnull().all() & df_patients.dtypes==object].tolist())\n",
    "export_tests= df_tests.to_stata(test_path, version=118, convert_strl = df_tests.columns[df_tests.isnull().all() & df_tests.dtypes==object].tolist())\n",
    "export_stutaus= df_status.to_stata(status_path, version=118, convert_strl = df_status.columns[df_status.isnull().all() & df_status.dtypes==object].tolist())\n",
    "export_problems= df_problems.to_stata(problems_path, version=118, convert_strl = df_problems.columns[df_problems.isnull().all() & df_problems.dtypes==object].tolist())\n",
    "export_apps= df_appointments.to_stata(app_path, version=118, convert_strl = df_appointments.columns[df_appointments.isnull().all() & df_appointments.dtypes==object].tolist())\n",
    "export_meds= df_medication.to_stata(med_path, version=118, convert_strl = df_medication.columns[df_medication.isnull().all() & df_medication.dtypes==object].tolist())\n",
    "export_exp_infs= df_exposed_infants.to_stata(exp_inf_path, version=118, convert_strl = df_exposed_infants.columns[df_exposed_infants.isnull().all() & df_exposed_infants.dtypes==object].tolist())\n",
    "export_exp_infs_tests= df_exposed_infants_tests.to_stata(exp_inf_test_path, version=118, convert_strl = df_exposed_infants_tests.columns[df_exposed_infants_tests.isnull().all() & df_exposed_infants_tests.dtypes==object].tolist())\n",
    "export_exp_infs_visits= df_exposed_infants_visits.to_stata(exp_inf_visits_path, version=118, convert_strl = df_exposed_infants_visits.columns[df_exposed_infants_visits.isnull().all() & df_exposed_infants_visits.dtypes==object].tolist())\n",
    "export_exp_infs_meds= df_exposed_infants_medication.to_stata(exp_inf_med_path, version=118, convert_strl = df_exposed_infants_medication.columns[df_exposed_infants_medication.isnull().all() & df_exposed_infants_medication.dtypes==object].tolist())"
   ]
  },
  {
   "cell_type": "code",
   "execution_count": 65,
   "metadata": {},
   "outputs": [],
   "source": [
    "mydb.close()"
   ]
  },
  {
   "cell_type": "code",
   "execution_count": null,
   "metadata": {},
   "outputs": [],
   "source": []
  }
 ],
 "metadata": {
  "kernelspec": {
   "display_name": "Python 3 (ipykernel)",
   "language": "python",
   "name": "python3"
  },
  "language_info": {
   "codemirror_mode": {
    "name": "ipython",
    "version": 3
   },
   "file_extension": ".py",
   "mimetype": "text/x-python",
   "name": "python",
   "nbconvert_exporter": "python",
   "pygments_lexer": "ipython3",
   "version": "3.7.11"
  }
 },
 "nbformat": 4,
 "nbformat_minor": 4
}
