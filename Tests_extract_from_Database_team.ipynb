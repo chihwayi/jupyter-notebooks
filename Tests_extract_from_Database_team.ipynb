{
 "cells": [
  {
   "cell_type": "code",
   "execution_count": 772,
   "metadata": {},
   "outputs": [],
   "source": [
    "import pandas as pd\n",
    "import numpy as np\n",
    "import seaborn as sns\n",
    "import datetime as dt\n",
    "import math as time\n",
    "import mysql.connector \n",
    "import matplotlib.pyplot as plt\n",
    "%matplotlib inline"
   ]
  },
  {
   "cell_type": "code",
   "execution_count": 773,
   "metadata": {},
   "outputs": [],
   "source": [
    " \n",
    "import pymysql\n",
    "from sqlalchemy import create_engine"
   ]
  },
  {
   "cell_type": "code",
   "execution_count": 774,
   "metadata": {},
   "outputs": [],
   "source": [
    "mydb = mysql.connector.connect(\n",
    "  host=\"localhost\",\n",
    "  user=\"root\",\n",
    "  passwd=\"\",\n",
    "  database=\"test\"\n",
    ")\n"
   ]
  },
  {
   "cell_type": "code",
   "execution_count": 775,
   "metadata": {},
   "outputs": [],
   "source": [
    "df = pd.read_sql(\"Select * from tbltests\",con=mydb)"
   ]
  },
  {
   "cell_type": "code",
   "execution_count": 776,
   "metadata": {},
   "outputs": [
    {
     "data": {
      "text/html": [
       "<div>\n",
       "<style scoped>\n",
       "    .dataframe tbody tr th:only-of-type {\n",
       "        vertical-align: middle;\n",
       "    }\n",
       "\n",
       "    .dataframe tbody tr th {\n",
       "        vertical-align: top;\n",
       "    }\n",
       "\n",
       "    .dataframe thead th {\n",
       "        text-align: right;\n",
       "    }\n",
       "</style>\n",
       "<table border=\"1\" class=\"dataframe\">\n",
       "  <thead>\n",
       "    <tr style=\"text-align: right;\">\n",
       "      <th></th>\n",
       "      <th>TheID</th>\n",
       "      <th>PatientID</th>\n",
       "      <th>TestTypeID</th>\n",
       "      <th>TestDate</th>\n",
       "      <th>ResultDate</th>\n",
       "      <th>ResultNumeric</th>\n",
       "      <th>ResultNotes</th>\n",
       "    </tr>\n",
       "  </thead>\n",
       "  <tbody>\n",
       "    <tr>\n",
       "      <th>0</th>\n",
       "      <td>6</td>\n",
       "      <td>03-07-27-2016-A-00001</td>\n",
       "      <td>WGT</td>\n",
       "      <td>2016-01-01</td>\n",
       "      <td>2016-01-01</td>\n",
       "      <td>49.3</td>\n",
       "      <td>None</td>\n",
       "    </tr>\n",
       "    <tr>\n",
       "      <th>1</th>\n",
       "      <td>8</td>\n",
       "      <td>03-07-27-2016-A-00002</td>\n",
       "      <td>WGT</td>\n",
       "      <td>2016-01-02</td>\n",
       "      <td>2016-01-02</td>\n",
       "      <td>63.0</td>\n",
       "      <td>None</td>\n",
       "    </tr>\n",
       "    <tr>\n",
       "      <th>2</th>\n",
       "      <td>9</td>\n",
       "      <td>03-07-27-2016-A-00002</td>\n",
       "      <td>TMP</td>\n",
       "      <td>2016-01-02</td>\n",
       "      <td>2016-01-02</td>\n",
       "      <td>36.0</td>\n",
       "      <td>None</td>\n",
       "    </tr>\n",
       "    <tr>\n",
       "      <th>3</th>\n",
       "      <td>10</td>\n",
       "      <td>03-07-27-2016-A-00002</td>\n",
       "      <td>BPD</td>\n",
       "      <td>2016-01-02</td>\n",
       "      <td>2016-01-02</td>\n",
       "      <td>69.0</td>\n",
       "      <td>None</td>\n",
       "    </tr>\n",
       "    <tr>\n",
       "      <th>4</th>\n",
       "      <td>11</td>\n",
       "      <td>03-07-27-2016-A-00002</td>\n",
       "      <td>BPS</td>\n",
       "      <td>2016-01-02</td>\n",
       "      <td>2016-01-02</td>\n",
       "      <td>113.0</td>\n",
       "      <td>None</td>\n",
       "    </tr>\n",
       "  </tbody>\n",
       "</table>\n",
       "</div>"
      ],
      "text/plain": [
       "   TheID              PatientID TestTypeID   TestDate ResultDate  \\\n",
       "0      6  03-07-27-2016-A-00001        WGT 2016-01-01 2016-01-01   \n",
       "1      8  03-07-27-2016-A-00002        WGT 2016-01-02 2016-01-02   \n",
       "2      9  03-07-27-2016-A-00002        TMP 2016-01-02 2016-01-02   \n",
       "3     10  03-07-27-2016-A-00002        BPD 2016-01-02 2016-01-02   \n",
       "4     11  03-07-27-2016-A-00002        BPS 2016-01-02 2016-01-02   \n",
       "\n",
       "   ResultNumeric ResultNotes  \n",
       "0           49.3        None  \n",
       "1           63.0        None  \n",
       "2           36.0        None  \n",
       "3           69.0        None  \n",
       "4          113.0        None  "
      ]
     },
     "execution_count": 776,
     "metadata": {},
     "output_type": "execute_result"
    }
   ],
   "source": [
    "df.head()"
   ]
  },
  {
   "cell_type": "code",
   "execution_count": 777,
   "metadata": {},
   "outputs": [],
   "source": [
    "fac=pd.read_sql(\"select c.regioncode,c.districtcode,c.facilitycode from tblconfig c\",con=mydb)"
   ]
  },
  {
   "cell_type": "code",
   "execution_count": 778,
   "metadata": {
    "scrolled": true
   },
   "outputs": [
    {
     "data": {
      "text/html": [
       "<div>\n",
       "<style scoped>\n",
       "    .dataframe tbody tr th:only-of-type {\n",
       "        vertical-align: middle;\n",
       "    }\n",
       "\n",
       "    .dataframe tbody tr th {\n",
       "        vertical-align: top;\n",
       "    }\n",
       "\n",
       "    .dataframe thead th {\n",
       "        text-align: right;\n",
       "    }\n",
       "</style>\n",
       "<table border=\"1\" class=\"dataframe\">\n",
       "  <thead>\n",
       "    <tr style=\"text-align: right;\">\n",
       "      <th></th>\n",
       "      <th>regioncode</th>\n",
       "      <th>districtcode</th>\n",
       "      <th>facilitycode</th>\n",
       "    </tr>\n",
       "  </thead>\n",
       "  <tbody>\n",
       "    <tr>\n",
       "      <th>0</th>\n",
       "      <td>3</td>\n",
       "      <td>7</td>\n",
       "      <td>27</td>\n",
       "    </tr>\n",
       "  </tbody>\n",
       "</table>\n",
       "</div>"
      ],
      "text/plain": [
       "   regioncode districtcode facilitycode\n",
       "0           3            7           27"
      ]
     },
     "execution_count": 778,
     "metadata": {},
     "output_type": "execute_result"
    }
   ],
   "source": [
    "fac"
   ]
  },
  {
   "cell_type": "code",
   "execution_count": 779,
   "metadata": {},
   "outputs": [],
   "source": [
    "n=df.shape[0]"
   ]
  },
  {
   "cell_type": "code",
   "execution_count": 780,
   "metadata": {},
   "outputs": [
    {
     "data": {
      "text/plain": [
       "8492"
      ]
     },
     "execution_count": 780,
     "metadata": {},
     "output_type": "execute_result"
    }
   ],
   "source": [
    "n"
   ]
  },
  {
   "cell_type": "code",
   "execution_count": 781,
   "metadata": {
    "scrolled": true
   },
   "outputs": [
    {
     "name": "stderr",
     "output_type": "stream",
     "text": [
      "/home/devoop/anaconda3/lib/python3.7/site-packages/ipykernel_launcher.py:4: SettingWithCopyWarning: \n",
      "A value is trying to be set on a copy of a slice from a DataFrame\n",
      "\n",
      "See the caveats in the documentation: http://pandas.pydata.org/pandas-docs/stable/indexing.html#indexing-view-versus-copy\n",
      "  after removing the cwd from sys.path.\n",
      "/home/devoop/anaconda3/lib/python3.7/site-packages/ipykernel_launcher.py:10: SettingWithCopyWarning: \n",
      "A value is trying to be set on a copy of a slice from a DataFrame\n",
      "\n",
      "See the caveats in the documentation: http://pandas.pydata.org/pandas-docs/stable/indexing.html#indexing-view-versus-copy\n",
      "  # Remove the CWD from sys.path while we load stuff.\n",
      "/home/devoop/anaconda3/lib/python3.7/site-packages/ipykernel_launcher.py:15: SettingWithCopyWarning: \n",
      "A value is trying to be set on a copy of a slice from a DataFrame\n",
      "\n",
      "See the caveats in the documentation: http://pandas.pydata.org/pandas-docs/stable/indexing.html#indexing-view-versus-copy\n",
      "  from ipykernel import kernelapp as app\n"
     ]
    }
   ],
   "source": [
    "## Facility\n",
    "df['Facilitycode']=fac['facilitycode']\n",
    "faility_name=df['Facilitycode']\n",
    "faility_name[1:n] = faility_name[0]\n",
    "df['Facilitycode']=faility_name\n",
    "filename= faility_name[0]\n",
    "## District\n",
    "df['Districtcode']=fac['districtcode']\n",
    "district_name=df['Districtcode']\n",
    "district_name[1:n] = district_name[0]\n",
    "df['Districtcode']=district_name\n",
    "## Province\n",
    "df['Provincedoce']=fac['regioncode']\n",
    "province_name=df['Provincedoce']\n",
    "province_name[1:n] = province_name[0]\n",
    "df['Provincedoce']=province_name"
   ]
  },
  {
   "cell_type": "code",
   "execution_count": 782,
   "metadata": {
    "scrolled": false
   },
   "outputs": [
    {
     "data": {
      "text/html": [
       "<div>\n",
       "<style scoped>\n",
       "    .dataframe tbody tr th:only-of-type {\n",
       "        vertical-align: middle;\n",
       "    }\n",
       "\n",
       "    .dataframe tbody tr th {\n",
       "        vertical-align: top;\n",
       "    }\n",
       "\n",
       "    .dataframe thead th {\n",
       "        text-align: right;\n",
       "    }\n",
       "</style>\n",
       "<table border=\"1\" class=\"dataframe\">\n",
       "  <thead>\n",
       "    <tr style=\"text-align: right;\">\n",
       "      <th></th>\n",
       "      <th>TheID</th>\n",
       "      <th>PatientID</th>\n",
       "      <th>TestTypeID</th>\n",
       "      <th>TestDate</th>\n",
       "      <th>ResultDate</th>\n",
       "      <th>ResultNumeric</th>\n",
       "      <th>ResultNotes</th>\n",
       "      <th>Facilitycode</th>\n",
       "      <th>Districtcode</th>\n",
       "      <th>Provincedoce</th>\n",
       "    </tr>\n",
       "  </thead>\n",
       "  <tbody>\n",
       "    <tr>\n",
       "      <th>0</th>\n",
       "      <td>6</td>\n",
       "      <td>03-07-27-2016-A-00001</td>\n",
       "      <td>WGT</td>\n",
       "      <td>2016-01-01</td>\n",
       "      <td>2016-01-01</td>\n",
       "      <td>49.3</td>\n",
       "      <td>None</td>\n",
       "      <td>27</td>\n",
       "      <td>7</td>\n",
       "      <td>3.0</td>\n",
       "    </tr>\n",
       "    <tr>\n",
       "      <th>1</th>\n",
       "      <td>8</td>\n",
       "      <td>03-07-27-2016-A-00002</td>\n",
       "      <td>WGT</td>\n",
       "      <td>2016-01-02</td>\n",
       "      <td>2016-01-02</td>\n",
       "      <td>63.0</td>\n",
       "      <td>None</td>\n",
       "      <td>27</td>\n",
       "      <td>7</td>\n",
       "      <td>3.0</td>\n",
       "    </tr>\n",
       "    <tr>\n",
       "      <th>2</th>\n",
       "      <td>9</td>\n",
       "      <td>03-07-27-2016-A-00002</td>\n",
       "      <td>TMP</td>\n",
       "      <td>2016-01-02</td>\n",
       "      <td>2016-01-02</td>\n",
       "      <td>36.0</td>\n",
       "      <td>None</td>\n",
       "      <td>27</td>\n",
       "      <td>7</td>\n",
       "      <td>3.0</td>\n",
       "    </tr>\n",
       "    <tr>\n",
       "      <th>3</th>\n",
       "      <td>10</td>\n",
       "      <td>03-07-27-2016-A-00002</td>\n",
       "      <td>BPD</td>\n",
       "      <td>2016-01-02</td>\n",
       "      <td>2016-01-02</td>\n",
       "      <td>69.0</td>\n",
       "      <td>None</td>\n",
       "      <td>27</td>\n",
       "      <td>7</td>\n",
       "      <td>3.0</td>\n",
       "    </tr>\n",
       "    <tr>\n",
       "      <th>4</th>\n",
       "      <td>11</td>\n",
       "      <td>03-07-27-2016-A-00002</td>\n",
       "      <td>BPS</td>\n",
       "      <td>2016-01-02</td>\n",
       "      <td>2016-01-02</td>\n",
       "      <td>113.0</td>\n",
       "      <td>None</td>\n",
       "      <td>27</td>\n",
       "      <td>7</td>\n",
       "      <td>3.0</td>\n",
       "    </tr>\n",
       "  </tbody>\n",
       "</table>\n",
       "</div>"
      ],
      "text/plain": [
       "   TheID              PatientID TestTypeID   TestDate ResultDate  \\\n",
       "0      6  03-07-27-2016-A-00001        WGT 2016-01-01 2016-01-01   \n",
       "1      8  03-07-27-2016-A-00002        WGT 2016-01-02 2016-01-02   \n",
       "2      9  03-07-27-2016-A-00002        TMP 2016-01-02 2016-01-02   \n",
       "3     10  03-07-27-2016-A-00002        BPD 2016-01-02 2016-01-02   \n",
       "4     11  03-07-27-2016-A-00002        BPS 2016-01-02 2016-01-02   \n",
       "\n",
       "   ResultNumeric ResultNotes Facilitycode Districtcode  Provincedoce  \n",
       "0           49.3        None           27            7           3.0  \n",
       "1           63.0        None           27            7           3.0  \n",
       "2           36.0        None           27            7           3.0  \n",
       "3           69.0        None           27            7           3.0  \n",
       "4          113.0        None           27            7           3.0  "
      ]
     },
     "execution_count": 782,
     "metadata": {},
     "output_type": "execute_result"
    }
   ],
   "source": [
    "df.head()"
   ]
  },
  {
   "cell_type": "code",
   "execution_count": 783,
   "metadata": {
    "scrolled": false
   },
   "outputs": [
    {
     "data": {
      "text/html": [
       "<div>\n",
       "<style scoped>\n",
       "    .dataframe tbody tr th:only-of-type {\n",
       "        vertical-align: middle;\n",
       "    }\n",
       "\n",
       "    .dataframe tbody tr th {\n",
       "        vertical-align: top;\n",
       "    }\n",
       "\n",
       "    .dataframe thead th {\n",
       "        text-align: right;\n",
       "    }\n",
       "</style>\n",
       "<table border=\"1\" class=\"dataframe\">\n",
       "  <thead>\n",
       "    <tr style=\"text-align: right;\">\n",
       "      <th></th>\n",
       "      <th>TheID</th>\n",
       "      <th>PatientID</th>\n",
       "      <th>TestTypeID</th>\n",
       "      <th>TestDate</th>\n",
       "      <th>ResultDate</th>\n",
       "      <th>ResultNumeric</th>\n",
       "      <th>ResultNotes</th>\n",
       "      <th>Facilitycode</th>\n",
       "      <th>Districtcode</th>\n",
       "      <th>Provincedoce</th>\n",
       "    </tr>\n",
       "  </thead>\n",
       "  <tbody>\n",
       "    <tr>\n",
       "      <th>8487</th>\n",
       "      <td>8496</td>\n",
       "      <td>03-07-27-2019-A-00035</td>\n",
       "      <td>WGT</td>\n",
       "      <td>2019-06-19</td>\n",
       "      <td>2019-06-19</td>\n",
       "      <td>63.0</td>\n",
       "      <td>None</td>\n",
       "      <td>27</td>\n",
       "      <td>7</td>\n",
       "      <td>3.0</td>\n",
       "    </tr>\n",
       "    <tr>\n",
       "      <th>8488</th>\n",
       "      <td>8497</td>\n",
       "      <td>03-07-27-2019-A-00035</td>\n",
       "      <td>BPS</td>\n",
       "      <td>2019-06-19</td>\n",
       "      <td>2019-06-19</td>\n",
       "      <td>112.0</td>\n",
       "      <td>None</td>\n",
       "      <td>27</td>\n",
       "      <td>7</td>\n",
       "      <td>3.0</td>\n",
       "    </tr>\n",
       "    <tr>\n",
       "      <th>8489</th>\n",
       "      <td>8498</td>\n",
       "      <td>03-07-27-2019-A-00035</td>\n",
       "      <td>BPD</td>\n",
       "      <td>2019-06-19</td>\n",
       "      <td>2019-06-19</td>\n",
       "      <td>72.0</td>\n",
       "      <td>None</td>\n",
       "      <td>27</td>\n",
       "      <td>7</td>\n",
       "      <td>3.0</td>\n",
       "    </tr>\n",
       "    <tr>\n",
       "      <th>8490</th>\n",
       "      <td>8499</td>\n",
       "      <td>03-07-27-2019-A-00035</td>\n",
       "      <td>PUL</td>\n",
       "      <td>2019-06-19</td>\n",
       "      <td>2019-06-19</td>\n",
       "      <td>74.0</td>\n",
       "      <td>None</td>\n",
       "      <td>27</td>\n",
       "      <td>7</td>\n",
       "      <td>3.0</td>\n",
       "    </tr>\n",
       "    <tr>\n",
       "      <th>8491</th>\n",
       "      <td>8500</td>\n",
       "      <td>03-07-27-2019-A-00035</td>\n",
       "      <td>RES</td>\n",
       "      <td>2019-06-19</td>\n",
       "      <td>2019-06-19</td>\n",
       "      <td>19.0</td>\n",
       "      <td>None</td>\n",
       "      <td>27</td>\n",
       "      <td>7</td>\n",
       "      <td>3.0</td>\n",
       "    </tr>\n",
       "  </tbody>\n",
       "</table>\n",
       "</div>"
      ],
      "text/plain": [
       "      TheID              PatientID TestTypeID   TestDate ResultDate  \\\n",
       "8487   8496  03-07-27-2019-A-00035        WGT 2019-06-19 2019-06-19   \n",
       "8488   8497  03-07-27-2019-A-00035        BPS 2019-06-19 2019-06-19   \n",
       "8489   8498  03-07-27-2019-A-00035        BPD 2019-06-19 2019-06-19   \n",
       "8490   8499  03-07-27-2019-A-00035        PUL 2019-06-19 2019-06-19   \n",
       "8491   8500  03-07-27-2019-A-00035        RES 2019-06-19 2019-06-19   \n",
       "\n",
       "      ResultNumeric ResultNotes Facilitycode Districtcode  Provincedoce  \n",
       "8487           63.0        None           27            7           3.0  \n",
       "8488          112.0        None           27            7           3.0  \n",
       "8489           72.0        None           27            7           3.0  \n",
       "8490           74.0        None           27            7           3.0  \n",
       "8491           19.0        None           27            7           3.0  "
      ]
     },
     "execution_count": 783,
     "metadata": {},
     "output_type": "execute_result"
    }
   ],
   "source": [
    "df.tail()"
   ]
  },
  {
   "cell_type": "code",
   "execution_count": 784,
   "metadata": {
    "scrolled": false
   },
   "outputs": [
    {
     "data": {
      "text/plain": [
       "WGT    5123\n",
       "TMP     664\n",
       "BPS     663\n",
       "BPD     565\n",
       "PUL     411\n",
       "RES     373\n",
       "VRL     306\n",
       "CD4     256\n",
       "HGM      89\n",
       "HBX      22\n",
       "WBC       6\n",
       "          5\n",
       "OTH       4\n",
       "CD%       4\n",
       "ALT       1\n",
       "Name: TestTypeID, dtype: int64"
      ]
     },
     "execution_count": 784,
     "metadata": {},
     "output_type": "execute_result"
    }
   ],
   "source": [
    "df.TestTypeID.value_counts()"
   ]
  },
  {
   "cell_type": "markdown",
   "metadata": {},
   "source": [
    "# Exporting all test"
   ]
  },
  {
   "cell_type": "code",
   "execution_count": 785,
   "metadata": {},
   "outputs": [],
   "source": [
    "filename='kadzere'"
   ]
  },
  {
   "cell_type": "code",
   "execution_count": 786,
   "metadata": {},
   "outputs": [],
   "source": [
    "filename = df.to_csv (r'/media/devoop/GINA/Abstraction June 2019/Abstraction2/Mashonaland East/kadzere.csv', index = None, header=True) #Don't forget to add '.csv' at the end of the path"
   ]
  }
 ],
 "metadata": {
  "kernelspec": {
   "display_name": "Python 3",
   "language": "python",
   "name": "python3"
  },
  "language_info": {
   "codemirror_mode": {
    "name": "ipython",
    "version": 3
   },
   "file_extension": ".py",
   "mimetype": "text/x-python",
   "name": "python",
   "nbconvert_exporter": "python",
   "pygments_lexer": "ipython3",
   "version": "3.7.3"
  }
 },
 "nbformat": 4,
 "nbformat_minor": 2
}
