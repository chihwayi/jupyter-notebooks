{
 "cells": [
  {
   "cell_type": "code",
   "execution_count": null,
   "metadata": {},
   "outputs": [],
   "source": [
    "import pandas as pd\n",
    "import numpy as np\n",
    "import mysql.connector "
   ]
  },
  {
   "cell_type": "code",
   "execution_count": null,
   "metadata": {},
   "outputs": [],
   "source": [
    "import pymysql\n",
    "from sqlalchemy import create_engine\n",
    "import os\n",
    "import pathlib"
   ]
  },
  {
   "cell_type": "code",
   "execution_count": null,
   "metadata": {},
   "outputs": [],
   "source": [
    "mydb = mysql.connector.connect(\n",
    "  host=\"localhost\",\n",
    "  user=\"root\",\n",
    "  passwd=\"password\",\n",
    "  database=\"test\",\n",
    "  auth_plugin=\"mysql_native_password\",\n",
    "  use_unicode=True, \n",
    "  charset=\"utf8\"\n",
    ")\n"
   ]
  },
  {
   "cell_type": "code",
   "execution_count": null,
   "metadata": {},
   "outputs": [],
   "source": [
    "df_visits = pd.read_sql('SELECT * FROM tblvisits', con=mydb)\n",
    "df_patients = pd.read_sql(\"Select * from tblpatients\",con=mydb)\n",
    "df_patients_prior_exp = pd.read_sql(\"Select * from tblpatientspriorexposure\",con=mydb)\n",
    "df_pregnacies = pd.read_sql(\"Select * from tblpregnancies \",con=mydb)\n",
    "df_tests = pd.read_sql(\"Select * from tbltests\",con=mydb)\n",
    "df_status = pd.read_sql(\"Select * from tblstatus\",con=mydb)\n",
    "df_problems = pd.read_sql(\"Select * from tblpatientsproblems\",con=mydb)\n",
    "df_appointments = pd.read_sql(\"Select * from tblappointments\",con=mydb)\n",
    "df_medication = pd.read_sql(\"Select * from tblmedication\",con=mydb)\n",
    "df_exposed_infants = pd.read_sql(\"Select * from tblexposedinfants\",con=mydb)\n",
    "df_exposed_infants_tests = pd.read_sql(\"Select * from tblexposedinfanttests\",con=mydb)\n",
    "df_exposed_infants_visits = pd.read_sql(\"Select * from tblexposedinfantvisits\",con=mydb)\n",
    "df_exposed_infants_medication = pd.read_sql(\"Select * from tblexposedinfantmedication\",con=mydb)"
   ]
  },
  {
   "cell_type": "code",
   "execution_count": null,
   "metadata": {},
   "outputs": [],
   "source": [
    "fac=pd.read_sql(\"select c.regioncode,c.districtcode,c.facilitycode from tblconfig c\",con=mydb)\n",
    "\n",
    "fac['regioncode'] = fac.regioncode.astype(int)\n",
    "fac['districtcode'] = fac.districtcode.astype(str)\n",
    "fac['facilitycode'] = fac.facilitycode.astype(str)"
   ]
  },
  {
   "cell_type": "code",
   "execution_count": null,
   "metadata": {},
   "outputs": [],
   "source": [
    "fac.head()"
   ]
  },
  {
   "cell_type": "code",
   "execution_count": null,
   "metadata": {},
   "outputs": [],
   "source": [
    "df_visits.head()"
   ]
  },
  {
   "cell_type": "markdown",
   "metadata": {},
   "source": [
    "## Facility Details"
   ]
  },
  {
   "cell_type": "code",
   "execution_count": null,
   "metadata": {},
   "outputs": [],
   "source": [
    "faility_name=fac['facilitycode']\n",
    "district_name=fac['districtcode']\n",
    "province_name=fac['regioncode']\n",
    "facility=str(faility_name[0])\n",
    "district=str(district_name[0])\n",
    "province = str(province_name[0])\n",
    "province=\"0\"+province\n",
    "Facility_code=province+district+facility"
   ]
  },
  {
   "cell_type": "code",
   "execution_count": null,
   "metadata": {},
   "outputs": [],
   "source": [
    "## Facility\n",
    "n=df_visits.shape[0]\n",
    "df_visits['Facilitycode']=fac['facilitycode']\n",
    "faility_name=df_visits['Facilitycode']\n",
    "faility_name[1:n] = faility_name[0]\n",
    "df_visits['Facilitycode']=faility_name\n",
    "filename= faility_name[0]\n",
    "## District\n",
    "df_visits['Districtcode']=fac['districtcode']\n",
    "district_name=df_visits['Districtcode']\n",
    "district_name[1:n] = district_name[0]\n",
    "df_visits['Districtcode']=district_name\n",
    "## Province\n",
    "df_visits['Provincecode']=fac['regioncode']\n",
    "province_name=df_visits['Provincecode']\n",
    "province_name[1:n] = province_name[0]\n",
    "df_visits['Provincecode']=province_name"
   ]
  },
  {
   "cell_type": "code",
   "execution_count": null,
   "metadata": {},
   "outputs": [],
   "source": [
    "n=df_patients.shape[0]\n",
    "df_patients['Facilitycode']=fac['facilitycode']\n",
    "faility_name=df_patients['Facilitycode']\n",
    "faility_name[1:n] = faility_name[0]\n",
    "df_patients['Facilitycode']=faility_name\n",
    "filename= faility_name[0]\n",
    "## District\n",
    "df_patients['Districtcode']=fac['districtcode']\n",
    "district_name=df_patients['Districtcode']\n",
    "district_name[1:n] = district_name[0]\n",
    "df_patients['Districtcode']=district_name\n",
    "## Province\n",
    "df_patients['Provincecode']=fac['regioncode']\n",
    "province_name=df_patients['Provincecode']\n",
    "province_name[1:n] = province_name[0]\n",
    "df_patients['Provincecode']=province_name"
   ]
  },
  {
   "cell_type": "code",
   "execution_count": null,
   "metadata": {},
   "outputs": [],
   "source": [
    "n=df_patients_prior_exp.shape[0]\n",
    "df_patients_prior_exp['Facilitycode']=fac['facilitycode']\n",
    "faility_name=df_patients_prior_exp['Facilitycode']\n",
    "faility_name[1:n] = faility_name[0]\n",
    "df_patients_prior_exp['Facilitycode']=faility_name\n",
    "filename= faility_name[0]\n",
    "## District\n",
    "df_patients_prior_exp['Districtcode']=fac['districtcode']\n",
    "district_name=df_patients_prior_exp['Districtcode']\n",
    "district_name[1:n] = district_name[0]\n",
    "df_patients_prior_exp['Districtcode']=district_name\n",
    "## Province\n",
    "df_patients_prior_exp['Provincecode']=fac['regioncode']\n",
    "province_name=df_patients_prior_exp['Provincecode']\n",
    "province_name[1:n] = province_name[0]\n",
    "df_patients_prior_exp['Provincecode']=province_name"
   ]
  },
  {
   "cell_type": "code",
   "execution_count": null,
   "metadata": {},
   "outputs": [],
   "source": [
    "n=df_pregnacies.shape[0]\n",
    "df_pregnacies['Facilitycode']=fac['facilitycode']\n",
    "faility_name=df_pregnacies['Facilitycode']\n",
    "faility_name[1:n] = faility_name[0]\n",
    "df_pregnacies['Facilitycode']=faility_name\n",
    "filename= faility_name[0]\n",
    "## District\n",
    "df_pregnacies['Districtcode']=fac['districtcode']\n",
    "district_name=df_pregnacies['Districtcode']\n",
    "district_name[1:n] = district_name[0]\n",
    "df_pregnacies['Districtcode']=district_name\n",
    "## Province\n",
    "df_pregnacies['Provincecode']=fac['regioncode']\n",
    "province_name=df_pregnacies['Provincecode']\n",
    "province_name[1:n] = province_name[0]\n",
    "df_pregnacies['Provincecode']=province_name"
   ]
  },
  {
   "cell_type": "code",
   "execution_count": null,
   "metadata": {},
   "outputs": [],
   "source": [
    "n=df_tests.shape[0]\n",
    "df_tests['Facilitycode']=fac['facilitycode']\n",
    "faility_name=df_tests['Facilitycode']\n",
    "faility_name[1:n] = faility_name[0]\n",
    "df_tests['Facilitycode']=faility_name\n",
    "filename= faility_name[0]\n",
    "## District\n",
    "df_tests['Districtcode']=fac['districtcode']\n",
    "district_name=df_tests['Districtcode']\n",
    "district_name[1:n] = district_name[0]\n",
    "df_tests['Districtcode']=district_name\n",
    "## Province\n",
    "df_tests['Provincecode']=fac['regioncode']\n",
    "province_name=df_tests['Provincecode']\n",
    "province_name[1:n] = province_name[0]\n",
    "df_tests['Provincecode']=province_name"
   ]
  },
  {
   "cell_type": "code",
   "execution_count": null,
   "metadata": {},
   "outputs": [],
   "source": [
    "n=df_status.shape[0]\n",
    "df_status['Facilitycode']=fac['facilitycode']\n",
    "faility_name=df_status['Facilitycode']\n",
    "faility_name[1:n] = faility_name[0]\n",
    "df_status['Facilitycode']=faility_name\n",
    "filename= faility_name[0]\n",
    "## District\n",
    "df_status['Districtcode']=fac['districtcode']\n",
    "district_name=df_status['Districtcode']\n",
    "district_name[1:n] = district_name[0]\n",
    "df_status['Districtcode']=district_name\n",
    "## Province\n",
    "df_status['Provincecode']=fac['regioncode']\n",
    "province_name=df_status['Provincecode']\n",
    "province_name[1:n] = province_name[0]\n",
    "df_status['Provincecode']=province_name"
   ]
  },
  {
   "cell_type": "code",
   "execution_count": null,
   "metadata": {},
   "outputs": [],
   "source": [
    "n=df_problems.shape[0]\n",
    "df_problems['Facilitycode']=fac['facilitycode']\n",
    "faility_name=df_problems['Facilitycode']\n",
    "faility_name[1:n] = faility_name[0]\n",
    "df_problems['Facilitycode']=faility_name\n",
    "filename= faility_name[0]\n",
    "## District\n",
    "df_problems['Districtcode']=fac['districtcode']\n",
    "district_name=df_problems['Districtcode']\n",
    "district_name[1:n] = district_name[0]\n",
    "df_problems['Districtcode']=district_name\n",
    "## Province\n",
    "df_problems['Provincecode']=fac['regioncode']\n",
    "province_name=df_problems['Provincecode']\n",
    "province_name[1:n] = province_name[0]\n",
    "df_problems['Provincecode']=province_name"
   ]
  },
  {
   "cell_type": "code",
   "execution_count": null,
   "metadata": {},
   "outputs": [],
   "source": [
    "n=df_appointments.shape[0]\n",
    "df_appointments['Facilitycode']=fac['facilitycode']\n",
    "faility_name=df_appointments['Facilitycode']\n",
    "faility_name[1:n] = faility_name[0]\n",
    "df_appointments['Facilitycode']=faility_name\n",
    "filename= faility_name[0]\n",
    "## District\n",
    "df_appointments['Districtcode']=fac['districtcode']\n",
    "district_name=df_appointments['Districtcode']\n",
    "district_name[1:n] = district_name[0]\n",
    "df_appointments['Districtcode']=district_name\n",
    "## Province\n",
    "df_appointments['Provincecode']=fac['regioncode']\n",
    "province_name=df_appointments['Provincecode']\n",
    "province_name[1:n] = province_name[0]\n",
    "df_appointments['Provincecode']=province_name"
   ]
  },
  {
   "cell_type": "code",
   "execution_count": null,
   "metadata": {},
   "outputs": [],
   "source": [
    "n=df_medication.shape[0]\n",
    "df_medication['Facilitycode']=fac['facilitycode']\n",
    "faility_name=df_medication['Facilitycode']\n",
    "faility_name[1:n] = faility_name[0]\n",
    "df_medication['Facilitycode']=faility_name\n",
    "filename= faility_name[0]\n",
    "## District\n",
    "df_medication['Districtcode']=fac['districtcode']\n",
    "district_name=df_medication['Districtcode']\n",
    "district_name[1:n] = district_name[0]\n",
    "df_medication['Districtcode']=district_name\n",
    "## Province\n",
    "df_medication['Provincecode']=fac['regioncode']\n",
    "province_name=df_medication['Provincecode']\n",
    "province_name[1:n] = province_name[0]\n",
    "df_medication['Provincecode']=province_name"
   ]
  },
  {
   "cell_type": "code",
   "execution_count": null,
   "metadata": {},
   "outputs": [],
   "source": [
    "n=df_exposed_infants.shape[0]\n",
    "df_exposed_infants['Facilitycode']=fac['facilitycode']\n",
    "faility_name=df_exposed_infants['Facilitycode']\n",
    "faility_name[1:n] = faility_name[0]\n",
    "df_exposed_infants['Facilitycode']=faility_name\n",
    "filename= faility_name[0]\n",
    "## District\n",
    "df_exposed_infants['Districtcode']=fac['districtcode']\n",
    "district_name=df_exposed_infants['Districtcode']\n",
    "district_name[1:n] = district_name[0]\n",
    "df_exposed_infants['Districtcode']=district_name\n",
    "## Province\n",
    "df_exposed_infants['Provincecode']=fac['regioncode']\n",
    "province_name=df_exposed_infants['Provincecode']\n",
    "province_name[1:n] = province_name[0]\n",
    "df_exposed_infants['Provincecode']=province_name"
   ]
  },
  {
   "cell_type": "code",
   "execution_count": null,
   "metadata": {},
   "outputs": [],
   "source": [
    "n=df_exposed_infants_tests.shape[0]\n",
    "df_exposed_infants_tests['Facilitycode']=fac['facilitycode']\n",
    "faility_name=df_exposed_infants_tests['Facilitycode']\n",
    "faility_name[1:n] = faility_name[0]\n",
    "df_exposed_infants_tests['Facilitycode']=faility_name\n",
    "filename= faility_name[0]\n",
    "## District\n",
    "df_exposed_infants_tests['Districtcode']=fac['districtcode']\n",
    "district_name=df_exposed_infants_tests['Districtcode']\n",
    "district_name[1:n] = district_name[0]\n",
    "df_exposed_infants_tests['Districtcode']=district_name\n",
    "## Province\n",
    "df_exposed_infants_tests['Provincecode']=fac['regioncode']\n",
    "province_name=df_exposed_infants_tests['Provincecode']\n",
    "province_name[1:n] = province_name[0]\n",
    "df_exposed_infants_tests['Provincecode']=province_name"
   ]
  },
  {
   "cell_type": "code",
   "execution_count": null,
   "metadata": {},
   "outputs": [],
   "source": [
    "n=df_exposed_infants_visits.shape[0]\n",
    "df_exposed_infants_visits['Facilitycode']=fac['facilitycode']\n",
    "faility_name=df_exposed_infants_visits['Facilitycode']\n",
    "faility_name[1:n] = faility_name[0]\n",
    "df_exposed_infants_visits['Facilitycode']=faility_name\n",
    "filename= faility_name[0]\n",
    "## District\n",
    "df_exposed_infants_visits['Districtcode']=fac['districtcode']\n",
    "district_name=df_exposed_infants_visits['Districtcode']\n",
    "district_name[1:n] = district_name[0]\n",
    "df_exposed_infants_visits['Districtcode']=district_name\n",
    "## Province\n",
    "df_exposed_infants_visits['Provincecode']=fac['regioncode']\n",
    "province_name=df_exposed_infants_visits['Provincecode']\n",
    "province_name[1:n] = province_name[0]\n",
    "df_exposed_infants_visits['Provincecode']=province_name"
   ]
  },
  {
   "cell_type": "code",
   "execution_count": null,
   "metadata": {},
   "outputs": [],
   "source": [
    "n=df_exposed_infants_medication.shape[0]\n",
    "df_exposed_infants_medication['Facilitycode']=fac['facilitycode']\n",
    "faility_name=df_exposed_infants_medication['Facilitycode']\n",
    "faility_name[1:n] = faility_name[0]\n",
    "df_exposed_infants_medication['Facilitycode']=faility_name\n",
    "filename= faility_name[0]\n",
    "## District\n",
    "df_exposed_infants_medication['Districtcode']=fac['districtcode']\n",
    "district_name=df_exposed_infants_medication['Districtcode']\n",
    "district_name[1:n] = district_name[0]\n",
    "df_exposed_infants_medication['Districtcode']=district_name\n",
    "## Province\n",
    "df_exposed_infants_medication['Provincecode']=fac['regioncode']\n",
    "province_name=df_exposed_infants_medication['Provincecode']\n",
    "province_name[1:n] = province_name[0]\n",
    "df_exposed_infants_medication['Provincecode']=province_name"
   ]
  },
  {
   "cell_type": "code",
   "execution_count": null,
   "metadata": {},
   "outputs": [],
   "source": [
    "df_visits = df_visits.applymap(str)"
   ]
  },
  {
   "cell_type": "code",
   "execution_count": null,
   "metadata": {},
   "outputs": [],
   "source": [
    "df_patients = df_patients.applymap(str)"
   ]
  },
  {
   "cell_type": "code",
   "execution_count": null,
   "metadata": {},
   "outputs": [],
   "source": [
    "df_patients_prior_exp = df_patients_prior_exp.applymap(str)"
   ]
  },
  {
   "cell_type": "code",
   "execution_count": null,
   "metadata": {},
   "outputs": [],
   "source": [
    "df_pregnacies = df_pregnacies.applymap(str)"
   ]
  },
  {
   "cell_type": "code",
   "execution_count": null,
   "metadata": {},
   "outputs": [],
   "source": [
    "df_tests = df_tests.applymap(str)"
   ]
  },
  {
   "cell_type": "code",
   "execution_count": null,
   "metadata": {},
   "outputs": [],
   "source": [
    "df_status = df_status.applymap(str)"
   ]
  },
  {
   "cell_type": "code",
   "execution_count": null,
   "metadata": {},
   "outputs": [],
   "source": [
    "df_problems = df_problems.applymap(str)"
   ]
  },
  {
   "cell_type": "code",
   "execution_count": null,
   "metadata": {},
   "outputs": [],
   "source": [
    "df_appointments = df_appointments.applymap(str)"
   ]
  },
  {
   "cell_type": "code",
   "execution_count": null,
   "metadata": {},
   "outputs": [],
   "source": [
    "df_medication = df_medication.applymap(str)"
   ]
  },
  {
   "cell_type": "code",
   "execution_count": null,
   "metadata": {},
   "outputs": [],
   "source": [
    "df_exposed_infants = df_exposed_infants.applymap(str)"
   ]
  },
  {
   "cell_type": "code",
   "execution_count": null,
   "metadata": {},
   "outputs": [],
   "source": [
    "df_exposed_infants_tests = df_exposed_infants_tests.applymap(str)"
   ]
  },
  {
   "cell_type": "code",
   "execution_count": null,
   "metadata": {},
   "outputs": [],
   "source": [
    "df_exposed_infants_visits = df_exposed_infants_visits.applymap(str)"
   ]
  },
  {
   "cell_type": "code",
   "execution_count": null,
   "metadata": {},
   "outputs": [],
   "source": [
    "df_exposed_infants_medication = df_exposed_infants_medication.applymap(str)"
   ]
  },
  {
   "cell_type": "markdown",
   "metadata": {},
   "source": [
    "## Exporting all test"
   ]
  },
  {
   "cell_type": "code",
   "execution_count": null,
   "metadata": {},
   "outputs": [],
   "source": [
    "b='Mukwati'"
   ]
  },
  {
   "cell_type": "code",
   "execution_count": null,
   "metadata": {},
   "outputs": [],
   "source": [
    "path = \"/home/ignatious/Documents/Retention/%s/\"%b"
   ]
  },
  {
   "cell_type": "code",
   "execution_count": null,
   "metadata": {},
   "outputs": [],
   "source": [
    "os.makedirs(path, exist_ok=True) "
   ]
  },
  {
   "cell_type": "code",
   "execution_count": null,
   "metadata": {},
   "outputs": [],
   "source": [
    "ext = \".dta\""
   ]
  },
  {
   "cell_type": "code",
   "execution_count": null,
   "metadata": {},
   "outputs": [],
   "source": [
    "visit_path =path+'tblvisits'+ext\n",
    "prio_exp_path =path+'tblpatientspriorexposure'+ext\n",
    "preg_path=path+'tblpregnancies'+ext\n",
    "pat_parth=path+'tblpatients'+ext\n",
    "test_path=path+'tbltests'+ext\n",
    "status_path=path+'tblstatus'+ext\n",
    "problems_path=path+'tblpatientsproblems'+ext\n",
    "app_path=path+'tblappointments'+ext\n",
    "med_path=path+'tblmedication'+ext\n",
    "exp_inf_path=path+'tblexposedinfants'+ext\n",
    "exp_inf_test_path=path+'tblexposedinfanttests'+ext\n",
    "exp_inf_visits_path=path+'tblexposedinfantvisits'+ext\n",
    "exp_inf_med_path=path+'tblexposedinfantmedication'+ext"
   ]
  },
  {
   "cell_type": "code",
   "execution_count": null,
   "metadata": {},
   "outputs": [],
   "source": [
    "export_visits = df_visits.to_stata(visit_path, version=118, convert_strl = df_visits.columns[df_visits.isnull().all() & df_visits.dtypes==object].tolist())\n",
    "export_prio_expos= df_patients_prior_exp.to_stata(prio_exp_path, version=118, convert_strl = df_patients_prior_exp.columns[df_patients_prior_exp.isnull().all() & df_patients_prior_exp.dtypes==object].tolist())\n",
    "export_pregs = df_pregnacies.to_stata(preg_path, version=118, convert_strl = df_pregnacies.columns[df_pregnacies.isnull().all() & df_pregnacies.dtypes==object].tolist())\n",
    "export_pats= df_patients.to_stata(pat_parth, version=118, convert_strl = df_patients.columns[df_patients.isnull().all() & df_patients.dtypes==object].tolist())\n",
    "export_tests= df_tests.to_stata(test_path, version=118, convert_strl = df_tests.columns[df_tests.isnull().all() & df_tests.dtypes==object].tolist())\n",
    "export_stutaus= df_status.to_stata(status_path, version=118, convert_strl = df_status.columns[df_status.isnull().all() & df_status.dtypes==object].tolist())\n",
    "export_problems= df_problems.to_stata(problems_path, version=118, convert_strl = df_problems.columns[df_problems.isnull().all() & df_problems.dtypes==object].tolist())\n",
    "export_apps= df_appointments.to_stata(app_path, version=118, convert_strl = df_appointments.columns[df_appointments.isnull().all() & df_appointments.dtypes==object].tolist())\n",
    "export_meds= df_medication.to_stata(med_path, version=118, convert_strl = df_medication.columns[df_medication.isnull().all() & df_medication.dtypes==object].tolist())\n",
    "export_exp_infs= df_exposed_infants.to_stata(exp_inf_path, version=118, convert_strl = df_exposed_infants.columns[df_exposed_infants.isnull().all() & df_exposed_infants.dtypes==object].tolist())\n",
    "export_exp_infs_tests= df_exposed_infants_tests.to_stata(exp_inf_test_path, version=118, convert_strl = df_exposed_infants_tests.columns[df_exposed_infants_tests.isnull().all() & df_exposed_infants_tests.dtypes==object].tolist())\n",
    "export_exp_infs_visits= df_exposed_infants_visits.to_stata(exp_inf_visits_path, version=118, convert_strl = df_exposed_infants_visits.columns[df_exposed_infants_visits.isnull().all() & df_exposed_infants_visits.dtypes==object].tolist())\n",
    "export_exp_infs_meds= df_exposed_infants_medication.to_stata(exp_inf_med_path, version=118, convert_strl = df_exposed_infants_medication.columns[df_exposed_infants_medication.isnull().all() & df_exposed_infants_medication.dtypes==object].tolist())"
   ]
  },
  {
   "cell_type": "code",
   "execution_count": null,
   "metadata": {},
   "outputs": [],
   "source": [
    "mydb.close()"
   ]
  },
  {
   "cell_type": "code",
   "execution_count": null,
   "metadata": {},
   "outputs": [],
   "source": []
  }
 ],
 "metadata": {
  "kernelspec": {
   "display_name": "Python 3",
   "language": "python",
   "name": "python3"
  },
  "language_info": {
   "codemirror_mode": {
    "name": "ipython",
    "version": 3
   },
   "file_extension": ".py",
   "mimetype": "text/x-python",
   "name": "python",
   "nbconvert_exporter": "python",
   "pygments_lexer": "ipython3",
   "version": "3.7.6"
  }
 },
 "nbformat": 4,
 "nbformat_minor": 2
}
