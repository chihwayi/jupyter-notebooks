{
 "cells": [
  {
   "cell_type": "code",
   "execution_count": 1,
   "metadata": {},
   "outputs": [],
   "source": [
    "import pandas as pd"
   ]
  },
  {
   "cell_type": "code",
   "execution_count": 2,
   "metadata": {},
   "outputs": [],
   "source": [
    "import numpy as np"
   ]
  },
  {
   "cell_type": "code",
   "execution_count": 3,
   "metadata": {},
   "outputs": [],
   "source": [
    "import glob"
   ]
  },
  {
   "cell_type": "code",
   "execution_count": 4,
   "metadata": {},
   "outputs": [],
   "source": [
    "files = glob.glob(\"/home/ignatious/Documents/Notebooks/TBSCREENING/Manicalands/*.csv\")"
   ]
  },
  {
   "cell_type": "code",
   "execution_count": 5,
   "metadata": {},
   "outputs": [],
   "source": [
    "df_list = []"
   ]
  },
  {
   "cell_type": "code",
   "execution_count": 6,
   "metadata": {},
   "outputs": [],
   "source": [
    "for filename in sorted(files):\n",
    "    df_list.append(pd.read_csv(filename))"
   ]
  },
  {
   "cell_type": "code",
   "execution_count": 7,
   "metadata": {},
   "outputs": [],
   "source": [
    "full_df = pd.concat(df_list)"
   ]
  },
  {
   "cell_type": "code",
   "execution_count": 8,
   "metadata": {},
   "outputs": [
    {
     "data": {
      "text/html": [
       "<div>\n",
       "<style scoped>\n",
       "    .dataframe tbody tr th:only-of-type {\n",
       "        vertical-align: middle;\n",
       "    }\n",
       "\n",
       "    .dataframe tbody tr th {\n",
       "        vertical-align: top;\n",
       "    }\n",
       "\n",
       "    .dataframe thead th {\n",
       "        text-align: right;\n",
       "    }\n",
       "</style>\n",
       "<table border=\"1\" class=\"dataframe\">\n",
       "  <thead>\n",
       "    <tr style=\"text-align: right;\">\n",
       "      <th></th>\n",
       "      <th>PatientID</th>\n",
       "      <th>FirstName</th>\n",
       "      <th>SurName</th>\n",
       "      <th>DateOfBirth</th>\n",
       "      <th>Age</th>\n",
       "      <th>Sex</th>\n",
       "      <th>VisitDate</th>\n",
       "      <th>Period</th>\n",
       "      <th>VisitTypeCode</th>\n",
       "      <th>TBStatusDescription</th>\n",
       "      <th>ARVStatusDescription</th>\n",
       "      <th>DrugTypeID</th>\n",
       "      <th>Facilitycode</th>\n",
       "      <th>Districtcode</th>\n",
       "      <th>Provincedoce</th>\n",
       "      <th>FacilityName</th>\n",
       "      <th>District</th>\n",
       "      <th>Province</th>\n",
       "    </tr>\n",
       "  </thead>\n",
       "  <tbody>\n",
       "    <tr>\n",
       "      <th>0</th>\n",
       "      <td>01-03-35-2010-A-00068</td>\n",
       "      <td>Rosemary</td>\n",
       "      <td>Mazoyo</td>\n",
       "      <td>1976-05-25</td>\n",
       "      <td>45</td>\n",
       "      <td>Female</td>\n",
       "      <td>2009-02-10</td>\n",
       "      <td>2</td>\n",
       "      <td>P</td>\n",
       "      <td>No signs (patient screened and TB not suspected)</td>\n",
       "      <td>No ARV</td>\n",
       "      <td>NaN</td>\n",
       "      <td>0B</td>\n",
       "      <td>7</td>\n",
       "      <td>1.0</td>\n",
       "      <td>Avilla Hospital</td>\n",
       "      <td>Nyanga</td>\n",
       "      <td>Manicaland</td>\n",
       "    </tr>\n",
       "    <tr>\n",
       "      <th>1</th>\n",
       "      <td>01-05-63-2011-A-01014</td>\n",
       "      <td>Beauty</td>\n",
       "      <td>Nyandoro</td>\n",
       "      <td>1973-07-18</td>\n",
       "      <td>48</td>\n",
       "      <td>Female</td>\n",
       "      <td>2015-08-10</td>\n",
       "      <td>8</td>\n",
       "      <td>P</td>\n",
       "      <td>No signs (patient screened and TB not suspected)</td>\n",
       "      <td>No ARV</td>\n",
       "      <td>NaN</td>\n",
       "      <td>0B</td>\n",
       "      <td>7</td>\n",
       "      <td>1.0</td>\n",
       "      <td>Avilla Hospital</td>\n",
       "      <td>Nyanga</td>\n",
       "      <td>Manicaland</td>\n",
       "    </tr>\n",
       "    <tr>\n",
       "      <th>2</th>\n",
       "      <td>01-07-0b-2007-A-00027</td>\n",
       "      <td>Patience</td>\n",
       "      <td>Bonde.</td>\n",
       "      <td>2001-01-01</td>\n",
       "      <td>20</td>\n",
       "      <td>Female</td>\n",
       "      <td>2009-08-12</td>\n",
       "      <td>8</td>\n",
       "      <td>P</td>\n",
       "      <td>No signs (patient screened and TB not suspected)</td>\n",
       "      <td>No ARV</td>\n",
       "      <td>NaN</td>\n",
       "      <td>0B</td>\n",
       "      <td>7</td>\n",
       "      <td>1.0</td>\n",
       "      <td>Avilla Hospital</td>\n",
       "      <td>Nyanga</td>\n",
       "      <td>Manicaland</td>\n",
       "    </tr>\n",
       "    <tr>\n",
       "      <th>3</th>\n",
       "      <td>01-07-0b-2009-A-00033</td>\n",
       "      <td>Trymore</td>\n",
       "      <td>Nyahwema</td>\n",
       "      <td>1973-11-13</td>\n",
       "      <td>47</td>\n",
       "      <td>Male</td>\n",
       "      <td>2016-08-19</td>\n",
       "      <td>8</td>\n",
       "      <td>P</td>\n",
       "      <td>No signs (patient screened and TB not suspected)</td>\n",
       "      <td>No ARV</td>\n",
       "      <td>NaN</td>\n",
       "      <td>0B</td>\n",
       "      <td>7</td>\n",
       "      <td>1.0</td>\n",
       "      <td>Avilla Hospital</td>\n",
       "      <td>Nyanga</td>\n",
       "      <td>Manicaland</td>\n",
       "    </tr>\n",
       "    <tr>\n",
       "      <th>4</th>\n",
       "      <td>01-07-0b-2009-A-01024</td>\n",
       "      <td>Martha</td>\n",
       "      <td>Mhaka</td>\n",
       "      <td>1960-05-05</td>\n",
       "      <td>61</td>\n",
       "      <td>Female</td>\n",
       "      <td>2014-12-09</td>\n",
       "      <td>12</td>\n",
       "      <td>P</td>\n",
       "      <td>No signs (patient screened and TB not suspected)</td>\n",
       "      <td>No ARV</td>\n",
       "      <td>NaN</td>\n",
       "      <td>0B</td>\n",
       "      <td>7</td>\n",
       "      <td>1.0</td>\n",
       "      <td>Avilla Hospital</td>\n",
       "      <td>Nyanga</td>\n",
       "      <td>Manicaland</td>\n",
       "    </tr>\n",
       "  </tbody>\n",
       "</table>\n",
       "</div>"
      ],
      "text/plain": [
       "               PatientID FirstName   SurName DateOfBirth  Age     Sex  \\\n",
       "0  01-03-35-2010-A-00068  Rosemary    Mazoyo  1976-05-25   45  Female   \n",
       "1  01-05-63-2011-A-01014    Beauty  Nyandoro  1973-07-18   48  Female   \n",
       "2  01-07-0b-2007-A-00027  Patience    Bonde.  2001-01-01   20  Female   \n",
       "3  01-07-0b-2009-A-00033   Trymore  Nyahwema  1973-11-13   47    Male   \n",
       "4  01-07-0b-2009-A-01024    Martha     Mhaka  1960-05-05   61  Female   \n",
       "\n",
       "    VisitDate  Period VisitTypeCode  \\\n",
       "0  2009-02-10       2             P   \n",
       "1  2015-08-10       8             P   \n",
       "2  2009-08-12       8             P   \n",
       "3  2016-08-19       8             P   \n",
       "4  2014-12-09      12             P   \n",
       "\n",
       "                                TBStatusDescription ARVStatusDescription  \\\n",
       "0  No signs (patient screened and TB not suspected)               No ARV   \n",
       "1  No signs (patient screened and TB not suspected)               No ARV   \n",
       "2  No signs (patient screened and TB not suspected)               No ARV   \n",
       "3  No signs (patient screened and TB not suspected)               No ARV   \n",
       "4  No signs (patient screened and TB not suspected)               No ARV   \n",
       "\n",
       "  DrugTypeID Facilitycode  Districtcode  Provincedoce     FacilityName  \\\n",
       "0        NaN           0B             7           1.0  Avilla Hospital   \n",
       "1        NaN           0B             7           1.0  Avilla Hospital   \n",
       "2        NaN           0B             7           1.0  Avilla Hospital   \n",
       "3        NaN           0B             7           1.0  Avilla Hospital   \n",
       "4        NaN           0B             7           1.0  Avilla Hospital   \n",
       "\n",
       "  District    Province  \n",
       "0   Nyanga  Manicaland  \n",
       "1   Nyanga  Manicaland  \n",
       "2   Nyanga  Manicaland  \n",
       "3   Nyanga  Manicaland  \n",
       "4   Nyanga  Manicaland  "
      ]
     },
     "execution_count": 8,
     "metadata": {},
     "output_type": "execute_result"
    }
   ],
   "source": [
    "full_df.head()"
   ]
  },
  {
   "cell_type": "code",
   "execution_count": 9,
   "metadata": {},
   "outputs": [],
   "source": [
    "full_df.to_csv('/home/ignatious/Documents/tb screening/Manicalands.csv', encoding='utf-8', index=False)"
   ]
  },
  {
   "cell_type": "code",
   "execution_count": null,
   "metadata": {},
   "outputs": [],
   "source": []
  }
 ],
 "metadata": {
  "kernelspec": {
   "display_name": "Python 3",
   "language": "python",
   "name": "python3"
  },
  "language_info": {
   "codemirror_mode": {
    "name": "ipython",
    "version": 3
   },
   "file_extension": ".py",
   "mimetype": "text/x-python",
   "name": "python",
   "nbconvert_exporter": "python",
   "pygments_lexer": "ipython3",
   "version": "3.7.6"
  }
 },
 "nbformat": 4,
 "nbformat_minor": 2
}
