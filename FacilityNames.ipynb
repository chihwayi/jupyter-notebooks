{
 "cells": [
  {
   "cell_type": "code",
   "execution_count": 18,
   "id": "ca7ca052",
   "metadata": {},
   "outputs": [],
   "source": [
    "import pymysql\n",
    "import pandas as pd\n",
    "import mysql.connector "
   ]
  },
  {
   "cell_type": "code",
   "execution_count": 19,
   "id": "f006af5d",
   "metadata": {},
   "outputs": [],
   "source": [
    "mydb = mysql.connector.connect(\n",
    "  host=\"localhost\",\n",
    "  user=\"root\",\n",
    "  passwd=\"password\",\n",
    "  database=\"test\",\n",
    "  auth_plugin=\"mysql_native_password\",\n",
    "  use_unicode=True, \n",
    "  charset=\"utf8\"\n",
    ")"
   ]
  },
  {
   "cell_type": "code",
   "execution_count": 20,
   "id": "a0e9cc17",
   "metadata": {},
   "outputs": [],
   "source": [
    "fac=pd.read_sql(\"select c.regioncode,c.districtcode,c.facilitycode from tblconfig c\",con=mydb)"
   ]
  },
  {
   "cell_type": "code",
   "execution_count": 21,
   "id": "1c40f699",
   "metadata": {},
   "outputs": [],
   "source": [
    "facii=pd.read_sql(\"select * from facilities\",con=mydb)"
   ]
  },
  {
   "cell_type": "code",
   "execution_count": 22,
   "id": "ef1e452c",
   "metadata": {},
   "outputs": [],
   "source": [
    "reg=pd.read_sql(\"select * from tblsetupregions\",con=mydb)"
   ]
  },
  {
   "cell_type": "code",
   "execution_count": 23,
   "id": "d0090e22",
   "metadata": {},
   "outputs": [],
   "source": [
    "dist=pd.read_sql(\"select * from tblsetupdistricts\",con=mydb)"
   ]
  },
  {
   "cell_type": "code",
   "execution_count": 24,
   "id": "856708c7",
   "metadata": {},
   "outputs": [],
   "source": [
    "a = fac['regioncode']\n",
    "b = fac['districtcode']\n",
    "c = fac['facilitycode']"
   ]
  },
  {
   "cell_type": "code",
   "execution_count": 25,
   "id": "6d9cfaec",
   "metadata": {},
   "outputs": [],
   "source": [
    "s = a[0]\n",
    "ss = int(s)\n",
    "t = b[0]\n",
    "u = c[0]"
   ]
  },
  {
   "cell_type": "code",
   "execution_count": 26,
   "id": "90da8f06",
   "metadata": {},
   "outputs": [],
   "source": [
    "facility1 = facii[(facii['ProvinceCode'] == ss) & (facii['DistrictCode'] == t) & (facii['FacilityCode'] == u)]"
   ]
  },
  {
   "cell_type": "code",
   "execution_count": 27,
   "id": "208beaac",
   "metadata": {},
   "outputs": [],
   "source": [
    "facility2 = facility1[['ProvinceCode', 'DistrictCode', 'FacilityCode', 'FacilityName']]"
   ]
  },
  {
   "cell_type": "code",
   "execution_count": 28,
   "id": "3960f345",
   "metadata": {},
   "outputs": [],
   "source": [
    "facility3 = pd.merge(facility2, reg.rename(columns={'RegionCode':'ProvinceCode'}), on=['ProvinceCode'])"
   ]
  },
  {
   "cell_type": "code",
   "execution_count": 29,
   "id": "366c8646",
   "metadata": {},
   "outputs": [],
   "source": [
    "facility4 = pd.merge(facility3, dist.rename(columns={'RegionCode':'ProvinceCode'}), on=['ProvinceCode','DistrictCode'])"
   ]
  },
  {
   "cell_type": "code",
   "execution_count": 30,
   "id": "2b15fdcc",
   "metadata": {},
   "outputs": [],
   "source": [
    "facility=pd.read_sql(\"select tblconfig.regioncode,tblconfig.districtcode,tblconfig.facilitycode,tblsetupregions.Region,tblsetupdistricts.District,facility.FacilityName from tblconfig JOIN tblsetupregions ON tblconfig.regioncode=tblsetupregions.RegionCode JOIN tblsetupdistricts ON tblconfig.districtcode=tblsetupdistricts.DistrictCode AND tblsetupregions.RegionCode=tblsetupdistricts.RegionCode JOIN facility ON tblconfig.facilitycode = facility.FacilityCode AND tblconfig.districtcode=facility.DistrictID AND tblsetupdistricts.DistrictCode = facility.DistrictID AND facility.ProvinceID=tblsetupregions.RegionCode\",con=mydb)"
   ]
  },
  {
   "cell_type": "code",
   "execution_count": 31,
   "id": "19a33144",
   "metadata": {},
   "outputs": [],
   "source": [
    "facility5 = facility4.rename(columns={'ProvinceCode': 'regioncode', 'DistrictCode': 'districtcode', 'FacilityCode': 'facilitycode'})"
   ]
  },
  {
   "cell_type": "code",
   "execution_count": 32,
   "id": "ab2857b2",
   "metadata": {},
   "outputs": [],
   "source": [
    "facility = facility5[['regioncode','districtcode','facilitycode','Region','District','FacilityName']]"
   ]
  },
  {
   "cell_type": "code",
   "execution_count": 33,
   "id": "cd8dbc56",
   "metadata": {},
   "outputs": [
    {
     "data": {
      "text/html": [
       "<div>\n",
       "<style scoped>\n",
       "    .dataframe tbody tr th:only-of-type {\n",
       "        vertical-align: middle;\n",
       "    }\n",
       "\n",
       "    .dataframe tbody tr th {\n",
       "        vertical-align: top;\n",
       "    }\n",
       "\n",
       "    .dataframe thead th {\n",
       "        text-align: right;\n",
       "    }\n",
       "</style>\n",
       "<table border=\"1\" class=\"dataframe\">\n",
       "  <thead>\n",
       "    <tr style=\"text-align: right;\">\n",
       "      <th></th>\n",
       "      <th>regioncode</th>\n",
       "      <th>districtcode</th>\n",
       "      <th>facilitycode</th>\n",
       "      <th>Region</th>\n",
       "      <th>District</th>\n",
       "      <th>FacilityName</th>\n",
       "    </tr>\n",
       "  </thead>\n",
       "  <tbody>\n",
       "    <tr>\n",
       "      <th>0</th>\n",
       "      <td>7</td>\n",
       "      <td>2</td>\n",
       "      <td>11</td>\n",
       "      <td>Midlands</td>\n",
       "      <td>Gokwe North</td>\n",
       "      <td>Svisvi Clinic</td>\n",
       "    </tr>\n",
       "  </tbody>\n",
       "</table>\n",
       "</div>"
      ],
      "text/plain": [
       "   regioncode districtcode facilitycode    Region     District   FacilityName\n",
       "0           7            2           11  Midlands  Gokwe North  Svisvi Clinic"
      ]
     },
     "execution_count": 33,
     "metadata": {},
     "output_type": "execute_result"
    }
   ],
   "source": [
    "facility.head()"
   ]
  },
  {
   "cell_type": "code",
   "execution_count": 34,
   "id": "a1e671d1",
   "metadata": {},
   "outputs": [],
   "source": [
    "mydb.close()"
   ]
  },
  {
   "cell_type": "code",
   "execution_count": null,
   "id": "7791f009",
   "metadata": {},
   "outputs": [],
   "source": []
  }
 ],
 "metadata": {
  "kernelspec": {
   "display_name": "Python 3 (ipykernel)",
   "language": "python",
   "name": "python3"
  },
  "language_info": {
   "codemirror_mode": {
    "name": "ipython",
    "version": 3
   },
   "file_extension": ".py",
   "mimetype": "text/x-python",
   "name": "python",
   "nbconvert_exporter": "python",
   "pygments_lexer": "ipython3",
   "version": "3.7.11"
  }
 },
 "nbformat": 4,
 "nbformat_minor": 5
}
