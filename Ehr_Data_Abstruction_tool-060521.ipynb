{
 "cells": [
  {
   "cell_type": "code",
   "execution_count": null,
   "metadata": {},
   "outputs": [],
   "source": [
    "from sqlalchemy import create_engine\n",
    "import pymysql\n",
    "import pandas as pd\n",
    "import numpy as np\n",
    "import seaborn as sns\n",
    "import datetime as dt\n",
    "import math as time\n",
    "import mysql.connector \n",
    "import matplotlib.pyplot as plt\n",
    "%matplotlib inline\n",
    "import sys\n",
    "import os"
   ]
  },
  {
   "cell_type": "code",
   "execution_count": null,
   "metadata": {},
   "outputs": [],
   "source": [
    " \n",
    "import pymysql\n",
    "from sqlalchemy import create_engine"
   ]
  },
  {
   "cell_type": "code",
   "execution_count": null,
   "metadata": {},
   "outputs": [],
   "source": [
    "mydb = mysql.connector.connect(\n",
    "  host= \"localhost\",\n",
    "  user=\"root\",\n",
    "  passwd=\"\",\n",
    "  database=\"mrs\",\n",
    "    port=\"3307\"    \n",
    ")\n"
   ]
  },
  {
   "cell_type": "code",
   "execution_count": null,
   "metadata": {},
   "outputs": [],
   "source": [
    "df_domain_event = pd.read_sql('SELECT meta_data FROM domain_event_entry', con=mydb)\n",
    "df_domain_event"
   ]
  },
  {
   "cell_type": "code",
   "execution_count": null,
   "metadata": {},
   "outputs": [],
   "source": [
    "\n",
    "x=df_domain_event.tail(1)\n"
   ]
  },
  {
   "cell_type": "code",
   "execution_count": null,
   "metadata": {},
   "outputs": [],
   "source": [
    "x"
   ]
  },
  {
   "cell_type": "code",
   "execution_count": null,
   "metadata": {},
   "outputs": [],
   "source": [
    "df_domain_event=x['meta_data'].tolist()"
   ]
  },
  {
   "cell_type": "code",
   "execution_count": null,
   "metadata": {},
   "outputs": [],
   "source": [
    "sitecode=df_domain_event[0]"
   ]
  },
  {
   "cell_type": "code",
   "execution_count": null,
   "metadata": {},
   "outputs": [],
   "source": [
    "t=str(sitecode)\n",
    "t"
   ]
  },
  {
   "cell_type": "code",
   "execution_count": null,
   "metadata": {},
   "outputs": [],
   "source": [
    "type(t)"
   ]
  },
  {
   "cell_type": "code",
   "execution_count": null,
   "metadata": {},
   "outputs": [],
   "source": [
    "sitecode = t.split(\"<string>\")"
   ]
  },
  {
   "cell_type": "code",
   "execution_count": null,
   "metadata": {},
   "outputs": [],
   "source": [
    "sitecode"
   ]
  },
  {
   "cell_type": "code",
   "execution_count": null,
   "metadata": {},
   "outputs": [],
   "source": [
    "sitecode=sitecode[4]\n",
    "sitecode=sitecode[0:8]\n",
    "sitecode"
   ]
  },
  {
   "cell_type": "code",
   "execution_count": null,
   "metadata": {},
   "outputs": [],
   "source": [
    "mydb.close()"
   ]
  },
  {
   "cell_type": "code",
   "execution_count": null,
   "metadata": {},
   "outputs": [],
   "source": [
    "mydb = mysql.connector.connect(\n",
    "  host= \"localhost\",\n",
    "  user=\"root\",\n",
    "  passwd=\"\",\n",
    "  database=\"report\",\n",
    "    port=\"3307\"    \n",
    ")\n"
   ]
  },
  {
   "cell_type": "code",
   "execution_count": null,
   "metadata": {},
   "outputs": [],
   "source": [
    "df_visits = pd.read_sql('SELECT art_id,date as visit_date,patient_id,visit_type,functional_status FROM art_visit_register', con=mydb)\n",
    "df_appointments = pd.read_sql(\"Select art_id,followup_reason, date ,followup_date from art_appointment_register\",con=mydb)\n",
    "df_art_patient = pd.read_sql(\"Select * from art_register \",con=mydb)\n",
    "df_tests = pd.read_sql(\"Select * from person_investigation_report\",con=mydb)\n",
    "df_status = pd.read_sql(\"Select art_register_id as art_id ,date,regimen as arv_regimen,regimen_line_name as regimen_line,state as arv_status from art_current_status_register\",con=mydb)\n",
    "df_medication = pd.read_sql(\"Select p.art_id ,m.date,m.medicine_id,m.medicine from person_medication_register m inner join art_register p on  m.person_id=p.person_id\",con=mydb)\n",
    "df_who_stage = pd.read_sql(\"Select art_register_id as art_id,date,stage as WHO_Stage, follow_up_status from art_who_stage_register\",con=mydb)"
   ]
  },
  {
   "cell_type": "code",
   "execution_count": null,
   "metadata": {},
   "outputs": [],
   "source": [
    "df_who_stage"
   ]
  },
  {
   "cell_type": "code",
   "execution_count": null,
   "metadata": {},
   "outputs": [],
   "source": [
    "df_appointments"
   ]
  },
  {
   "cell_type": "code",
   "execution_count": null,
   "metadata": {},
   "outputs": [],
   "source": [
    "df_visits"
   ]
  },
  {
   "cell_type": "code",
   "execution_count": null,
   "metadata": {},
   "outputs": [],
   "source": [
    "df_art_patient"
   ]
  },
  {
   "cell_type": "code",
   "execution_count": null,
   "metadata": {},
   "outputs": [],
   "source": [
    "df_status\n",
    "\n"
   ]
  },
  {
   "cell_type": "code",
   "execution_count": null,
   "metadata": {},
   "outputs": [],
   "source": [
    "df_medication\n"
   ]
  },
  {
   "cell_type": "markdown",
   "metadata": {},
   "source": [
    "### Generating Site id from HTS latest site code"
   ]
  },
  {
   "cell_type": "markdown",
   "metadata": {},
   "source": [
    "df_facility_code.head()"
   ]
  },
  {
   "cell_type": "markdown",
   "metadata": {},
   "source": [
    "df_facility_code=df_facility_code.iloc[[0],[0]]"
   ]
  },
  {
   "cell_type": "markdown",
   "metadata": {},
   "source": [
    "site_code= str(df_facility_code)"
   ]
  },
  {
   "cell_type": "markdown",
   "metadata": {},
   "source": [
    "len(site_code)"
   ]
  },
  {
   "cell_type": "markdown",
   "metadata": {},
   "source": [
    "site_code"
   ]
  },
  {
   "cell_type": "markdown",
   "metadata": {},
   "source": [
    "site_code=site_code[15:23]"
   ]
  },
  {
   "cell_type": "markdown",
   "metadata": {},
   "source": [
    "len(site_code)"
   ]
  },
  {
   "cell_type": "code",
   "execution_count": null,
   "metadata": {},
   "outputs": [],
   "source": [
    "sitecode"
   ]
  },
  {
   "cell_type": "code",
   "execution_count": null,
   "metadata": {},
   "outputs": [],
   "source": [
    "provincial_code=sitecode[2:4]"
   ]
  },
  {
   "cell_type": "code",
   "execution_count": null,
   "metadata": {},
   "outputs": [],
   "source": [
    "provincial_code"
   ]
  },
  {
   "cell_type": "code",
   "execution_count": null,
   "metadata": {},
   "outputs": [],
   "source": [
    "district_code=sitecode[4:6]"
   ]
  },
  {
   "cell_type": "code",
   "execution_count": null,
   "metadata": {},
   "outputs": [],
   "source": [
    "district_code"
   ]
  },
  {
   "cell_type": "code",
   "execution_count": null,
   "metadata": {},
   "outputs": [],
   "source": [
    "facility_code=sitecode[6:8]"
   ]
  },
  {
   "cell_type": "code",
   "execution_count": null,
   "metadata": {},
   "outputs": [],
   "source": [
    "facility_code"
   ]
  },
  {
   "cell_type": "code",
   "execution_count": null,
   "metadata": {},
   "outputs": [],
   "source": [
    "df_visits.head()"
   ]
  },
  {
   "cell_type": "markdown",
   "metadata": {},
   "source": [
    "## Facility Details"
   ]
  },
  {
   "cell_type": "code",
   "execution_count": null,
   "metadata": {},
   "outputs": [],
   "source": [
    "facility_code"
   ]
  },
  {
   "cell_type": "code",
   "execution_count": null,
   "metadata": {},
   "outputs": [],
   "source": [
    "## Facility\n",
    "n=df_visits.shape[0]\n",
    "df_visits['Facilitycode']=facility_code\n",
    "faility_name=df_visits['Facilitycode']\n",
    "faility_name[1:n] = facility_code\n",
    "df_visits['Facilitycode']=faility_name\n",
    "#filename= faility_name[0]\n",
    "## District\n",
    "df_visits['Districtcode']=district_code\n",
    "district_name=df_visits['Districtcode']\n",
    "district_name[1:n] = district_code\n",
    "df_visits['Districtcode']=district_name\n",
    "## Province\n",
    "df_visits['Provincecode']=provincial_code\n",
    "province_name=df_visits['Provincecode']\n",
    "province_name[1:n] = provincial_code\n",
    "df_visits['Provincecode']=province_name"
   ]
  },
  {
   "cell_type": "code",
   "execution_count": null,
   "metadata": {},
   "outputs": [],
   "source": [
    "df_visits.head()"
   ]
  },
  {
   "cell_type": "code",
   "execution_count": null,
   "metadata": {},
   "outputs": [],
   "source": [
    "n=df_art_patient.shape[0]\n",
    "## Facility\n",
    "df_art_patient['Facilitycode']=facility_code\n",
    "faility_name=df_art_patient['Facilitycode']\n",
    "faility_name[1:n] = facility_code\n",
    "df_art_patient['Facilitycode']=faility_name\n",
    "#filename= faility_name[0]\n",
    "## District\n",
    "df_art_patient['Districtcode']=district_code\n",
    "district_name=df_art_patient['Districtcode']\n",
    "district_name[1:n] = district_code\n",
    "df_art_patient['Districtcode']=district_name\n",
    "## Province\n",
    "df_art_patient['Provincecode']=provincial_code\n",
    "province_name=df_art_patient['Provincecode']\n",
    "province_name[1:n] = provincial_code\n",
    "df_art_patient['Provincecode']=province_name"
   ]
  },
  {
   "cell_type": "code",
   "execution_count": null,
   "metadata": {},
   "outputs": [],
   "source": [
    "df_art_patient"
   ]
  },
  {
   "cell_type": "code",
   "execution_count": null,
   "metadata": {},
   "outputs": [],
   "source": [
    "n=df_tests.shape[0]\n",
    "df_tests['Facilitycode']=facility_code\n",
    "faility_name=df_tests['Facilitycode']\n",
    "faility_name[1:n] = facility_code\n",
    "df_tests['Facilitycode']=faility_name\n",
    "#filename= faility_name[0]\n",
    "## District\n",
    "df_tests['Districtcode']=district_code\n",
    "district_name=df_tests['Districtcode']\n",
    "district_name[1:n] = district_code\n",
    "df_tests['Districtcode']=district_name\n",
    "## Province\n",
    "df_tests['Provincecode']=provincial_code\n",
    "province_name=df_tests['Provincecode']\n",
    "province_name[1:n] = provincial_code\n",
    "df_tests['Provincecode']=province_name"
   ]
  },
  {
   "cell_type": "code",
   "execution_count": null,
   "metadata": {},
   "outputs": [],
   "source": [
    "df_tests.head()"
   ]
  },
  {
   "cell_type": "code",
   "execution_count": null,
   "metadata": {},
   "outputs": [],
   "source": [
    "n=df_status.shape[0]\n",
    "df_status['Facilitycode']=facility_code\n",
    "faility_name=df_status['Facilitycode']\n",
    "faility_name[1:n] = facility_code\n",
    "df_status['Facilitycode']=faility_name\n",
    "#filename= faility_name[0]\n",
    "## District\n",
    "df_status['Districtcode']=district_code\n",
    "district_name=df_status['Districtcode']\n",
    "district_name[1:n] = district_code\n",
    "df_status['Districtcode']=district_name\n",
    "## Province\n",
    "df_status['Provincecode']=provincial_code\n",
    "province_name=df_status['Provincecode']\n",
    "province_name[1:n] = provincial_code\n",
    "df_status['Provincecode']=province_name"
   ]
  },
  {
   "cell_type": "code",
   "execution_count": null,
   "metadata": {},
   "outputs": [],
   "source": [
    "df_status.head()"
   ]
  },
  {
   "cell_type": "code",
   "execution_count": null,
   "metadata": {},
   "outputs": [],
   "source": [
    "n=df_appointments.shape[0]\n",
    "df_appointments['Facilitycode']=facility_code\n",
    "faility_name=df_appointments['Facilitycode']\n",
    "faility_name[1:n] = facility_code\n",
    "df_appointments['Facilitycode']=faility_name\n",
    "#filename= faility_name[0]\n",
    "## District\n",
    "df_appointments['Districtcode']=district_code\n",
    "district_name=df_appointments['Districtcode']\n",
    "district_name[1:n] = district_code\n",
    "df_appointments['Districtcode']=district_name\n",
    "## Province\n",
    "df_appointments['Provincecode']=provincial_code\n",
    "province_name=df_appointments['Provincecode']\n",
    "province_name[1:n] = provincial_code\n",
    "df_appointments['Provincecode']=province_name"
   ]
  },
  {
   "cell_type": "code",
   "execution_count": null,
   "metadata": {},
   "outputs": [],
   "source": [
    "df_appointments.head()"
   ]
  },
  {
   "cell_type": "code",
   "execution_count": null,
   "metadata": {},
   "outputs": [],
   "source": [
    "n=df_medication.shape[0]\n",
    "df_medication['Facilitycode']=facility_code\n",
    "faility_name=df_medication['Facilitycode']\n",
    "faility_name[1:n] = facility_code\n",
    "df_medication['Facilitycode']=faility_name\n",
    "#filename= faility_name[0]\n",
    "## District\n",
    "df_medication['Districtcode']=district_code\n",
    "district_name=df_medication['Districtcode']\n",
    "district_name[1:n] = district_code\n",
    "df_medication['Districtcode']=district_name\n",
    "## Province\n",
    "df_medication['Provincecode']=provincial_code\n",
    "province_name=df_medication['Provincecode']\n",
    "province_name[1:n] = provincial_code\n",
    "df_medication['Provincecode']=province_name"
   ]
  },
  {
   "cell_type": "code",
   "execution_count": null,
   "metadata": {},
   "outputs": [],
   "source": [
    "df_medication.head()"
   ]
  },
  {
   "cell_type": "code",
   "execution_count": null,
   "metadata": {},
   "outputs": [],
   "source": [
    "n=df_who_stage.shape[0]\n",
    "df_who_stage['Facilitycode']=facility_code\n",
    "faility_name=df_who_stage['Facilitycode']\n",
    "faility_name[1:n] = facility_code\n",
    "df_who_stage['Facilitycode']=faility_name\n",
    "#filename= faility_name[0]\n",
    "## District\n",
    "df_who_stage['Districtcode']=district_code\n",
    "district_name=df_who_stage['Districtcode']\n",
    "district_name[1:n] = district_code\n",
    "df_who_stage['Districtcode']=district_name\n",
    "## Province\n",
    "df_who_stage['Provincecode']=provincial_code\n",
    "province_name=df_who_stage['Provincecode']\n",
    "province_name[1:n] = provincial_code\n",
    "df_who_stage['Provincecode']=province_name"
   ]
  },
  {
   "cell_type": "code",
   "execution_count": null,
   "metadata": {
    "scrolled": true
   },
   "outputs": [],
   "source": [
    "df_who_stage"
   ]
  },
  {
   "cell_type": "markdown",
   "metadata": {},
   "source": [
    "## Exporting all data sets"
   ]
  },
  {
   "cell_type": "code",
   "execution_count": null,
   "metadata": {},
   "outputs": [],
   "source": [
    "# Parent Directory path Windows\n",
    "# parent_dir = \"D:/Pycharm projects/\"\n",
    "\n",
    "# define the name of the directory to be created\n",
    "data_parth = \"/media/tinashe/tinashe/ATP-data/retension/\"+sitecode"
   ]
  },
  {
   "cell_type": "code",
   "execution_count": null,
   "metadata": {},
   "outputs": [],
   "source": [
    "try:\n",
    "    os.makedirs(data_parth)\n",
    "except OSError:\n",
    "    print (\"Creation of the directory %s failed\" % data_parth)\n",
    "else:\n",
    "    print (\"Successfully created the directory %s\" % data_parth)"
   ]
  },
  {
   "cell_type": "code",
   "execution_count": null,
   "metadata": {},
   "outputs": [],
   "source": [
    "ext = \".dta\""
   ]
  },
  {
   "cell_type": "code",
   "execution_count": null,
   "metadata": {},
   "outputs": [],
   "source": [
    "visit_path =data_parth+\"/visits\"+ext\n",
    "pat_parth=data_parth+\"/patients\"+ext\n",
    "test_path=data_parth+\"/tests\"+ext\n",
    "status_path=data_parth+\"/status\"+ext\n",
    "app_path=data_parth+\"/appointments\"+ext\n",
    "med_path=data_parth+\"/medication\"+ext\n",
    "who_path=data_parth+\"/who_stage\"+ext"
   ]
  },
  {
   "cell_type": "markdown",
   "metadata": {},
   "source": [
    "### Cleaning WHO dataset for export"
   ]
  },
  {
   "cell_type": "code",
   "execution_count": null,
   "metadata": {},
   "outputs": [],
   "source": [
    "who_path"
   ]
  },
  {
   "cell_type": "code",
   "execution_count": null,
   "metadata": {},
   "outputs": [],
   "source": [
    "list(df_who_stage.select_dtypes(include=['object']).columns)"
   ]
  },
  {
   "cell_type": "code",
   "execution_count": null,
   "metadata": {},
   "outputs": [],
   "source": [
    "df_who_stage['date'] = df_who_stage['date'].astype(str)\n",
    "df_who_stage['art_id'] = df_who_stage['art_id'].astype(str)\n",
    "df_who_stage['WHO_Stage'] = df_who_stage['WHO_Stage'].astype(str)\n",
    "df_who_stage['follow_up_status'] = df_who_stage['follow_up_status'].astype(str)\n",
    "df_who_stage['Facilitycode'] = df_who_stage['Facilitycode'].astype(str)\n",
    "df_who_stage['Districtcode'] = df_who_stage['Districtcode'].astype(str)\n",
    "df_who_stage['WHO_Stage'] = df_who_stage['WHO_Stage'].astype(str)\n",
    "df_who_stage['Provincecode'] = df_who_stage['Provincecode'].astype(str)"
   ]
  },
  {
   "cell_type": "markdown",
   "metadata": {},
   "source": [
    "### Cleaning visits dataset for export"
   ]
  },
  {
   "cell_type": "code",
   "execution_count": null,
   "metadata": {},
   "outputs": [],
   "source": [
    "list(df_visits.select_dtypes(include=['object']).columns)"
   ]
  },
  {
   "cell_type": "code",
   "execution_count": null,
   "metadata": {},
   "outputs": [],
   "source": [
    "df_visits['art_id'] = df_visits['art_id'].astype(str)\n",
    "df_visits['visit_date'] = df_visits['visit_date'].astype(str)\n",
    "df_visits['patient_id'] = df_visits['patient_id'].astype(str)\n",
    "df_visits['visit_type'] = df_visits['visit_type'].astype(str)\n",
    "df_visits['functional_status'] = df_visits['functional_status'].astype(str)\n",
    "df_visits['Facilitycode'] = df_visits['Facilitycode'].astype(str)\n",
    "df_visits['Districtcode'] = df_visits['Districtcode'].astype(str)\n",
    "df_visits['Provincecode'] = df_who_stage['Provincecode'].astype(str)"
   ]
  },
  {
   "cell_type": "markdown",
   "metadata": {},
   "source": [
    " ### Cleaning patients dataset for export"
   ]
  },
  {
   "cell_type": "code",
   "execution_count": null,
   "metadata": {},
   "outputs": [],
   "source": [
    "list(df_art_patient.select_dtypes(include=['object']).columns)"
   ]
  },
  {
   "cell_type": "code",
   "execution_count": null,
   "metadata": {},
   "outputs": [],
   "source": [
    "\n",
    "df_art_patient['art_id'] = df_art_patient['art_id'].astype(str)\n",
    "#df_art_patient['art_cohort_number'] = df_art_patient['art_cohort_number'].astype(str)\n",
    "df_art_patient['art_number'] = df_art_patient['art_number'].astype(str)\n",
    "df_art_patient['birth_date'] = df_art_patient['birth_date'].astype(str)\n",
    "df_art_patient['central_nervous_system'] = df_art_patient['central_nervous_system'].astype(str)\n",
    "df_art_patient['consent_to_personal_follow_up'] = df_art_patient['consent_to_personal_follow_up'].astype(str)\n",
    "df_art_patient['date'] = df_art_patient['date'].astype(str)\n",
    "df_art_patient['date_enrolled'] = df_art_patient['date_enrolled'].astype(str)\n",
    "\n",
    "df_art_patient['date_of_hiv_test'] = df_art_patient['date_of_hiv_test'].astype(str)\n",
    "df_art_patient['mental_status'] = df_art_patient['mental_status'].astype(str)\n",
    "df_art_patient['person_id'] = df_art_patient['person_id'].astype(str)\n",
    "df_art_patient['sex'] = df_art_patient['sex'].astype(str)\n",
    "\n",
    "df_art_patient['Facilitycode'] = df_art_patient['Facilitycode'].astype(str)\n",
    "df_art_patient['Districtcode'] = df_art_patient['Districtcode'].astype(str)\n",
    "df_art_patient['Provincecode'] = df_art_patient['Provincecode'].astype(str)"
   ]
  },
  {
   "cell_type": "code",
   "execution_count": null,
   "metadata": {},
   "outputs": [],
   "source": [
    "df_art_patient.tail()"
   ]
  },
  {
   "cell_type": "markdown",
   "metadata": {},
   "source": [
    "### Cleaning tests dataset for export"
   ]
  },
  {
   "cell_type": "code",
   "execution_count": null,
   "metadata": {},
   "outputs": [],
   "source": [
    "list(df_tests.select_dtypes(include=['object']).columns)"
   ]
  },
  {
   "cell_type": "code",
   "execution_count": null,
   "metadata": {},
   "outputs": [],
   "source": [
    "df_tests['person_investigation_id'] = df_tests['person_investigation_id'].astype(str)\n",
    "df_tests['date'] = df_tests['date'].astype(str)\n",
    "df_tests['investigation_id'] = df_tests['investigation_id'].astype(str)\n",
    "df_tests['note'] = df_tests['note'].astype(str)\n",
    "df_tests['person_id'] = df_tests['person_id'].astype(str)\n",
    "df_tests['result_id'] = df_tests['result_id'].astype(str)\n",
    "df_tests['result'] = df_tests['result'].astype(str)\n",
    "df_tests['sample_id'] = df_tests['sample_id'].astype(str)\n",
    "\n",
    "df_tests['sample'] = df_tests['sample'].astype(str)\n",
    "##df_tests['site_id'] = df_tests['site_id'].astype(str)\n",
    "df_tests['test_id'] = df_tests['test_id'].astype(str)\n",
    "df_tests['test'] = df_tests['test'].astype(str)\n",
    "\n",
    "df_tests['Facilitycode'] = df_tests['Facilitycode'].astype(str)\n",
    "df_tests['Districtcode'] = df_tests['Districtcode'].astype(str)\n",
    "df_tests['Provincecode'] = df_tests['Provincecode'].astype(str)"
   ]
  },
  {
   "cell_type": "markdown",
   "metadata": {},
   "source": [
    "### Cleaning status dataset for export"
   ]
  },
  {
   "cell_type": "code",
   "execution_count": null,
   "metadata": {},
   "outputs": [],
   "source": [
    "list(df_status.select_dtypes(include=['object']).columns)"
   ]
  },
  {
   "cell_type": "code",
   "execution_count": null,
   "metadata": {},
   "outputs": [],
   "source": [
    "df_status['art_id'] = df_status['art_id'].astype(str)\n",
    "df_status['date'] = df_status['date'].astype(str)\n",
    "df_status['arv_regimen'] = df_status['arv_regimen'].astype(str)\n",
    "df_status['regimen_line'] = df_status['regimen_line'].astype(str)\n",
    "df_status['arv_status'] = df_status['arv_status'].astype(str)\n",
    "\n",
    "df_status['Facilitycode'] = df_status['Facilitycode'].astype(str)\n",
    "df_status['Districtcode'] = df_status['Districtcode'].astype(str)\n",
    "df_status['Provincecode'] = df_status['Provincecode'].astype(str)"
   ]
  },
  {
   "cell_type": "markdown",
   "metadata": {},
   "source": [
    "### Cleaning appointments dataset for export"
   ]
  },
  {
   "cell_type": "code",
   "execution_count": null,
   "metadata": {},
   "outputs": [],
   "source": [
    "list(df_appointments.select_dtypes(include=['object']).columns)"
   ]
  },
  {
   "cell_type": "code",
   "execution_count": null,
   "metadata": {},
   "outputs": [],
   "source": [
    "df_appointments['art_id'] = df_appointments['art_id'].astype(str)\n",
    "df_appointments['followup_reason'] = df_appointments['followup_reason'].astype(str)\n",
    "df_appointments['date'] = df_appointments['date'].astype(str)\n",
    "df_appointments['followup_date'] = df_appointments['followup_date'].astype(str)\n",
    "\n",
    "df_appointments['Facilitycode'] = df_appointments['Facilitycode'].astype(str)\n",
    "df_appointments['Districtcode'] = df_appointments['Districtcode'].astype(str)\n",
    "df_appointments['Provincecode'] = df_appointments['Provincecode'].astype(str)"
   ]
  },
  {
   "cell_type": "markdown",
   "metadata": {},
   "source": [
    "### Cleaning medication dataset for export"
   ]
  },
  {
   "cell_type": "code",
   "execution_count": null,
   "metadata": {},
   "outputs": [],
   "source": [
    "list(df_medication.select_dtypes(include=['object']).columns)"
   ]
  },
  {
   "cell_type": "code",
   "execution_count": null,
   "metadata": {},
   "outputs": [],
   "source": [
    "df_medication['art_id'] = df_medication['art_id'].astype(str)\n",
    "df_medication['date'] = df_medication['date'].astype(str)\n",
    "df_medication['medicine_id'] = df_medication['medicine_id'].astype(str)\n",
    "df_medication['medicine'] = df_medication['medicine'].astype(str)\n",
    "\n",
    "df_medication['Facilitycode'] = df_medication['Facilitycode'].astype(str)\n",
    "df_medication['Districtcode'] = df_medication['Districtcode'].astype(str)\n",
    "df_medication['Provincecode'] = df_medication['Provincecode'].astype(str)"
   ]
  },
  {
   "cell_type": "code",
   "execution_count": null,
   "metadata": {},
   "outputs": [],
   "source": [
    "df_visits"
   ]
  },
  {
   "cell_type": "code",
   "execution_count": null,
   "metadata": {},
   "outputs": [],
   "source": [
    "df_who_stage"
   ]
  },
  {
   "cell_type": "code",
   "execution_count": null,
   "metadata": {},
   "outputs": [],
   "source": [
    "df_art_patient"
   ]
  },
  {
   "cell_type": "code",
   "execution_count": null,
   "metadata": {},
   "outputs": [],
   "source": [
    "df_tests"
   ]
  },
  {
   "cell_type": "code",
   "execution_count": null,
   "metadata": {},
   "outputs": [],
   "source": [
    "df_status"
   ]
  },
  {
   "cell_type": "code",
   "execution_count": null,
   "metadata": {},
   "outputs": [],
   "source": [
    "df_appointments"
   ]
  },
  {
   "cell_type": "code",
   "execution_count": null,
   "metadata": {},
   "outputs": [],
   "source": [
    "df_medication"
   ]
  },
  {
   "cell_type": "markdown",
   "metadata": {},
   "source": [
    "### Exporting to Local machine"
   ]
  },
  {
   "cell_type": "code",
   "execution_count": null,
   "metadata": {},
   "outputs": [],
   "source": [
    "df_visits.to_stata(visit_path, version=117, convert_strl = df_visits.columns[df_visits.isnull().all() & df_visits.dtypes==object].tolist())\n",
    "\n",
    "df_who_stage.to_stata(who_path, version=117, convert_strl = df_who_stage.columns[df_who_stage.isnull().all() & df_who_stage.dtypes==object].tolist())\n",
    "\n",
    "df_art_patient.to_stata(pat_parth, version=117, convert_strl = df_art_patient.columns[df_art_patient.isnull().all() & df_art_patient.dtypes==object].tolist())\n",
    "\n",
    "df_tests.to_stata(test_path, version=117, convert_strl = df_tests.columns[df_tests.isnull().all() & df_tests.dtypes==object].tolist())\n",
    "\n",
    "df_status.to_stata(status_path, version=117, convert_strl = df_status.columns[df_status.isnull().all() & df_status.dtypes==object].tolist())\n",
    "\n",
    "df_appointments.to_stata(app_path, version=117, convert_strl = df_appointments.columns[df_appointments.isnull().all() & df_appointments.dtypes==object].tolist())\n",
    "\n",
    "df_medication.to_stata(med_path, version=117, convert_strl = df_medication.columns[df_medication.isnull().all() & df_medication.dtypes==object].tolist())\n"
   ]
  },
  {
   "cell_type": "markdown",
   "metadata": {},
   "source": [
    "export_visits = df_visits.to_stata (visit_path)\n",
    "export_who_stage= df_who_stage.to_stata (who_path)\n",
    "export_pats= df_patients.to_stata (pat_parth)\n",
    "export_tests= df_tests.to_stata (test_path)\n",
    "export_stutus= df_status.to_stata (status_path)\n",
    "export_apps= df_appointments.to_stata (app_path)\n",
    "export_meds= df_medication.to_stata (med_path)"
   ]
  },
  {
   "cell_type": "code",
   "execution_count": null,
   "metadata": {},
   "outputs": [],
   "source": [
    "mydb.close()"
   ]
  }
 ],
 "metadata": {
  "kernelspec": {
   "display_name": "Python 3",
   "language": "python",
   "name": "python3"
  },
  "language_info": {
   "codemirror_mode": {
    "name": "ipython",
    "version": 3
   },
   "file_extension": ".py",
   "mimetype": "text/x-python",
   "name": "python",
   "nbconvert_exporter": "python",
   "pygments_lexer": "ipython3",
   "version": "3.7.6"
  }
 },
 "nbformat": 4,
 "nbformat_minor": 2
}
